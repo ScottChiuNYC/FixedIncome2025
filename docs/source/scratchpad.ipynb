{
 "cells": [
  {
   "cell_type": "markdown",
   "id": "d60d0801-0ee7-4d8d-b1d6-26836f778ef8",
   "metadata": {
    "editable": true,
    "slideshow": {
     "slide_type": ""
    },
    "tags": []
   },
   "source": [
    "## Bond Math Topics\n",
    "\n",
    "* Pricing/Discounting: present value of cash flows with spot/forward rates.\n",
    "    * Clean/Dirty Price: accrued interest, day-count conventions, settlement.\n",
    "    * Yield Measures: YTM, spot/par yields, equivalent compounding, money vs bond basis.\n",
    "    * Term Structure: bootstrapping, forward rates, no‑arbitrage relationships.\n",
    "    * Cash Flows: coupons, amortizing/annuity bonds, sinkers, TIPS indexation.  \n",
    "* Risk & Sensitivities\n",
    "    * Duration: Macaulay, modified, effective; DV01/PV01.\n",
    "    * Key‑Rate Duration: curve‑bucket exposures (2y, 5y, 10y, etc.).\n",
    "    * Convexity: second‑order price effects, duration‑convexity approximation. \n",
    "    * Carry & Roll‑Down: expected P&L from time/curve shape.\n",
    "    * Hedging/Immunization: barbell vs bullet, liability matching.\n",
    "* Instruments & Modeling\n",
    "    * Credit & Spreads: z‑spread, OAS (option‑adjusted spread), hazard/default intensity.\n",
    "    * Embedded Options: callable/putable/MBS prepayment modeling; lattice/Monte Carlo.\n",
    "    * Curve Fitting: Nelson–Siegel/Svensson, splines, smoothing constraints.\n",
    "    * Funding/Repo: discounting curves, collateral/CSA effects, multi‑curve setups.\n",
    "    * Performance/Attribution: return decomposition (income, price, curve, spread)."
   ]
  },
  {
   "cell_type": "markdown",
   "id": "21c57900-fa92-4f0b-abab-700dc8bdb646",
   "metadata": {
    "editable": true,
    "slideshow": {
     "slide_type": ""
    },
    "tags": []
   },
   "source": [
    "## Yield Curve Instruments\n",
    "\n",
    "* So far we've been looking the treasury yield curve which has terms, not instruments\n",
    "* The 2y point is on the curve every day but 2y treasuries are not issued/traded every day\n",
    "    * Recall that 1d after a 2y Treasury note is issued, it becomes 2y-1d\n",
    "    * On any given day, it's possible there is no Treasuries in the market that's exactly 2y long\n",
    "* Imagine a world where all Treasuries are ZCBs and newly issued every day for all tenors\n",
    "    * All numbers on the yield curve table below would be directly quoted from the market, no need for bootstrapping\n",
    "    * The yield curve buckets will be instruments, not just terms\n",
    "    * We still need curve interpolation to compute our inventories, for example a 2y-1d bond that we accquired yesterday"
   ]
  }
 ],
 "metadata": {
  "kernelspec": {
   "display_name": "Python 3 (ipykernel)",
   "language": "python",
   "name": "python3"
  },
  "language_info": {
   "codemirror_mode": {
    "name": "ipython",
    "version": 3
   },
   "file_extension": ".py",
   "mimetype": "text/x-python",
   "name": "python",
   "nbconvert_exporter": "python",
   "pygments_lexer": "ipython3",
   "version": "3.12.4"
  }
 },
 "nbformat": 4,
 "nbformat_minor": 5
}
