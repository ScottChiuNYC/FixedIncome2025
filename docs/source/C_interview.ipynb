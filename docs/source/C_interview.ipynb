{
 "cells": [
  {
   "cell_type": "markdown",
   "id": "83e95582-f39d-44aa-b42a-044b1292471e",
   "metadata": {},
   "source": [
    "# C. Tips on Interview Preparation\n",
    "\n",
    "Someone sent me an email asking for tips on quant internship interview prep. Below is my response, hopefully you all find it helpful. \n",
    "\n",
    "\n",
    "From what I have heard, in many banks, the first-round interview for summer intern candidates is already technical. There are too many candidates, so we want to filter out whoever is not ready, and we want to filter them out soon. Usually, a candidate comes into an interview without have learned most of the standard MFE course materials (stochastic calculus, fixed income market, etc.) and that's natural and expected by the interviewers, so we end up asking undergrad level questions. I cannot over emphasize the importance of the fundamentals, although the contents of the fundamentals depend on your undergrad major. If you are from a CS background, it's only reasonable if you are asked to code a popular algorithm like tree level order traversal or merge sort. I have a math background. I got asked to integrate exp(-x^2) from negative infinity to infinity when I was a new grad, and I constantly ask math major candidates this question. You will find interview books helpful when you review the fundamentals. \n",
    "\n",
    "That said, no matter what major you were in, be prepared to answer both math and coding problems. The difference is if you are from a CS background, you are not expected to know how to integrate exp(-x^2) from negative infinity to infinity, but simple questions from calculus or linear algebra are still reasonable. \n",
    "\n",
    "On the coding side, aside from the algorithms, we want candidates to know their programming languages. Be prepared to answer language specific questions like what is mutable and immutable if you say you are familiar with python on your resume, and questions on smart pointers if you say you are familiar with C++. Also be prepared to live code a simple class like vector or complex number. \n",
    "\n",
    "My best wishes. "
   ]
  }
 ],
 "metadata": {
  "kernelspec": {
   "display_name": "Python 3 (ipykernel)",
   "language": "python",
   "name": "python3"
  },
  "language_info": {
   "codemirror_mode": {
    "name": "ipython",
    "version": 3
   },
   "file_extension": ".py",
   "mimetype": "text/x-python",
   "name": "python",
   "nbconvert_exporter": "python",
   "pygments_lexer": "ipython3",
   "version": "3.12.4"
  }
 },
 "nbformat": 4,
 "nbformat_minor": 5
}
