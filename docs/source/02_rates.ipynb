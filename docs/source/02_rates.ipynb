{
 "cells": [
  {
   "cell_type": "markdown",
   "id": "d8167358-e0a2-4205-9c6c-85dca658b674",
   "metadata": {
    "editable": true,
    "slideshow": {
     "slide_type": "slide"
    },
    "tags": []
   },
   "source": [
    "# 2. Overview of Rates"
   ]
  },
  {
   "cell_type": "code",
   "execution_count": 3,
   "id": "b882bc5a-d0de-485c-879c-cb50e32f2a45",
   "metadata": {
    "editable": true,
    "slideshow": {
     "slide_type": ""
    },
    "tags": []
   },
   "outputs": [],
   "source": [
    "from fixedincome2025 import table"
   ]
  },
  {
   "cell_type": "markdown",
   "id": "0c377ca1-305d-4973-90a4-0d9e4cbc15ae",
   "metadata": {
    "editable": true,
    "slideshow": {
     "slide_type": "slide"
    },
    "tags": []
   },
   "source": [
    "## Overview\n",
    "\n",
    "* We have only seen US Treasury yield. There are many more different rates in the market\n",
    "* **Assignment:** Please read through Sections 4.1 - 4.3 of Options, Futures, and Other Derivatives 11th Edition by John Hull, Sankarshan Basu. \n"
   ]
  },
  {
   "cell_type": "markdown",
   "id": "bcd60045-84ca-46c7-bad0-401a7d6c87aa",
   "metadata": {
    "editable": true,
    "slideshow": {
     "slide_type": "slide"
    },
    "tags": []
   },
   "source": [
    "## Fed Funds Rates\n",
    "\n",
    "* At end of date each day, US banks are required by the regulator to maintain certain cash level (the reserve) depending on the business\n",
    "* A bank can have more/less than they are required\n",
    "* This leads to an interbank overnight lending market and the interest rate, determined by supply and demand, is the federal funds rate\n",
    "* Central bank is in the market and can control the target rate by buying US treasuries from participating banks\n",
    "* Fed funds rates are unsecured"
   ]
  },
  {
   "cell_type": "markdown",
   "id": "0cd1d100-5adb-415a-abdb-3a1c221d8548",
   "metadata": {
    "editable": true,
    "slideshow": {
     "slide_type": "slide"
    },
    "tags": []
   },
   "source": [
    "## SONIA and ESTER\n",
    "\n",
    "* Other countries have similar systems and unsecured overnight rates\n",
    "* In UK, it's the sterling overnight index average (SONIA)\n",
    "* In eurozone, it's the euro short-term rate (ESTER)"
   ]
  },
  {
   "cell_type": "markdown",
   "id": "53ad8488-e0d0-46ef-bd4a-4b156d948e83",
   "metadata": {
    "editable": true,
    "slideshow": {
     "slide_type": "slide"
    },
    "tags": []
   },
   "source": [
    "## Repo Rates\n",
    "\n",
    "* A repurchase agreement (repo) is a contract for bank A to sell a security to bank B and promise to buy it back next day at a slightly higher price\n",
    "* It is a secured lending transaction\n",
    "    * slightly lower than fed funds rates\n",
    "* There are overnight repos (the most common) and longer \"term repos\"\n",
    "* The underlying securities can be\n",
    "    * U.S. Treasury securities (most frequently used) due to their safety and market liquidity\n",
    "    * Corporate bonds\n",
    "    * Municipal bonds\n",
    "    * Mortgage-backed securities (MBS), often used in term repo"
   ]
  },
  {
   "cell_type": "markdown",
   "id": "c4123e9d-8592-4a26-8943-23ee0e4f4f1b",
   "metadata": {
    "editable": true,
    "slideshow": {
     "slide_type": "slide"
    },
    "tags": []
   },
   "source": [
    "## SOFR (Daily)\n",
    "\n",
    "* The secured overnight financing rate\n",
    "* Volume-weighted median average of the overnight repo rates in the US"
   ]
  },
  {
   "cell_type": "markdown",
   "id": "a272cef0-563a-4641-a8c3-819f91f5848c",
   "metadata": {
    "editable": true,
    "slideshow": {
     "slide_type": "slide"
    },
    "tags": []
   },
   "source": [
    "## The Risk-Free Rate\n",
    "\n",
    "* In financial modeling, when a risk-free rate is needed, SOFR is usually used\n",
    "* Why not US treasury? "
   ]
  },
  {
   "cell_type": "markdown",
   "id": "1d9b07d8-10ca-48a8-a4fe-cbeb0f5a3bf3",
   "metadata": {
    "editable": true,
    "slideshow": {
     "slide_type": "fragment"
    },
    "tags": []
   },
   "source": [
    "* Traders think US Treasury yield is too low to be used as the risk-free rate as\n",
    "    * Treasuries must be purchased by financial instritutions to fulfill regulatory requirements, which increases the demand of the Treasuries, driving the yield down\n",
    "    * The amount of capital a bank is required to hold to support an investment in the Treasuries is much smaller than other low-risk investments\n",
    "    * Tax advantages: Coupons from the Treasuries are exempt from state and local income taxes"
   ]
  },
  {
   "cell_type": "markdown",
   "id": "cd298675-7e76-44c7-b314-598c03534989",
   "metadata": {
    "editable": true,
    "slideshow": {
     "slide_type": "slide"
    },
    "tags": []
   },
   "source": [
    "## Referencing Rates (Index Rates)\n",
    "\n",
    "* Many interest rate products need an index rate\n",
    "* 5/1 ARM mortgage:\n",
    "    * Rates are fixed to be $5.37\\%$ for 5 years and floating after (meaning mortgate rates are different every month after 5 years)\n",
    "    * The floating rate is SOFR plus a fixed margin\n",
    "    * If your margin is $2.5\\%$ and the SOFR then is $3.75\\%$, then you'll be charged $3.75\\% + 2.5\\% = 6.25\\%$\n",
    "* The SOFR in this story is the index rate"
   ]
  },
  {
   "cell_type": "markdown",
   "id": "18722249-9225-49c0-a4ae-049954915ebd",
   "metadata": {
    "editable": true,
    "slideshow": {
     "slide_type": "slide"
    },
    "tags": []
   },
   "source": [
    "## LIBOR\n",
    "\n",
    "* Retired since 2021 but still an important concept in rates modeling\n",
    "* A daily survey published at 11:00 am LON time\n",
    "* The participating banks answer this question: What's the rate you want to charge today on a 3M lending?\n",
    "* The median average of the answer is today's 3M LIBOR rate\n",
    "* There were other tenors, like 1M LIBOR, 6M LIBOR rates surveyed and published daily\n",
    "* Unsecured\n",
    "* No lending actually happened"
   ]
  },
  {
   "cell_type": "markdown",
   "id": "103dad26-f072-413f-9369-fb42e79b797d",
   "metadata": {
    "editable": true,
    "slideshow": {
     "slide_type": "slide"
    },
    "tags": []
   },
   "source": [
    "## [LIBOR Scandal](https://en.wikipedia.org/wiki/Libor_scandal)\n",
    "\n",
    "* The LIBOR scandal is a series of fraudulent practices related to LIBOR that came in light in 2012\n",
    "* Manipulation\n",
    "    * Some banks engaged in fraudulent and collusive practices in submitting LIBOR rates, intentionally raising or lowering their bids to influence borrowing costs and profit\n",
    "* Impact\n",
    "    * LIBOR was widely used as a reference rate for many financial products, including mortgages and derivatives. Bank manipulation of LIBOR has a direct impact on consumers and financial markets worldwide\n",
    "    * Statistics show that between 2000 and 2009, LIBOR rates rose on the first day of each month, increasing the burden on homeowners' monthly payments\n",
    "* Subsequent Developments\n",
    "    * In June 2012, Barclays was fined $\\$453$ million, and UBS fined $\\$1.5$ billion, for manipulating LIBOR\n",
    "    * The UK authorities' investigation lasted 7 years and concluded in Oct 2019\n",
    "    * The scandal paved the way for the LIBOR cessation"
   ]
  },
  {
   "cell_type": "markdown",
   "id": "8bae5278-bd93-4b3e-a58d-d0c62c1f64e6",
   "metadata": {
    "editable": true,
    "slideshow": {
     "slide_type": "slide"
    },
    "tags": []
   },
   "source": [
    "## SOFR (Compounded Daily Rate; Term Rate)\n",
    "\n",
    "* If you keep borrowing at the overnight SOFR, and roll it to 3M, what's interest rate charge?\n",
    "* It's approximately\n",
    "$$\n",
    "\\frac{1}{\\tau}\\left(\\prod_j (1+\\Delta t_j r_j) - 1\\right), \n",
    "$$\n",
    "* $r_j$: overnight SOFR\n",
    "* $\\Delta t_j$: one day's year fraction, for example $1/360$ for week days and $3/360$ for a regular weekend\n",
    "* $\\tau$: year fraction of the term, for example $0.25$ for 3M\n",
    "* SOFR term rate is currently the most common and important index rate by far\n",
    "* Unlike LIBOR, SOFR is backward looking, which makes rates models different now"
   ]
  },
  {
   "cell_type": "markdown",
   "id": "d71168fb-7ea8-45ee-ae75-b371ba8f8adf",
   "metadata": {
    "editable": true,
    "slideshow": {
     "slide_type": "slide"
    },
    "tags": []
   },
   "source": [
    "## SOFR \n",
    "\n",
    "In the compounding formula \n",
    "$$\n",
    "\\frac{1}{\\tau}\\left(\\prod_j (1+\\Delta t_j r_j) - 1\\right), \n",
    "$$\n",
    "The term\n",
    "$$\n",
    "\\prod_j (1+\\Delta t_j r_j)\n",
    "$$\n",
    "is a more general version of \n",
    "$$\n",
    "\\left(1+ \\frac{r}{365}\\right)^{365}, \n",
    "$$\n",
    "which is close to $e^r$, a quantity slightly larger than one, as it's the terminal account value after rolling daily CD 365 times in a year. See the discussion on simple and continuous compounding in the previous set. The $-1$ is to compute the rate and $1/\\tau$ is to annualize it. "
   ]
  },
  {
   "cell_type": "markdown",
   "id": "87f7c51f-5bd0-43fc-8753-67e914c89c2c",
   "metadata": {
    "editable": true,
    "slideshow": {
     "slide_type": "slide"
    },
    "tags": []
   },
   "source": [
    "## CME Term SOFR\n",
    "\n",
    "* Term SOFR is a forward looking index rate different from SOFR\n",
    "* Sometimes client wants a forward looking rate so that they can prepare funds ahead of time\n",
    "* Quote implied from the SOFR futures, published daily by CME (more on SOFR futures later, which is also a CME product)\n",
    "* When market anticipate a rate cut, longer terms can have lower rates, like the data below"
   ]
  },
  {
   "cell_type": "code",
   "execution_count": 4,
   "id": "e7e69c11-0654-4708-92a1-4dd12df44176",
   "metadata": {
    "editable": true,
    "slideshow": {
     "slide_type": ""
    },
    "tags": []
   },
   "outputs": [
    {
     "data": {
      "text/html": [
       "<div>\n",
       "<style scoped>\n",
       "    .dataframe tbody tr th:only-of-type {\n",
       "        vertical-align: middle;\n",
       "    }\n",
       "\n",
       "    .dataframe tbody tr th {\n",
       "        vertical-align: top;\n",
       "    }\n",
       "\n",
       "    .dataframe thead th {\n",
       "        text-align: right;\n",
       "    }\n",
       "</style>\n",
       "<table border=\"1\" class=\"dataframe\">\n",
       "  <thead>\n",
       "    <tr style=\"text-align: right;\">\n",
       "      <th></th>\n",
       "      <th>Term SOFR 1M</th>\n",
       "      <th>Term SOFR 3M</th>\n",
       "      <th>Term SOFR 6M</th>\n",
       "      <th>Term SOFR 12M</th>\n",
       "    </tr>\n",
       "    <tr>\n",
       "      <th></th>\n",
       "      <th></th>\n",
       "      <th></th>\n",
       "      <th></th>\n",
       "      <th></th>\n",
       "    </tr>\n",
       "  </thead>\n",
       "  <tbody>\n",
       "    <tr>\n",
       "      <th>09-17-2025</th>\n",
       "      <td>4.13359 %</td>\n",
       "      <td>4.02304 %</td>\n",
       "      <td>3.85385 %</td>\n",
       "      <td>3.59516 %</td>\n",
       "    </tr>\n",
       "    <tr>\n",
       "      <th>09-16-2025</th>\n",
       "      <td>4.13584 %</td>\n",
       "      <td>4.02570 %</td>\n",
       "      <td>3.85447 %</td>\n",
       "      <td>3.60384 %</td>\n",
       "    </tr>\n",
       "    <tr>\n",
       "      <th>09-15-2025</th>\n",
       "      <td>4.14288 %</td>\n",
       "      <td>4.02330 %</td>\n",
       "      <td>3.84833 %</td>\n",
       "      <td>3.60702 %</td>\n",
       "    </tr>\n",
       "  </tbody>\n",
       "</table>\n",
       "</div>"
      ],
      "text/plain": [
       "           Term SOFR 1M Term SOFR 3M Term SOFR 6M Term SOFR 12M\n",
       "                                                               \n",
       "09-17-2025    4.13359 %    4.02304 %    3.85385 %     3.59516 %\n",
       "09-16-2025    4.13584 %    4.02570 %    3.85447 %     3.60384 %\n",
       "09-15-2025    4.14288 %    4.02330 %    3.84833 %     3.60702 %"
      ]
     },
     "execution_count": 4,
     "metadata": {},
     "output_type": "execute_result"
    }
   ],
   "source": [
    "table('term_sofr')"
   ]
  },
  {
   "cell_type": "markdown",
   "id": "b0b25a53-d4a2-4813-bc05-937e134399c3",
   "metadata": {
    "editable": true,
    "slideshow": {
     "slide_type": ""
    },
    "tags": []
   },
   "source": [
    "* Data from [here](https://www.global-rates.com/en/interest-rates/cme-term-sofr/)"
   ]
  },
  {
   "cell_type": "markdown",
   "id": "2fe747e8-82d3-4f43-8234-825f990440a9",
   "metadata": {
    "editable": true,
    "slideshow": {
     "slide_type": "slide"
    },
    "tags": []
   },
   "source": [
    "## CMT and CMS\n",
    "\n",
    "* A CMT (Constant Maturity Treasury) rate is for example the 10Y US Treasury yield (zero rate) observed daily\n",
    "* Notation is $R(t, t+\\text{10Y})$\n",
    "* Can also be 1Y, 2Y, 30Y, etc.\n",
    "* CMS is Constant Maturity Swap, say 10Y swap rate observed daily\n",
    "* More on interest rate swaps and swap rates later"
   ]
  }
 ],
 "metadata": {
  "kernelspec": {
   "display_name": "Python 3 (ipykernel)",
   "language": "python",
   "name": "python3"
  },
  "language_info": {
   "codemirror_mode": {
    "name": "ipython",
    "version": 3
   },
   "file_extension": ".py",
   "mimetype": "text/x-python",
   "name": "python",
   "nbconvert_exporter": "python",
   "pygments_lexer": "ipython3",
   "version": "3.12.4"
  }
 },
 "nbformat": 4,
 "nbformat_minor": 5
}
