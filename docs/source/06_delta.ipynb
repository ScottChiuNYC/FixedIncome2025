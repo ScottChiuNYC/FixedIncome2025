{
 "cells": [
  {
   "cell_type": "markdown",
   "id": "88462cf0-1c7b-4e78-a49d-e6309dd71663",
   "metadata": {
    "editable": true,
    "slideshow": {
     "slide_type": "slide"
    },
    "tags": []
   },
   "source": [
    "# 6. Delta Ladder"
   ]
  },
  {
   "cell_type": "code",
   "execution_count": 2,
   "id": "ed2748b7-4b15-4a20-ac71-e9be15ca3f63",
   "metadata": {
    "editable": true,
    "slideshow": {
     "slide_type": ""
    },
    "tags": []
   },
   "outputs": [],
   "source": [
    "from fixedincome2025 import table"
   ]
  },
  {
   "cell_type": "markdown",
   "id": "5ccc0781-c9ac-4a82-9d60-278462fcdd6c",
   "metadata": {
    "editable": true,
    "slideshow": {
     "slide_type": "slide"
    },
    "tags": []
   },
   "source": [
    "## Overview\n",
    "\n",
    "* Recall that, given $D^{\\$}$ and $C^{\\$}$, we can estimate the change of the value of a bond portfolio for parallel yield curve shift\n",
    "* As the yield curve doesn't always move parallelly, we need more granular control of the portfolio value for interest rate risk management\n",
    "* The Delta ladder is a risk managing tool for this purpose"
   ]
  },
  {
   "cell_type": "markdown",
   "id": "760a60be-aebb-47c9-b1f5-6ab0e7335abe",
   "metadata": {
    "editable": true,
    "slideshow": {
     "slide_type": "slide"
    },
    "tags": []
   },
   "source": [
    "## Bump and Revaluate and Delta Ladder\n",
    "\n",
    "* Having learned yield curve interpolation, we can obtain yield at any terms, and with that we can compute the value of arbitrary bonds/portfolios\n",
    "* Today's curve is the base scenario, and the portfolio value computed with today's curve is the base PV (present value)\n",
    "* Bumped curves:\n",
    "    * There are 14 buckets on the below curve\n",
    "    * Adding 1 bp to each bucket, we obtain 14 bumped curves\n",
    "        * The first one has yields $\\underline{4.24\\%}, 4.18\\%, 4.11\\%, \\ldots$\n",
    "        * The second one has yields $4.23\\%, \\underline{4.19\\%}, 4.11\\%, \\ldots$\n",
    "* Revaluate the same portfolio with the 14 bumped curves to obtain 14 PVs\n",
    "* These 14 PVs minus the base PV give you 14 PV differences, which form the Delta ladder"
   ]
  },
  {
   "cell_type": "code",
   "execution_count": 9,
   "id": "166e71dc-31ed-4298-b470-32f20157be78",
   "metadata": {
    "editable": true,
    "slideshow": {
     "slide_type": ""
    },
    "tags": []
   },
   "outputs": [
    {
     "data": {
      "text/html": [
       "<div>\n",
       "<style scoped>\n",
       "    .dataframe tbody tr th:only-of-type {\n",
       "        vertical-align: middle;\n",
       "    }\n",
       "\n",
       "    .dataframe tbody tr th {\n",
       "        vertical-align: top;\n",
       "    }\n",
       "\n",
       "    .dataframe thead th {\n",
       "        text-align: right;\n",
       "    }\n",
       "</style>\n",
       "<table border=\"1\" class=\"dataframe\">\n",
       "  <thead>\n",
       "    <tr style=\"text-align: right;\">\n",
       "      <th></th>\n",
       "      <th>1 Mo</th>\n",
       "      <th>1.5 Mo</th>\n",
       "      <th>2 Mo</th>\n",
       "      <th>3 Mo</th>\n",
       "      <th>4 Mo</th>\n",
       "      <th>6 Mo</th>\n",
       "      <th>1 Yr</th>\n",
       "      <th>2 Yr</th>\n",
       "      <th>3 Yr</th>\n",
       "      <th>5 Yr</th>\n",
       "      <th>7 Yr</th>\n",
       "      <th>10 Yr</th>\n",
       "      <th>20 Yr</th>\n",
       "      <th>30 Yr</th>\n",
       "    </tr>\n",
       "  </thead>\n",
       "  <tbody>\n",
       "    <tr>\n",
       "      <th>10/2/2025</th>\n",
       "      <td>4.23%</td>\n",
       "      <td>4.18%</td>\n",
       "      <td>4.11%</td>\n",
       "      <td>4.02%</td>\n",
       "      <td>3.96%</td>\n",
       "      <td>3.81%</td>\n",
       "      <td>3.62%</td>\n",
       "      <td>3.55%</td>\n",
       "      <td>3.56%</td>\n",
       "      <td>3.67%</td>\n",
       "      <td>3.86%</td>\n",
       "      <td>4.10%</td>\n",
       "      <td>4.66%</td>\n",
       "      <td>4.69%</td>\n",
       "    </tr>\n",
       "  </tbody>\n",
       "</table>\n",
       "</div>"
      ],
      "text/plain": [
       "            1 Mo 1.5 Mo   2 Mo   3 Mo   4 Mo   6 Mo   1 Yr   2 Yr   3 Yr  \\\n",
       "10/2/2025  4.23%  4.18%  4.11%  4.02%  3.96%  3.81%  3.62%  3.55%  3.56%   \n",
       "\n",
       "            5 Yr   7 Yr  10 Yr  20 Yr  30 Yr  \n",
       "10/2/2025  3.67%  3.86%  4.10%  4.66%  4.69%  "
      ]
     },
     "execution_count": 9,
     "metadata": {},
     "output_type": "execute_result"
    }
   ],
   "source": [
    "table('yc_10022025').T"
   ]
  },
  {
   "cell_type": "markdown",
   "id": "6e2aca88-445d-472f-bb6a-54c8a5d1bff5",
   "metadata": {
    "editable": true,
    "slideshow": {
     "slide_type": "slide"
    },
    "tags": []
   },
   "source": [
    "## Delta Ladder and PnL Computation\n",
    "\n",
    "* Also known as the bucketed Delta, or index Delta"
   ]
  },
  {
   "cell_type": "code",
   "execution_count": 16,
   "id": "286ac223-6e54-4d40-9cb8-059641985b32",
   "metadata": {
    "editable": true,
    "slideshow": {
     "slide_type": ""
    },
    "tags": []
   },
   "outputs": [
    {
     "data": {
      "text/html": [
       "<div>\n",
       "<style scoped>\n",
       "    .dataframe tbody tr th:only-of-type {\n",
       "        vertical-align: middle;\n",
       "    }\n",
       "\n",
       "    .dataframe tbody tr th {\n",
       "        vertical-align: top;\n",
       "    }\n",
       "\n",
       "    .dataframe thead th {\n",
       "        text-align: right;\n",
       "    }\n",
       "</style>\n",
       "<table border=\"1\" class=\"dataframe\">\n",
       "  <thead>\n",
       "    <tr style=\"text-align: right;\">\n",
       "      <th></th>\n",
       "      <th>1m</th>\n",
       "      <th>1.5m</th>\n",
       "      <th>2m</th>\n",
       "      <th>3m</th>\n",
       "      <th>4m</th>\n",
       "      <th>6m</th>\n",
       "      <th>1y</th>\n",
       "      <th>2y</th>\n",
       "      <th>3y</th>\n",
       "      <th>5y</th>\n",
       "      <th>7y</th>\n",
       "      <th>10y</th>\n",
       "      <th>20y</th>\n",
       "      <th>30y</th>\n",
       "      <th>Sum</th>\n",
       "    </tr>\n",
       "  </thead>\n",
       "  <tbody>\n",
       "    <tr>\n",
       "      <th>Delta</th>\n",
       "      <td>-185</td>\n",
       "      <td>-231</td>\n",
       "      <td>-303</td>\n",
       "      <td>-275</td>\n",
       "      <td>-690</td>\n",
       "      <td>778</td>\n",
       "      <td>-3739</td>\n",
       "      <td>-2320</td>\n",
       "      <td>314</td>\n",
       "      <td>-65</td>\n",
       "      <td>23</td>\n",
       "      <td>-6</td>\n",
       "      <td>1</td>\n",
       "      <td>0</td>\n",
       "      <td>-6698</td>\n",
       "    </tr>\n",
       "  </tbody>\n",
       "</table>\n",
       "</div>"
      ],
      "text/plain": [
       "        1m  1.5m   2m   3m   4m   6m    1y    2y   3y  5y  7y  10y  20y  30y  \\\n",
       "Delta -185  -231 -303 -275 -690  778 -3739 -2320  314 -65  23   -6    1    0   \n",
       "\n",
       "        Sum  \n",
       "Delta -6698  "
      ]
     },
     "execution_count": 16,
     "metadata": {},
     "output_type": "execute_result"
    }
   ],
   "source": [
    "table('delta_ladder').T"
   ]
  },
  {
   "cell_type": "markdown",
   "id": "30e67680-181d-4d90-9706-1419b8154981",
   "metadata": {
    "editable": true,
    "slideshow": {
     "slide_type": ""
    },
    "tags": []
   },
   "source": [
    "* The risk in the above example is concentrated at at 1-2y part of the curve\n",
    "* Profit and loss (PnL) computation:\n",
    "    * Scenario 1: The 1m point of the curve is up 1 bp, while all other points unchanged\n",
    "        * We will lose $\\$185$ on the portfolio\n",
    "    * Scenario 2: The 6m point is up 1 bp, while all other points unchanged\n",
    "        * We will make a profit of $\\$778$ on the portfolio\n",
    "    * Scenario 3: The 1m and 6m points are both up 1 bp, while all other points unchanged\n",
    "        * Portfolio PnL will be $778-185 = \\$593$"
   ]
  },
  {
   "cell_type": "markdown",
   "id": "7b08d53b-33cc-4d24-98a5-2a5b37e02259",
   "metadata": {
    "editable": true,
    "slideshow": {
     "slide_type": "slide"
    },
    "tags": []
   },
   "source": [
    "## Delta Ladder and PnL Computation (Cont.)"
   ]
  },
  {
   "cell_type": "code",
   "execution_count": 16,
   "id": "692c6a2d-9eb2-408d-b241-2fb90e3cea40",
   "metadata": {
    "editable": true,
    "slideshow": {
     "slide_type": ""
    },
    "tags": []
   },
   "outputs": [
    {
     "data": {
      "text/html": [
       "<div>\n",
       "<style scoped>\n",
       "    .dataframe tbody tr th:only-of-type {\n",
       "        vertical-align: middle;\n",
       "    }\n",
       "\n",
       "    .dataframe tbody tr th {\n",
       "        vertical-align: top;\n",
       "    }\n",
       "\n",
       "    .dataframe thead th {\n",
       "        text-align: right;\n",
       "    }\n",
       "</style>\n",
       "<table border=\"1\" class=\"dataframe\">\n",
       "  <thead>\n",
       "    <tr style=\"text-align: right;\">\n",
       "      <th></th>\n",
       "      <th>1m</th>\n",
       "      <th>1.5m</th>\n",
       "      <th>2m</th>\n",
       "      <th>3m</th>\n",
       "      <th>4m</th>\n",
       "      <th>6m</th>\n",
       "      <th>1y</th>\n",
       "      <th>2y</th>\n",
       "      <th>3y</th>\n",
       "      <th>5y</th>\n",
       "      <th>7y</th>\n",
       "      <th>10y</th>\n",
       "      <th>20y</th>\n",
       "      <th>30y</th>\n",
       "      <th>Sum</th>\n",
       "    </tr>\n",
       "  </thead>\n",
       "  <tbody>\n",
       "    <tr>\n",
       "      <th>Delta</th>\n",
       "      <td>-185</td>\n",
       "      <td>-231</td>\n",
       "      <td>-303</td>\n",
       "      <td>-275</td>\n",
       "      <td>-690</td>\n",
       "      <td>778</td>\n",
       "      <td>-3739</td>\n",
       "      <td>-2320</td>\n",
       "      <td>314</td>\n",
       "      <td>-65</td>\n",
       "      <td>23</td>\n",
       "      <td>-6</td>\n",
       "      <td>1</td>\n",
       "      <td>0</td>\n",
       "      <td>-6698</td>\n",
       "    </tr>\n",
       "  </tbody>\n",
       "</table>\n",
       "</div>"
      ],
      "text/plain": [
       "        1m  1.5m   2m   3m   4m   6m    1y    2y   3y  5y  7y  10y  20y  30y  \\\n",
       "Delta -185  -231 -303 -275 -690  778 -3739 -2320  314 -65  23   -6    1    0   \n",
       "\n",
       "        Sum  \n",
       "Delta -6698  "
      ]
     },
     "execution_count": 16,
     "metadata": {},
     "output_type": "execute_result"
    }
   ],
   "source": [
    "table('delta_ladder').T"
   ]
  },
  {
   "cell_type": "markdown",
   "id": "e54a73a5-38a2-4a76-98ce-9e82bbe3d8be",
   "metadata": {
    "editable": true,
    "slideshow": {
     "slide_type": ""
    },
    "tags": []
   },
   "source": [
    "* PnL computation:\n",
    "    * Scenario 4: The 1m point of the curve is up 2 bps, while all other points unchanged\n",
    "        * We will lose $185\\times 2 = \\$370$ on the portfolio\n",
    "    * Scenario 5: The 6m points is both up 1 bp and 1m point is up 2 bps, while all other points unchanged\n",
    "        * Portfolio PnL will be $778-370 = \\$408$\n",
    "    * Scenario 6: Curve parallel shifts up by 1 bp\n",
    "        * Portfolio PnL will be $-185-231-303 \\cdots -6 + 1 + 0 = -6698$, sum of bucketed delta\n",
    "        * For this reason, a bond portfolio's dollar duration $D^{\\$}$ should be always close to its sum of bucketed delta"
   ]
  },
  {
   "cell_type": "markdown",
   "id": "5a970295-ab75-4ee7-af0e-aec133c8d759",
   "metadata": {
    "editable": true,
    "slideshow": {
     "slide_type": "slide"
    },
    "tags": []
   },
   "source": [
    "## Delta Ladder and PnL Computation: Exercise"
   ]
  },
  {
   "cell_type": "code",
   "execution_count": 3,
   "id": "d00b2691-1997-41d7-b7f2-0bc29fc1824c",
   "metadata": {
    "editable": true,
    "slideshow": {
     "slide_type": ""
    },
    "tags": []
   },
   "outputs": [
    {
     "data": {
      "text/html": [
       "<div>\n",
       "<style scoped>\n",
       "    .dataframe tbody tr th:only-of-type {\n",
       "        vertical-align: middle;\n",
       "    }\n",
       "\n",
       "    .dataframe tbody tr th {\n",
       "        vertical-align: top;\n",
       "    }\n",
       "\n",
       "    .dataframe thead th {\n",
       "        text-align: right;\n",
       "    }\n",
       "</style>\n",
       "<table border=\"1\" class=\"dataframe\">\n",
       "  <thead>\n",
       "    <tr style=\"text-align: right;\">\n",
       "      <th></th>\n",
       "      <th>10/2/2025</th>\n",
       "      <th>10/3/2025</th>\n",
       "      <th>Rates Movement (bps)</th>\n",
       "      <th>Portfolio Delta Ladder</th>\n",
       "    </tr>\n",
       "  </thead>\n",
       "  <tbody>\n",
       "    <tr>\n",
       "      <th>1 Mo</th>\n",
       "      <td>4.23%</td>\n",
       "      <td>4.24%</td>\n",
       "      <td>1</td>\n",
       "      <td>-185</td>\n",
       "    </tr>\n",
       "    <tr>\n",
       "      <th>1.5 Mo</th>\n",
       "      <td>4.18%</td>\n",
       "      <td>4.17%</td>\n",
       "      <td>-1</td>\n",
       "      <td>-231</td>\n",
       "    </tr>\n",
       "    <tr>\n",
       "      <th>2 Mo</th>\n",
       "      <td>4.11%</td>\n",
       "      <td>4.11%</td>\n",
       "      <td>0</td>\n",
       "      <td>-303</td>\n",
       "    </tr>\n",
       "    <tr>\n",
       "      <th>3 Mo</th>\n",
       "      <td>4.02%</td>\n",
       "      <td>4.03%</td>\n",
       "      <td>1</td>\n",
       "      <td>-275</td>\n",
       "    </tr>\n",
       "    <tr>\n",
       "      <th>4 Mo</th>\n",
       "      <td>3.96%</td>\n",
       "      <td>3.96%</td>\n",
       "      <td>0</td>\n",
       "      <td>-690</td>\n",
       "    </tr>\n",
       "    <tr>\n",
       "      <th>6 Mo</th>\n",
       "      <td>3.81%</td>\n",
       "      <td>3.82%</td>\n",
       "      <td>1</td>\n",
       "      <td>778</td>\n",
       "    </tr>\n",
       "    <tr>\n",
       "      <th>1 Yr</th>\n",
       "      <td>3.62%</td>\n",
       "      <td>3.64%</td>\n",
       "      <td>2</td>\n",
       "      <td>-3739</td>\n",
       "    </tr>\n",
       "    <tr>\n",
       "      <th>2 Yr</th>\n",
       "      <td>3.55%</td>\n",
       "      <td>3.58%</td>\n",
       "      <td>3</td>\n",
       "      <td>-2320</td>\n",
       "    </tr>\n",
       "    <tr>\n",
       "      <th>3 Yr</th>\n",
       "      <td>3.56%</td>\n",
       "      <td>3.59%</td>\n",
       "      <td>3</td>\n",
       "      <td>314</td>\n",
       "    </tr>\n",
       "    <tr>\n",
       "      <th>5 Yr</th>\n",
       "      <td>3.67%</td>\n",
       "      <td>3.72%</td>\n",
       "      <td>5</td>\n",
       "      <td>-65</td>\n",
       "    </tr>\n",
       "    <tr>\n",
       "      <th>7 Yr</th>\n",
       "      <td>3.86%</td>\n",
       "      <td>3.90%</td>\n",
       "      <td>4</td>\n",
       "      <td>23</td>\n",
       "    </tr>\n",
       "    <tr>\n",
       "      <th>10 Yr</th>\n",
       "      <td>4.10%</td>\n",
       "      <td>4.13%</td>\n",
       "      <td>3</td>\n",
       "      <td>-6</td>\n",
       "    </tr>\n",
       "    <tr>\n",
       "      <th>20 Yr</th>\n",
       "      <td>4.66%</td>\n",
       "      <td>4.69%</td>\n",
       "      <td>3</td>\n",
       "      <td>1</td>\n",
       "    </tr>\n",
       "    <tr>\n",
       "      <th>30 Yr</th>\n",
       "      <td>4.69%</td>\n",
       "      <td>4.71%</td>\n",
       "      <td>2</td>\n",
       "      <td>0</td>\n",
       "    </tr>\n",
       "  </tbody>\n",
       "</table>\n",
       "</div>"
      ],
      "text/plain": [
       "       10/2/2025 10/3/2025  Rates Movement (bps)  Portfolio Delta Ladder\n",
       "1 Mo       4.23%     4.24%                     1                    -185\n",
       "1.5 Mo     4.18%     4.17%                    -1                    -231\n",
       "2 Mo       4.11%     4.11%                     0                    -303\n",
       "3 Mo       4.02%     4.03%                     1                    -275\n",
       "4 Mo       3.96%     3.96%                     0                    -690\n",
       "6 Mo       3.81%     3.82%                     1                     778\n",
       "1 Yr       3.62%     3.64%                     2                   -3739\n",
       "2 Yr       3.55%     3.58%                     3                   -2320\n",
       "3 Yr       3.56%     3.59%                     3                     314\n",
       "5 Yr       3.67%     3.72%                     5                     -65\n",
       "7 Yr       3.86%     3.90%                     4                      23\n",
       "10 Yr      4.10%     4.13%                     3                      -6\n",
       "20 Yr      4.66%     4.69%                     3                       1\n",
       "30 Yr      4.69%     4.71%                     2                       0"
      ]
     },
     "execution_count": 3,
     "metadata": {},
     "output_type": "execute_result"
    }
   ],
   "source": [
    "table('yc_10022025_10032025')"
   ]
  },
  {
   "cell_type": "markdown",
   "id": "ba8c9c2a-5499-4f9a-a05a-ba0fb9a7f260",
   "metadata": {
    "editable": true,
    "slideshow": {
     "slide_type": "slide"
    },
    "tags": []
   },
   "source": [
    "## Delta Ladder and PnL Computation: Answer\n",
    "\n",
    "* PnL is the rate movement times delta, bucket by bucket, and sum up the products\n",
    "$$\n",
    "(1)\\times(-185) + (-1)\\times(-231) + (0)\\times(-303) + \\cdots + (3)\\times(1) + 2\\times0 = -\\$13,195\n",
    "$$"
   ]
  }
 ],
 "metadata": {
  "kernelspec": {
   "display_name": "Python 3 (ipykernel)",
   "language": "python",
   "name": "python3"
  },
  "language_info": {
   "codemirror_mode": {
    "name": "ipython",
    "version": 3
   },
   "file_extension": ".py",
   "mimetype": "text/x-python",
   "name": "python",
   "nbconvert_exporter": "python",
   "pygments_lexer": "ipython3",
   "version": "3.12.4"
  }
 },
 "nbformat": 4,
 "nbformat_minor": 5
}
