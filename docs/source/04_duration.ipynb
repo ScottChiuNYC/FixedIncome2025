{
 "cells": [
  {
   "cell_type": "markdown",
   "id": "cffd957e-9dfb-483f-bda4-4341272916ff",
   "metadata": {
    "editable": true,
    "slideshow": {
     "slide_type": "slide"
    },
    "tags": []
   },
   "source": [
    "# 4. Duration and Convexity"
   ]
  },
  {
   "cell_type": "markdown",
   "id": "ccbd6c0d-6bfe-4e28-a3ef-6233ba2a82ae",
   "metadata": {
    "editable": true,
    "slideshow": {
     "slide_type": "slide"
    },
    "tags": []
   },
   "source": [
    "## Overview \n",
    "\n",
    "* Duration is an important concept that helps us to compute, quickly and approximately, how much the price of a bond should change in response to the yield change\n",
    "    * Expressed in years, but it’s not the same as time to maturity\n",
    "    * A sensitivity measure\n",
    "        * High duration: bond price sensitive to interest rate changes\n",
    "        * Low duration: insensitive, bond price stable\n",
    "* Duration also summarizes a portfolio of bonds to one number, making it easy to hedge"
   ]
  },
  {
   "cell_type": "markdown",
   "id": "8dfd6e8d-b948-4c32-85b8-9d17eedaa7f8",
   "metadata": {
    "editable": true,
    "slideshow": {
     "slide_type": "slide"
    },
    "tags": []
   },
   "source": [
    "## Bond Pricing Review\n",
    "\n",
    "* (Time $t=0$ price of) zero coupon bond: $P(0, T) = e^{-T\\times R(0, T)}$\n",
    "* Write in a simplified notation: \n",
    "$$\n",
    "B = e^{-TR}\n",
    "$$\n",
    "* Zero coupon bond with notional $\\mathcal N$: \n",
    "$$\n",
    "B = \\mathcal N e^{-TR}\n",
    "$$\n",
    "* Non-zero coupon bond that pays a fixed coupon $c$ at times $\\{T_1, T_2, \\ldots, T_N\\}$ and notional $\\mathcal N$ at maturity $T_N$:\n",
    "$$\n",
    "B = \\mathcal N e^{-T_NR_N} + \\sum_{j=1}^N c~e^{-T_j R_j}, \n",
    "$$\n",
    "where $R_j = R(0, T_j)$\n",
    "* Despite the seemingly involved notations, it's simply sum of discounted future cash flows"
   ]
  },
  {
   "cell_type": "markdown",
   "id": "4c49c483-ae08-4b59-94c8-ebe60adaa67c",
   "metadata": {
    "editable": true,
    "slideshow": {
     "slide_type": "slide"
    },
    "tags": []
   },
   "source": [
    "## Bond Pricing Review (Cont.)\n",
    "\n",
    "\\begin{align*}\n",
    "B &= \\mathcal N e^{-T_NR_N} + \\sum_{j=1}^N c~e^{-T_j R_j} \\\\\n",
    "&= c~e^{-T_1 R_1} + c~e^{-T_2 R_2} + \\cdots + c~e^{-T_N R_N} + \\mathcal N e^{-T_NR_N}\n",
    "\\end{align*}\n",
    "* Example from previous set's Bond Pricing: Exercise I: \n",
    "$$\n",
    "2.5 e^{-0.5\\times 0.0385} + 2.5 e^{-1\\times 0.0365} + 2.5 e^{-1.5\\times 0.0358} + 102.5 e^{-2\\times 0.0351} = \\$102.78\n",
    "$$\n",
    "* Here we have notional $\\mathcal N = 100$ and\n",
    "    * $c = 2.5$,\n",
    "    * $T_1 = 0.5$, $R_1 = 3.85\\%$,\n",
    "    * $T_2 = 1.0$, $R_2 = 3.65\\%$,\n",
    "    * $T_3 = 1.5$, $R_3 = 3.58\\%$\n",
    "    * $B = 102.78$"
   ]
  },
  {
   "cell_type": "markdown",
   "id": "69dd8a76-2044-4d70-a279-8413e970295a",
   "metadata": {
    "editable": true,
    "slideshow": {
     "slide_type": "slide"
    },
    "tags": []
   },
   "source": [
    "## Sensitivity of ZCB Price to Its Yield Change\n",
    "\n",
    "* Imagine, in a small period of time, the yield changes from $R$ to $R+\\Delta$ for some small $\\Delta$. The ZCB price before and after the yield change are respectively \n",
    "$$\n",
    "B(0) = e^{-TR} \\quad\\text{and}\\quad B(\\Delta) = e^{-T(R+\\Delta)}\n",
    "$$"
   ]
  },
  {
   "cell_type": "markdown",
   "id": "3ca56dbb-b59e-42f1-a02b-51764bf1df87",
   "metadata": {
    "editable": true,
    "slideshow": {
     "slide_type": "fragment"
    },
    "tags": []
   },
   "source": [
    "* We are treating $B$ as a function of the yield change $\\Delta$. Now find its first derivative at $\\Delta = 0$:\n",
    "\\begin{align*}\n",
    "&B'(0) = -Te^{-TR} \\approx \\frac{B(\\Delta) - B(0)}{\\Delta} \\\\\n",
    "\\iff& -TB(0) \\approx \\frac{B(\\Delta) - B(0)}{\\Delta} \\\\\n",
    "\\iff& -T\\Delta \\approx \\frac{B(\\Delta) - B(0)}{B(0)}\n",
    "\\end{align*}"
   ]
  },
  {
   "cell_type": "markdown",
   "id": "c84ec35d-19e8-4e0a-8257-063fe435dcf5",
   "metadata": {
    "editable": true,
    "slideshow": {
     "slide_type": "fragment"
    },
    "tags": []
   },
   "source": [
    "* Right hand side: percentage change of the ZCB price\n",
    "* Left hand side: Term times yield change in the opposite direction\n",
    "* Hence the negative sign\n",
    "* In the case of ZCB, the term $T$ is the sensitivivity and is called the (Macaulay) duration of this ZCB"
   ]
  },
  {
   "cell_type": "markdown",
   "id": "67eefa21-c5c6-4c20-9569-7d6e88427ca1",
   "metadata": {
    "editable": true,
    "slideshow": {
     "slide_type": "slide"
    },
    "tags": []
   },
   "source": [
    "## ZCB Duration Example\n",
    "\n",
    "$$\n",
    "-T\\Delta \\approx \\frac{B(\\Delta) - B(0)}{B(0)}\n",
    "$$\n",
    "* Duration of a ZCB is its term $T$\n",
    "* On a day when the yield drops $0.06\\% = 6\\text{ bps}$ across the entire curve, we have\n",
    "    * 1Y ZCB price up $0.06\\% = 0.06\\% \\times 1$\n",
    "    * 5Y ZCB price up $0.3\\% = 0.06\\% \\times 5$\n",
    "    * 10Y ZCB price up $0.6\\% = 0.06\\% \\times 10$\n",
    "    * 30Y ZCB price up $1.8\\% = 0.06\\% \\times 30$\n",
    "* The longer-term the bond is, the more sensitive it is to the yield change\n",
    "    * This is true for nonzero coupon bonds too, as we will see soon"
   ]
  },
  {
   "cell_type": "markdown",
   "id": "98e5ba2b-e902-4e50-ac0a-e163f248dbc9",
   "metadata": {
    "editable": true,
    "slideshow": {
     "slide_type": "fragment"
    },
    "tags": []
   },
   "source": [
    "* $1\\text{ bp}$ (basis point) is $0.01\\%$, a common unit of measurement in the rates market\n",
    "* Does the yield change by the same amount across the entire curve?\n",
    "    * Yes, more or less, most of the time, as we will see when we get to Principal Component Analysis (PCA)\n",
    "    * Yield changing by the same amount across the entire curve is so common it has a name \"parallel shift of the curve\""
   ]
  },
  {
   "cell_type": "markdown",
   "id": "b88dda87-b7bf-4f6f-93de-f3e562eb10f5",
   "metadata": {
    "editable": true,
    "slideshow": {
     "slide_type": "slide"
    },
    "tags": []
   },
   "source": [
    "## Sensitivity of Coupon Bond Price to Yield Change\n",
    "\n",
    "* We repeat the same exercise but for coupon bonds\n",
    "* Imagine, in a small period of time, the yields at all tenors change from $R_j$ to $R_j+\\Delta$ for the same small amount $\\Delta$. The bond price before and after the yield change are respectively \n",
    "\\begin{align*}\n",
    "B(0) &= \\mathcal N e^{-T_NR_N} + \\sum_{j=1}^N c~e^{-T_j R_j} \\\\\n",
    "&= c~e^{-T_1 R_1} + c~e^{-T_2 R_2} + \\cdots + c~e^{-T_N R_N} + \\mathcal N e^{-T_NR_N}\n",
    "\\end{align*}\n",
    "and\n",
    "\\begin{align*}\n",
    "B(\\Delta) &= \\mathcal N e^{-T_N(R_N + \\Delta)} + \\sum_{j=1}^N c~e^{-T_j (R_j + \\Delta)} \\\\\n",
    "&= c~e^{-T_1 (R_1 + \\Delta)} + c~e^{-T_2 (R_2 + \\Delta)} + \\cdots + c~e^{-T_N (R_N + \\Delta)} + \\mathcal N e^{-T_N(R_N + \\Delta)}\n",
    "\\end{align*}\n",
    "* Next we find the first derivative of $B(\\Delta)$ at $\\Delta = 0$"
   ]
  },
  {
   "cell_type": "markdown",
   "id": "71b8ffba-5319-40ae-ad88-4ca65d721010",
   "metadata": {
    "editable": true,
    "slideshow": {
     "slide_type": "slide"
    },
    "tags": []
   },
   "source": [
    "## Sensitivity of Coupon Bond Price to Yield Change (Cont.)\n",
    "\n",
    "\n",
    "\\begin{align*}\n",
    "B(0) &= c~e^{-T_1 R_1} + c~e^{-T_2 R_2} + \\cdots + c~e^{-T_N R_N} + \\mathcal N e^{-T_NR_N}, \\\\\n",
    "B(\\Delta) &= c~e^{-T_1 (R_1 + \\Delta)} + c~e^{-T_2 (R_2 + \\Delta)} + \\cdots + c~e^{-T_N (R_N + \\Delta)} + \\mathcal N e^{-T_N(R_N + \\Delta)}, \n",
    "\\end{align*}\n",
    "* We find the first derivative of $B(\\Delta)$ at $\\Delta = 0$ to be \n",
    "\\begin{align*}\n",
    "B'(0) &= {\\color{red}-\\color{red}T_1}c~e^{-T_1 R_1} {\\color{red}-\\color{red}T_2} c~e^{-T_2 R_2} - \\cdots {\\color{red}-\\color{red}T_N} c~e^{-T_N R_N} {\\color{red}-\\color{red}T_N} \\mathcal N e^{-T_N R_N} \\approx \\frac{B(\\Delta) - B(0)}{\\Delta}\n",
    "\\end{align*}"
   ]
  },
  {
   "cell_type": "markdown",
   "id": "e7537148-bffc-488d-97bc-cc74548b1177",
   "metadata": {
    "editable": true,
    "slideshow": {
     "slide_type": "fragment"
    },
    "tags": []
   },
   "source": [
    "* To obtain the percentage change of bond price, multiply by $\\Delta/B(0)$ on both sides:\n",
    "\\begin{align*}\n",
    "{\\color{red}-}\\left(\\frac{{\\color{red}T_1}c~e^{-T_1 R_1} + {\\color{red}T_2} c~e^{-T_2 R_2} + \\cdots + {\\color{red}T_N} c~e^{-T_N R_N} + {\\color{red}T_N} \\mathcal N e^{-T_N R_N}}{B(0)}\\right)\\Delta \\approx \\frac{B(\\Delta) - B(0)}{B(0)}\n",
    "\\end{align*}\n",
    "* The quantity in the parentheses is the duration, denoted by $D$ hereafter, but it can be further simplified"
   ]
  },
  {
   "cell_type": "markdown",
   "id": "b990bb6c-ce61-4bf0-bfa7-3310649a398c",
   "metadata": {
    "editable": true,
    "slideshow": {
     "slide_type": "slide"
    },
    "tags": []
   },
   "source": [
    "## Duration of Coupon Bond\n",
    "\n",
    "* Yield change $\\Delta$ and percentage change of the bond price has the relation\n",
    "\\begin{align*}\n",
    "-D\\Delta \\approx \\frac{B(\\Delta) - B(0)}{B(0)}\n",
    "\\end{align*}\n",
    "where $D$ is the duration\n",
    "* Again a negative sign because left hand side is yield change which right hand side is bond price change"
   ]
  },
  {
   "cell_type": "markdown",
   "id": "aa86abbe-8001-48bb-9d44-04da91892827",
   "metadata": {
    "editable": true,
    "slideshow": {
     "slide_type": "slide"
    },
    "tags": []
   },
   "source": [
    "## Duration of Coupon Bond (Cont.)\n",
    "\n",
    "\\begin{align*}\n",
    "B(0) = c~e^{-T_1 R_1} + c~e^{-T_1 R_1} + \\cdots + c~e^{-T_N R_N} + \\mathcal N e^{-T_NR_N}\n",
    "\\end{align*}\n",
    "* Yield change $\\Delta$ and percentage change of the bond price has the relation\n",
    "\\begin{align*}\n",
    "-D\\Delta \\approx \\frac{B(\\Delta) - B(0)}{B(0)}, \n",
    "\\end{align*}\n",
    "where the duration $D$ is\n",
    "$$\n",
    "D = \\frac{{\\color{red}T_1}c~e^{-T_1 R_1} + {\\color{red}T_2} c~e^{-T_2 R_2} + \\cdots + {\\color{red}T_N} c~e^{-T_N R_N} + {\\color{red}T_N} \\mathcal N e^{-T_N R_N}}{B(0)}\n",
    "$$"
   ]
  },
  {
   "cell_type": "markdown",
   "id": "4b9cbe07-8072-44ec-8c9c-4dff9dd9be7d",
   "metadata": {
    "editable": true,
    "slideshow": {
     "slide_type": "fragment"
    },
    "tags": []
   },
   "source": [
    "$$\n",
    "= T_1 w_1 + T_2 w_2 + \\cdots + T_N w_N + T_N w_N^*, \n",
    "$$\n",
    "where\n",
    "\\begin{align*}\n",
    "w_j = \\frac{c~e^{-T_jR_j}}{B(0)}, \\quad\\forall j=1, 2, \\ldots, N, \\quad\\text{ and }\\quad w_N^* = \\frac{\\mathcal Ne^{-T_NR_N}}{B(0)}, \n",
    "\\end{align*}\n",
    "which satisfy $w_1 + w_2 + \\cdots + w_N + w_N^* = 1$"
   ]
  },
  {
   "cell_type": "markdown",
   "id": "a9ea292b-ef4e-4af2-834e-783e25e30635",
   "metadata": {
    "editable": true,
    "slideshow": {
     "slide_type": "slide"
    },
    "tags": []
   },
   "source": [
    "## Duration: Properties & Implications\n",
    "\n",
    "\\begin{align*}\n",
    "-D\\Delta \\approx \\frac{B(\\Delta) - B(0)}{B(0)}, \n",
    "\\end{align*}\n",
    "* The duration $D = T_1 w_1 + T_2 w_2 + \\cdots + T_N w_N + T_N w_N^*,$ where\n",
    "\\begin{align*}\n",
    "w_j = \\frac{c~e^{-T_jR_j}}{B(0)}, \\quad\\forall j=1, 2, \\ldots, N, \\quad\\text{ and }\\quad w_N^* = \\frac{\\mathcal Ne^{-T_NR_N}}{B(0)}, \n",
    "\\end{align*}\n",
    "which satisfy $w_1 + w_2 + \\cdots + w_N + w_N^* = 1$\n",
    "* Duration is a weighted average of all payment dates (the terms)"
   ]
  },
  {
   "cell_type": "markdown",
   "id": "d01e2169-decc-4c81-b35d-2f4e6f3f4b86",
   "metadata": {
    "editable": true,
    "slideshow": {
     "slide_type": "fragment"
    },
    "tags": []
   },
   "source": [
    "* Recall that fair price of a bond is sum of all cash flows discounted\n",
    "* Weights of duration are percentages of each discounted cash flow in the bond price"
   ]
  },
  {
   "cell_type": "markdown",
   "id": "89ddf320-2b1e-4bd4-b22f-722c0c23cc8f",
   "metadata": {
    "editable": true,
    "slideshow": {
     "slide_type": "fragment"
    },
    "tags": []
   },
   "source": [
    "* In the case of ZCB $(c = 0)$, this formula reduces to $D=T_N$, consistent with previous result"
   ]
  },
  {
   "cell_type": "markdown",
   "id": "c14e3099-c923-40de-bf38-07d375fecf35",
   "metadata": {
    "editable": true,
    "slideshow": {
     "slide_type": "slide"
    },
    "tags": []
   },
   "source": [
    "## Duration: Properties & Implications (Cont.)\n",
    "\n",
    "\\begin{align*}\n",
    "-D\\Delta \\approx \\frac{B(\\Delta) - B(0)}{B(0)}, \n",
    "\\end{align*}\n",
    "* The duration $D = T_1 w_1 + T_2 w_2 + \\cdots + T_N w_N + T_N w_N^*,$ where\n",
    "\\begin{align*}\n",
    "w_j = \\frac{c~e^{-T_jR_j}}{B(0)}, \\quad\\forall j=1, 2, \\ldots, N, \\quad\\text{ and }\\quad w_N^* = \\frac{\\mathcal Ne^{-T_NR_N}}{B(0)}, \n",
    "\\end{align*}\n",
    "which satisfy $w_1 + w_2 + \\cdots + w_N + w_N^* = 1$\n",
    "* Duration is a weighted average of all payment dates (the terms)"
   ]
  },
  {
   "cell_type": "markdown",
   "id": "c0af98f7-a85a-4db6-a549-f3d8671235ac",
   "metadata": {
    "editable": true,
    "slideshow": {
     "slide_type": "fragment"
    },
    "tags": []
   },
   "source": [
    "* Since $w_N^* \\gg w_j,$ the duration is still somewhat close to the bond's term $T_N$"
   ]
  },
  {
   "cell_type": "markdown",
   "id": "d25f5cd7-e2ac-4088-a9da-71e86756426d",
   "metadata": {
    "editable": true,
    "slideshow": {
     "slide_type": "fragment"
    },
    "tags": []
   },
   "source": [
    "* Previous conclusion \"the longer the bond is, the more sensitive it is to yield change\" is still valid"
   ]
  },
  {
   "cell_type": "markdown",
   "id": "b7aefc62-d495-423e-aa2b-211dcf391a41",
   "metadata": {
    "editable": true,
    "slideshow": {
     "slide_type": "fragment"
    },
    "tags": []
   },
   "source": [
    "* Since $T_1 < T_2 < \\cdots < T_N$, we know $D$ being a weighted average means $D \\le T_N$\n",
    "    * Coupons pulls the duration of a bond lower\n",
    "    * The higher the coupon rate is, the lower the duration ($w_j$'s larger)"
   ]
  },
  {
   "cell_type": "markdown",
   "id": "b7aa49ad-4594-46e1-abb5-b5b3d8758e97",
   "metadata": {
    "editable": true,
    "slideshow": {
     "slide_type": "slide"
    },
    "tags": []
   },
   "source": [
    "## Duration of Coupon Bond: Example\n",
    "\n",
    "* Example from previous set's Bond Pricing: Exercise I: \n",
    "\\begin{align*}\n",
    "B &= c~e^{-T_1 R_1} + c~e^{-T_2 R_2} + \\cdots + c~e^{-T_N R_N} + \\mathcal N e^{-T_NR_N}\\\\\\\\\n",
    "\\$102.78 &= 2.5 e^{-0.5\\times 0.0385} + 2.5 e^{-1\\times 0.0365} + 2.5 e^{-1.5\\times 0.0358} + 102.5 e^{-2\\times 0.0351}\n",
    "\\end{align*}\n",
    "* Duration is\n",
    "\\begin{align*}\n",
    "D &= \\left(T_1 c~e^{-T_1 R_1} + T_2 c~e^{-T_2 R_2} + \\cdots + T_N c~e^{-T_N R_N} + T_N \\mathcal N e^{-T_NR_N}\\right)/B\n",
    "\\end{align*}\n",
    "\\begin{align*}\n",
    "&= \\left(0.5\\times 2.5 e^{-0.5\\times 0.0385} + 1\\times 2.5 e^{-1\\times 0.0365} + 1.5\\times 2.5 e^{-1.5\\times 0.0358} + 2\\times 102.5 e^{-2\\times 0.0351}\\right)/102.78 = 1.9293 \\text{ (years)}\n",
    "\\end{align*}\n",
    "* If, today, the treasury yield is down 2 bps across the entire yield curve, the price of this bond will be up approximately $0.02\\%\\times 1.9293 = 0.039\\%$\n",
    "* If, today, the treasury yield is down 2 bps only for all tenors $\\le$ 2y, the bond price will still be up $0.039\\%$. (Why?)"
   ]
  },
  {
   "cell_type": "markdown",
   "id": "a9a45757-9e45-414d-829d-2f8e5b85ec04",
   "metadata": {
    "editable": true,
    "jp-MarkdownHeadingCollapsed": true,
    "slideshow": {
     "slide_type": "slide"
    },
    "tags": []
   },
   "source": [
    "## Duration of Coupon Bond: Example (Cont.)\n",
    "\n",
    "* $D = 1.9293$ is close to but shorter than the term 2y\n",
    "* The weights are \n",
    "\\begin{align*}\n",
    "w_1 &= 2.5 e^{-0.5\\times 0.0385}/102.78 = 0.02386,\\\\\n",
    "w_2 &= 2.5 e^{-1\\times 0.0365}/102.78 = 0.02345,\\\\\n",
    "w_3 &= 2.5 e^{-1.5\\times 0.0358}/102.78 = 0.02305,\\\\\n",
    "w_4 &= 2.5 e^{-2\\times 0.0351}/102.78 = 0.02267,\\\\\n",
    "w_4^* &= 100 e^{-2\\times 0.0351}/102.78 = 0.90699\n",
    "\\end{align*}\n",
    "* $w_4^* \\gg w_1 > w_2 > w_3 > w_4$"
   ]
  },
  {
   "cell_type": "markdown",
   "id": "5e2b48a4-43cb-4182-a4a6-325138e12f92",
   "metadata": {
    "editable": true,
    "slideshow": {
     "slide_type": "slide"
    },
    "tags": []
   },
   "source": [
    "## Duration of Coupon Bond: Exercise\n",
    "\n",
    "* Example from previous set's Bond Pricing: Exercise II: \n",
    "\\begin{align*}\n",
    "B &= c~e^{-T_1 R_1} + c~e^{-T_2 R_2} + \\cdots + c~e^{-T_N R_N} + \\mathcal N e^{-T_NR_N}\\\\\\\\\n",
    "\\$100.56 &= 2 e^{-0.5\\times 0.0385} + 2 e^{-1\\times 0.0365} + 102 e^{-1.5\\times 0.0358}\n",
    "\\end{align*}\n",
    "* What's its duration?\n",
    "* If, today, the treasury yield is up 5 bps across the entire yield curve, what's the percentage change of the bond price? "
   ]
  },
  {
   "cell_type": "markdown",
   "id": "8e539070",
   "metadata": {},
   "source": [
    "## Duration of Coupon Bond: Answer\n",
    "\n",
    "* What's its duration?\n",
    "\n",
    "\\begin{align*}\n",
    "w_1 &= 2 e^{-0.5 \\times 0.0385} / 100.56,\\\\\n",
    "w_2 &= 2 e^{-1 \\times 0.0365} / 100.56,\\\\\n",
    "w_3 &= 102 e^{-1.5 \\times 0.0358} / 100.56,\\\\\n",
    "D &= 0.5 w_1 + 1 w_2 + 1.5 w_3 \\approx 1.47\n",
    "\\end{align*}\n",
    "\n",
    "* If, today, the treasury yield is up 5 bps across the entire yield curve, what's the percentage change of the bond price?\n",
    "\n",
    "\\begin{align*}\n",
    "\\frac{B(\\Delta) - B(0)}{B(0)} &\\approx - D \\Delta \\\\\n",
    "&= -1.47 \\times 0.05 \\% \\\\\n",
    "&= -0.0735\\%\n",
    "\\end{align*}\n"
   ]
  },
  {
   "cell_type": "markdown",
   "id": "8d77feab-ae4a-48a2-a524-d26602137e4e",
   "metadata": {
    "editable": true,
    "slideshow": {
     "slide_type": "slide"
    },
    "tags": []
   },
   "source": [
    "## Dollar Duration\n",
    "\n",
    "* Recall that, with the Macaulay duration $D$, we have \n",
    "$$\n",
    "-D \\Delta \\approx \\frac{B(\\Delta) - B(0)}{B(0)}\n",
    "$$\n",
    "* The $\\Delta$ on the left hand side is the **absolute change** of the yield, while the right hand side is the **percentage change** of the bond price\n",
    "* To make the right hand side absolute change of the price too, multiply through by $B(0)$ and define the dollar duration\n",
    "$$\n",
    "D^{\\$} = DB(0)\n",
    "$$\n",
    "* We then obtain\n",
    "$$\n",
    "-D^{\\$} \\Delta \\approx B(\\Delta) - B(0)\n",
    "$$\n",
    "* It will be clear just a bit later why sometimes absolute changes are preferred "
   ]
  },
  {
   "cell_type": "markdown",
   "id": "0c8dfa8c-59d3-4118-b4dd-3dccff9e9731",
   "metadata": {
    "editable": true,
    "slideshow": {
     "slide_type": "slide"
    },
    "tags": []
   },
   "source": [
    "## DV01\n",
    "\n",
    "* A related sensitivity measure is DV01, the dollar value of 1 bp, also known as PV01, the present value of 1 bp\n",
    "* DV01 is the price change from a +1 bp paralle yield curve shift\n",
    "* For a bond, plugging $\\Delta = 1 \\text{bp} = 10^{-4}$ into $-D^{\\$} \\Delta \\approx B(\\Delta) - B(0)$, we have \n",
    "$$\n",
    "\\text{DV01} = -D^{\\$}\\times 10^{-4} \\approx B(\\Delta) - B(0)\n",
    "$$"
   ]
  },
  {
   "cell_type": "markdown",
   "id": "a37737fa-d167-4c86-bfb5-8eee776525dc",
   "metadata": {
    "editable": true,
    "slideshow": {
     "slide_type": "slide"
    },
    "tags": []
   },
   "source": [
    "## Duration of a Bond Portfolio\n",
    "\n",
    "* We repeat the same exercise for a portfolio of bonds\n",
    "* If I hold $M$ bonds whose prices are\n",
    "\\begin{align*}\n",
    "B_1 &= c_1e^{-T_1 R_1} + c_1e^{-T_2 R_2} + \\cdots + c_1e^{-T_N R_N} + \\mathcal N_1 e^{-T_{N_1}R_{N_1}}, \\\\\n",
    "B_2 &= c_2e^{-T_1 R_1} + c_2e^{-T_2 R_2} + \\cdots + c_2e^{-T_N R_N} + \\mathcal N_2 e^{-T_{N_2}R_{N_2}}, \\\\\n",
    "% B_3 &= c_3e^{-T_1 R_1} + c_3e^{-T_2 R_2} + \\cdots + c_3e^{-T_N R_N} + \\mathcal N_3 e^{-T_{N_3}R_{N_3}}, \\\\\n",
    "&\\qquad\\qquad\\qquad\\qquad\\qquad\\qquad\\vdots\\\\\n",
    "B_M &= c_Me^{-T_1 R_1} + c_Me^{-T_2 R_2} + \\cdots + c_Me^{-T_N R_N} + \\mathcal N_M e^{-T_{N_M}R_{N_M}}, \\\\\n",
    "\\end{align*}\n",
    "which sum up to be the portfolio value $P = \\sum_{j=0}^M B_j$\n",
    "* If, in a small period of time, the yields at all tenors change from $R_j$ to $R_j+\\Delta$ for the same small amount $\\Delta$. The bond prices become\n",
    "\\begin{align*}\n",
    "B_1(\\Delta) &= c_1e^{-T_1 (R_1 + \\Delta)} + c_1e^{-T_2 (R_2 + \\Delta)} + \\cdots + c_1e^{-T_{N_1} (R_{N_1} + \\Delta)} + \\mathcal N_1 e^{-T_{N_1}(R_{N_1} + \\Delta)},\\\\\n",
    "B_2(\\Delta) &= c_2e^{-T_1 (R_1 + \\Delta)} + c_2e^{-T_2 (R_2 + \\Delta)} + \\cdots + c_2e^{-T_{N_2} (R_{N_2} + \\Delta)} + \\mathcal N_2 e^{-T_{N_2}(R_{N_2} + \\Delta)}, \\\\\n",
    "&\\qquad\\qquad\\qquad\\qquad\\qquad\\qquad\\vdots\\\\\n",
    "B_M(\\Delta) &= c_Me^{-T_1 (R_1 + \\Delta)} + c_Me^{-T_2 (R_2 + \\Delta)} + \\cdots + c_Me^{-T_{N_M} (R_{N_M} + \\Delta)} + \\mathcal N_M e^{-T_{N_M}(R_{N_M} + \\Delta)},\n",
    "\\end{align*}\n",
    "which sum up to be the portfolio value $P(\\Delta) = \\sum_{j=0}^M B_j(\\Delta)$"
   ]
  },
  {
   "cell_type": "markdown",
   "id": "80bb9c5b-99fa-44d8-ae00-d50d3aaa1196",
   "metadata": {
    "editable": true,
    "slideshow": {
     "slide_type": "slide"
    },
    "tags": []
   },
   "source": [
    "## Duration of a Bond Portfolio (Cont.)\n",
    "\n",
    "* Find the first derivative of $P(\\Delta)$ at $\\Delta=0$:\n",
    "\\begin{align*}\n",
    "P'(0) =& \\sum_{j=0}^M B_j'(0)\\approx\\frac{P(\\Delta) - P(0)}{\\Delta}\\\\\n",
    "=& -T_1c_1e^{-T_1 R_1} -T_2 c_1e^{-T_2 R_2} - \\cdots -T_{N_1} c_1e^{-T_{N_1} R_{N_1}} -T_{N_1} \\mathcal N_1 e^{-T_{N_1}R_{N_1}} \\\\\n",
    "&-T_1 c_2e^{-T_1 R_1} -T_2 c_2e^{-T_2 R_2} - \\cdots -T_{N_2} c_2e^{-T_{N_2} R_{N_2}} -T_{N_2} \\mathcal N_2 e^{-T_{N_2}R_{N_2}} \\\\\n",
    "&\\qquad\\qquad\\qquad\\qquad\\qquad\\qquad\\vdots\\\\\n",
    "&- T_1 c_Me^{-T_1 R_1} -T_2 c_Me^{-T_2 R_2} - \\cdots -T_N c_Me^{-T_N R_N} -T_{N_M} \\mathcal N_M e^{-T_{N_M}R_{N_M}}\n",
    "\\end{align*}\n",
    "* Multiply by $\\Delta/P(0)$ on both side to get\n",
    "\\begin{align*}\n",
    "-\\Delta&\\left[\\left(T_1c_1e^{-T_1 R_1} + T_2 c_1e^{-T_2 R_2} + \\cdots + T_{N_1} c_1e^{-T_{N_1} R_{N_1}} + T_{N_1} \\mathcal N_1 e^{-T_{N_1}R_{N_1}} \\right.\\right.\\\\\n",
    "&+T_1 c_2e^{-T_1 R_1} + T_2 c_2e^{-T_2 R_2} + \\cdots + T_{N_2} c_2e^{-T_{N_2} R_{N_2}} + T_{N_2} \\mathcal N_2 e^{-T_{N_2}R_{N_2}} \\\\\n",
    "&\\qquad\\qquad\\qquad\\qquad\\qquad\\qquad\\vdots\\\\\n",
    "&\\left.\\left. +T_1 c_Me^{-T_1 R_1} + T_2 c_Me^{-T_2 R_2} + \\cdots + T_N c_Me^{-T_N R_N} +T_{N_M} \\mathcal N_M e^{-T_{N_M}R_{N_M}}\\right)/P(0)\\right] \\approx \\frac{P(\\Delta) - P(0)}{P(0)}\n",
    "\\end{align*}"
   ]
  },
  {
   "cell_type": "markdown",
   "id": "2f78a440-53de-4922-b329-fcd3f4ccd18b",
   "metadata": {
    "editable": true,
    "slideshow": {
     "slide_type": "slide"
    },
    "tags": []
   },
   "source": [
    "## Duration of a Bond Portfolio (Cont..)\n",
    "\n",
    "\\begin{align*}\n",
    "-\\Delta&\\left[\\left(T_1c_1e^{-T_1 R_1} + T_2 c_1e^{-T_2 R_2} + \\cdots + T_{N_1} c_1e^{-T_{N_1} R_{N_1}} + T_{N_1} \\mathcal N_1 e^{-T_{N_1}R_{N_1}} \\right.\\right.\\\\\n",
    "&+T_1 c_2e^{-T_1 R_1} + T_2 c_2e^{-T_2 R_2} + \\cdots + T_{N_2} c_2e^{-T_{N_2} R_{N_2}} + T_{N_2} \\mathcal N_2 e^{-T_{N_2}R_{N_2}} \\\\\n",
    "&\\qquad\\qquad\\qquad\\qquad\\qquad\\qquad\\vdots\\\\\n",
    "&\\left.\\left. +T_1 c_Me^{-T_1 R_1} + T_2 c_Me^{-T_2 R_2} + \\cdots + T_N c_Me^{-T_N R_N} +T_{N_M} \\mathcal N_M e^{-T_{N_M}R_{N_M}}\\right)/P(0)\\right] \\\\&\\approx \\frac{P(\\Delta) - P(0)}{P(0)}\n",
    "\\end{align*}\n",
    "* The quantity in the square brackets is the duration $D$ of the portfolio, and again we write\n",
    "\\begin{align*}\n",
    "-\\Delta D\\approx \\frac{P(\\Delta) - P(0)}{P(0)}\n",
    "\\end{align*}\n",
    "* Since, all $c_i e^{-T_jR_j}$ and $\\mathcal N_i e^{-T_{N_i}R_{N_i}}$ terms sum up to be the portfolio value $P(0)$, the duration $D$ is again a weighted average of all payment dates (terms) of future cash flows, with weights the corresponding discounted cash flows"
   ]
  },
  {
   "cell_type": "markdown",
   "id": "07c4ee1e-9067-4fa3-83ab-88c1c212da0c",
   "metadata": {
    "editable": true,
    "slideshow": {
     "slide_type": "slide"
    },
    "tags": []
   },
   "source": [
    "## Portfolio Duration: Properties & Implications\n",
    "\n",
    "* In general, the duration of a portfolio of future cash flows is the weighted average of all payment dates, with weights the corresponding discounted cash flows\n",
    "* Like the coupon bond case, since $\\mathcal N_i e^{-T_{N_i}R_{N_i}} \\gg c_i e^{-T_jR_j}$, portfolio duration is somewhat close to a weighted average of the terms of the bonds in the portfolio\n",
    "* But coupon pulls the duration lower, and again the higher the coupon rate is, the lower the duration"
   ]
  },
  {
   "cell_type": "markdown",
   "id": "c540d089-b35a-47b3-9984-fc6e61d265b3",
   "metadata": {
    "editable": true,
    "slideshow": {
     "slide_type": "slide"
    },
    "tags": []
   },
   "source": [
    "## Portfolio Dollar Duration\n",
    "\n",
    "* The portfolio version of dollar duration is defined as\n",
    "$$\n",
    "D^{\\$} = DP(0)\n",
    "$$\n",
    "and we have\n",
    "$$\n",
    "-D^{\\$} \\Delta \\approx P(\\Delta) - P(0)\n",
    "$$\n",
    "* This is saying, for small parallel shift of the curve, the value change of a portfolio is approximately equal to its dollar duration times the yield change, but in the opposite direction"
   ]
  },
  {
   "cell_type": "markdown",
   "id": "9ca935c4-fde8-46f9-bb20-52bd103cb554",
   "metadata": {
    "editable": true,
    "slideshow": {
     "slide_type": "slide"
    },
    "tags": []
   },
   "source": [
    "## Hedging by Duration\n",
    "\n",
    "* You can hedge a portfolio of bonds by making its dollar duration 0\n",
    "* If you want to hedge a portfolio of bonds with dollar duration $D^{\\$}$, add (buy or short sell) one more bond to it with dollar duration $-D^{\\$}$\n",
    "* Adding this one trade to the book, the entire portfolio will now have zero dollar duration and hence\n",
    "$$\n",
    "P(\\Delta) - P(0) \\approx -D^{\\$}\\Delta = 0\n",
    "$$\n",
    "* Why are we matching the dollar duration, not the duration? "
   ]
  },
  {
   "cell_type": "markdown",
   "id": "0d5a2fad-7520-41f8-a2b1-bd930f9477d4",
   "metadata": {
    "editable": true,
    "slideshow": {
     "slide_type": "slide"
    },
    "tags": []
   },
   "source": [
    "## Cost of Hedging\n",
    "\n",
    "$$\n",
    "$$\n",
    "\n",
    "$$\n",
    "D^{\\$} = DB(0)\n",
    "$$\n",
    "\n",
    "$$\n",
    "$$\n",
    "\n",
    "* We have a set amount for $-D^{\\$}$, but should we go high on $D$ or $B(0)$?"
   ]
  },
  {
   "cell_type": "markdown",
   "id": "ff452860-86bd-42ce-8950-9bfb135d19fa",
   "metadata": {
    "editable": true,
    "slideshow": {
     "slide_type": "slide"
    },
    "tags": []
   },
   "source": [
    "## Hedging by Duration (Cont.)\n",
    "\n",
    "* Adding one trade to the book, your portfolio now has zero dollar duration and is immune to small parallel shifts in the yield curve: \n",
    "$$\n",
    "P(\\Delta) - P(0) \\approx -D^{\\$}\\Delta = 0\n",
    "$$\n",
    "* It is still exposed to shifts that are either large or nonparallel. How to hedge those?\n",
    "    * Large parallel shift: By convexity\n",
    "    * Nonparallel shift: By PCA"
   ]
  },
  {
   "cell_type": "markdown",
   "id": "6fb4d1c0-1f4a-419d-8289-f86131f58212",
   "metadata": {
    "editable": true,
    "slideshow": {
     "slide_type": "slide"
    },
    "tags": []
   },
   "source": [
    "## Treasury ETFs\n",
    "\n",
    "* [etfdb.com](https://etfdb.com/)'s screener is a convenient tool to look up exchange-traded funds (ETFs)\n",
    "* Treasury ETFs can be found in: [etfdb.com](https://etfdb.com/) > ETF Screener > Asset Class > Bonds > Treasuries\n",
    "\n",
    "$$\n",
    "$$\n",
    "\n",
    "| Ticker | Fund | Duration (yrs) |\n",
    "|---|---|---|\n",
    "| SGOV | iShares 0-3 Month Treasury Bond ETF | 0.10 |\n",
    "| SHY  | iShares 1-3 Year Treasury Bond ETF | 1.85 |\n",
    "| IEI  | iShares 3-7 Year Treasury Bond ETF | 4.28 |\n",
    "| IEF  | iShares 7-10 Year Treasury Bond ETF | 7.05 |\n",
    "| TLH  | iShares 10-20 Year Treasury Bond ETF | 12.16 |\n",
    "| TLT  | iShares 20+ Year Treasury Bond ETF | 15.72 |\n",
    "\n",
    "$$\n",
    "$$\n",
    "\n",
    "* Each ETF will have their own product page with all details, expense ratio, duration (for bond ETFs), holdings and more\n",
    "* Long term Treasury bonds market data can be downloaded from: [TLT product page](https://www.ishares.com/us/products/239454/ishares-20-year-treasury-bond-etf) > Holdings > Detailed Holdings and Analytics"
   ]
  },
  {
   "cell_type": "markdown",
   "id": "8b69cb09-5334-4a37-8060-b72ad0d77897",
   "metadata": {
    "editable": true,
    "slideshow": {
     "slide_type": "slide"
    },
    "tags": []
   },
   "source": [
    "## Duration of TLT: Example\n",
    "\n",
    "* From 9/17 to 9/18 close, treasury yield [was up 6 bps](https://home.treasury.gov/resource-center/data-chart-center/interest-rates/TextView?type=daily_treasury_yield_curve&field_tdr_date_value=202509)\n",
    "    * Search \"treasury yield today\" to find this link\n",
    "* Form 9/17 to 9/18 close, TLT price [dropped from 90.12 to 89.19](https://finance.yahoo.com/quote/TLT/history/), or down $1.03\\%$\n",
    "    * Search TLT on [finance.yahoo.com](https://finance.yahoo.com/) > click Historical Data on the left\n",
    "$$\n",
    "0.06\\%\\times 15.72 = 0.9432\\%\n",
    "$$"
   ]
  },
  {
   "cell_type": "markdown",
   "id": "1166afb9-4559-45ae-8274-191916bd6b31",
   "metadata": {
    "editable": true,
    "slideshow": {
     "slide_type": "slide"
    },
    "tags": []
   },
   "source": [
    "## Duration and Volatility\n",
    "\n",
    "\\begin{align*}\n",
    "-D\\Delta \\approx \\frac{B(\\Delta) - B(0)}{B(0)}\n",
    "\\end{align*}\n",
    "* Short duration means bond price is stable; It does not change much no matter how much the yield curve moves\n",
    "    * An extreme example, the price of a bond maturing tomorrow (duration 1/365) should be very close to the notional principal, no matter how the market moves\n",
    "* Longer duration means bond price is more sensitive to yield change, so\n",
    " \n",
    "$$\n",
    "$$\n",
    "\n",
    "$$\n",
    "\\text{Long Duration} = \\text{Volatile Bond Price}\n",
    "$$"
   ]
  },
  {
   "cell_type": "markdown",
   "id": "f9b2bfdd-5e42-4e23-8c73-23a79b31df1f",
   "metadata": {
    "editable": true,
    "slideshow": {
     "slide_type": "slide"
    },
    "tags": []
   },
   "source": [
    "## Duration and Volatility (Cont.)\n",
    "\n",
    "$$\n",
    "$$\n",
    "\n",
    "$$\n",
    "\\text{Long Duration} = \\text{Volatile Bond Price}\n",
    "$$\n",
    "\n",
    "$$\n",
    "$$\n",
    "\n",
    "\n",
    "* Previous example, on a day when the yield drops $0.06\\% = 6\\text{ bps}$ across the entire curve: \n",
    "    * 1Y duration bond price up $0.06\\% = 0.06\\% \\times 1$\n",
    "    * 5Y duration bond price up $0.3\\% = 0.06\\% \\times 5$\n",
    "    * 10Y duration bond price up $0.6\\% = 0.06\\% \\times 10$\n",
    "    * 30Y duration bond price up $1.8\\% = 0.06\\% \\times 30$"
   ]
  },
  {
   "attachments": {
    "34f33c8d-36ca-4856-a2b4-8d0e3fb814cf.png": {
     "image/png": "[encoded data removed]"
    }
   },
   "cell_type": "markdown",
   "id": "a65849d7-3d54-41cf-9146-78659464ec38",
   "metadata": {
    "editable": true,
    "slideshow": {
     "slide_type": "slide"
    },
    "tags": []
   },
   "source": [
    "## Backtest Portfolio\n",
    "\n",
    "* [portfoliovisualizer.com](https://www.portfoliovisualizer.com/) > See all the Analytics Tools > Backtest Portfolio > Edit Portfolio\n",
    "\n",
    "$$\n",
    "$$\n",
    "\n",
    "![duration_vol.png](attachment:34f33c8d-36ca-4856-a2b4-8d0e3fb814cf.png)"
   ]
  },
  {
   "cell_type": "markdown",
   "id": "1f6e1e2c-ffb8-44ce-88ba-92f349d5deeb",
   "metadata": {
    "editable": true,
    "slideshow": {
     "slide_type": "slide"
    },
    "tags": []
   },
   "source": [
    "## Modified Duration\n",
    "\n",
    "* So far we've derived the formulas under the assumption that the yield $R_j$'s are expressed with continuous compounding\n",
    "* A different definition of the yield will lead to different formula\n",
    "* Consider the below definition of yield $R$: \n",
    "\\begin{align*}\n",
    "B = \\mathcal N \\left(1+\\frac{R}{m}\\right)^{-mT_N} + \\sum_{j=1}^N c\\left(1+\\frac{R}{m}\\right)^{-mT_j} \n",
    "\\end{align*}\n",
    "* Compared the above to the bond pricing formula\n",
    "\\begin{align*}\n",
    "B = \\mathcal N e^{-T_NR_N} + \\sum_{j=1}^N c~e^{-T_j R_j}, \n",
    "\\end{align*}\n",
    "in the new definition, the same yield $R$ is used for all terms, and it's expressed with a compounding frequency of $m$ times per year"
   ]
  },
  {
   "cell_type": "markdown",
   "id": "25844821-c9c3-4d1b-9665-39a3b1ec28fa",
   "metadata": {
    "editable": true,
    "slideshow": {
     "slide_type": "slide"
    },
    "tags": []
   },
   "source": [
    "## Modified Duration (Cont.)\n",
    "\n",
    "* With this new definition of $R$, we have \n",
    "$$\n",
    "-D^* \\Delta = \\frac{B(\\Delta) - B(0)}{B(0)}, \n",
    "$$\n",
    "where\n",
    "$$\n",
    "D^* = \\frac{D}{1+R/m}, \n",
    "$$\n",
    "with $D$ the discounted cash flow weighted terms as before"
   ]
  },
  {
   "cell_type": "markdown",
   "id": "d700e873-2e18-421a-bf95-4cec42031d1a",
   "metadata": {
    "editable": true,
    "slideshow": {
     "slide_type": "slide"
    },
    "tags": []
   },
   "source": [
    "## Modified Duration (Cont..)\n",
    "\n",
    "* Given \n",
    "\\begin{align*}\n",
    "B(\\Delta) &= \\mathcal N \\left(1+\\frac{R+\\Delta}{m}\\right)^{-mT_N} + \\sum_{j=1}^N c\\left(1+\\frac{R+\\Delta}{m}\\right)^{-mT_j}, \n",
    "\\end{align*}\n",
    "find the derivative $B'(0)$: \n",
    "\\begin{align*}\n",
    "B'(0) &= \\mathcal N \\left(1+\\frac{R}{m}\\right)^{-mT_N}\\left(-\\frac{T_N}{1+\\frac{R}{m}}\\right) + \\sum_{j=1}^N c\\left(1+\\frac{R}{m}\\right)^{-mT_j}\\left(-\\frac{T_j}{1+\\frac{R}{m}}\\right)\\\\\n",
    "&= -\\left[{\\color{red}T_N}\\mathcal N \\left(1+\\frac{R}{m}\\right)^{-mT_N} + \\sum_{j=1}^N {\\color{red}T_j} c\\left(1+\\frac{R}{m}\\right)^{-mT_j}\\right]/\\left(1+\\frac{R}{m}\\right)\\\\\n",
    "&\\approx\\frac{B(\\Delta) - B(0)}{\\Delta} \n",
    "\\end{align*}"
   ]
  },
  {
   "cell_type": "markdown",
   "id": "e923f6e4-0a32-4d48-9746-d71818c4dc4a",
   "metadata": {
    "editable": true,
    "slideshow": {
     "slide_type": "slide"
    },
    "tags": []
   },
   "source": [
    "## Modified Duration (Cont...)\n",
    "\n",
    "* We have\n",
    "\\begin{align*}\n",
    "-\\left[{\\color{red}T_N}\\mathcal N \\left(1+\\frac{R}{m}\\right)^{-mT_N} + \\sum_{j=1}^N {\\color{red}T_j} c\\left(1+\\frac{R}{m}\\right)^{-mT_j}\\right]/\\left(1+\\frac{R}{m}\\right) \\approx\\frac{B(\\Delta) - B(0)}{\\Delta} \n",
    "\\end{align*}\n",
    "* Multiply by $\\Delta/B(0)$ on both sides to obtain\n",
    "\\begin{align*}\n",
    "-\\Delta\\left[\\frac{{\\color{red}T_N}\\mathcal N \\left(1+\\frac{R}{m}\\right)^{-mT_N} + \\sum_{j=1}^N {\\color{red}T_j} c\\left(1+\\frac{R}{m}\\right)^{-mT_j}}{\\mathcal N \\left(1+\\frac{R}{m}\\right)^{-mT_N} + \\sum_{j=1}^N c\\left(1+\\frac{R}{m}\\right)^{-mT_j}}\\right]/\\left(1+\\frac{R}{m}\\right) \\approx\\frac{B(\\Delta) - B(0)}{B(0)}, \n",
    "\\end{align*}\n",
    "where the quantity in the square brackets is $D$ and we've used the fact\n",
    "\\begin{align*}\n",
    "B(0) = \\mathcal N \\left(1+\\frac{R}{m}\\right)^{-mT_N} + \\sum_{j=1}^N c\\left(1+\\frac{R}{m}\\right)^{-mT_j}\n",
    "\\end{align*}"
   ]
  },
  {
   "attachments": {},
   "cell_type": "markdown",
   "id": "3f47c0e1-2efc-4476-835d-4be26cdd11d8",
   "metadata": {
    "editable": true,
    "slideshow": {
     "slide_type": "slide"
    },
    "tags": []
   },
   "source": [
    "## Convexity of ZCB\n",
    "\n",
    "* The approximation\n",
    "$$\n",
    "-D \\Delta \\approx \\frac{B(\\Delta) - B(0)}{B(0)}\n",
    "$$\n",
    "is only accurate when $\\Delta$ is small. For large yield curve movement, we need 2nd order approximation\n",
    "* Consider the ZCB case\n",
    "\\begin{align*}\n",
    "B(\\Delta) &= e^{-(R+\\Delta)T} \\approx B(0) + \\Delta B'(0) + \\frac{\\Delta^2}{2} B''(0)\\\\\n",
    "&= B(0) - T\\Delta B(0) + T^2\\frac{\\Delta^2}{2} B(0)\n",
    "\\end{align*}\n",
    "* Divide through by $B(0)$ to obtain\n",
    "\\begin{align*}\n",
    "\\frac{B(\\Delta) - B(0)}{B(0)} \\approx - T\\Delta + T^2\\frac{\\Delta^2}{2}\\\\\n",
    "\\end{align*}\n",
    "* The 2nd term on the right hand side is an adjustment to the original approximation. $T^2$ is called the convexity, denoted by $C$ hereafter"
   ]
  },
  {
   "attachments": {},
   "cell_type": "markdown",
   "id": "3684428e-f541-41d7-a192-079b909c3dc3",
   "metadata": {
    "editable": true,
    "slideshow": {
     "slide_type": "slide"
    },
    "tags": []
   },
   "source": [
    "## Convexity of Coupon Bond\n",
    "\n",
    "* Taylor expansion of $B(\\Delta)$ at $\\Delta = 0$ gives\n",
    "$$\n",
    "B(\\Delta) \\approx B(0) + \\Delta B'(0) + \\frac{\\Delta^2}{2} B''(0), \n",
    "$$\n",
    "so \n",
    "$$\n",
    "\\frac{B(\\Delta) - B(0)}{B(0)} \\approx \\Delta \\frac{B'(0)}{B(0)} + \\frac{\\Delta^2}{2} \\frac{B''(0)}{B(0)}\n",
    "$$\n",
    "* We will define\n",
    "$$\n",
    "\\frac{B'(0)}{B(0)} = -D, \\qquad\\frac{B''(0)}{B(0)} = C\n",
    "$$\n",
    "and write\n",
    "$$\n",
    "\\frac{B(\\Delta) - B(0)}{B(0)} \\approx -D \\Delta + \\frac{1}{2}C\\Delta^2\n",
    "$$"
   ]
  },
  {
   "attachments": {},
   "cell_type": "markdown",
   "id": "2b9b1464-60e9-4fc8-99e0-5ce54661568b",
   "metadata": {
    "editable": true,
    "slideshow": {
     "slide_type": "slide"
    },
    "tags": []
   },
   "source": [
    "## Convexity of Coupon Bond (Cont.)\n",
    "\n",
    "$$\n",
    "$$\n",
    "\n",
    "$$\n",
    "\\frac{B(\\Delta) - B(0)}{B(0)} \\approx \\Delta \\frac{B'(0)}{B(0)} + \\frac{\\Delta^2}{2} \\frac{B''(0)}{B(0)}\n",
    "$$\n",
    "* We have\n",
    "\\begin{align*}\n",
    "B(\\Delta) &= \\mathcal N e^{-T_N(R_N+\\Delta)} + \\sum_{j=1}^N c~e^{-T_j (R_j+\\Delta)}, \\\\\n",
    "\\frac{B'(0)}{B(0)} &= -\\frac{{\\color{red}T_N}\\mathcal N e^{-T_NR_N} + \\sum_{j=1}^N {\\color{red}T_j}c~e^{-T_j R_j}}{\\mathcal N e^{-T_NR_N} + \\sum_{j=1}^N c~e^{-T_j R_j}} = -D,  \\\\\n",
    "\\frac{B''(0)}{B(0)} &= \\frac{{\\color{red}T_N^2}\\mathcal N e^{-T_NR_N} + \\sum_{j=1}^N {\\color{red}T_j^2}c~e^{-T_j R_j}}{\\mathcal N e^{-T_NR_N} + \\sum_{j=1}^N c~e^{-T_j R_j}} = C\n",
    "\\end{align*}"
   ]
  },
  {
   "cell_type": "markdown",
   "id": "ddf88679-95cb-49b6-a2e4-f51b2d6cfa93",
   "metadata": {
    "editable": true,
    "slideshow": {
     "slide_type": "slide"
    },
    "tags": []
   },
   "source": [
    "## Convexity: Properties & Implications\n",
    "\n",
    "$$\n",
    "$$\n",
    "\n",
    "\\begin{align*}\n",
    "D &= \\frac{{\\color{red}T_N}\\mathcal N e^{-T_NR_N} + \\sum_{j=1}^N {\\color{red}T_j}c~e^{-T_j R_j}}{\\mathcal N e^{-T_NR_N} + \\sum_{j=1}^N c~e^{-T_j R_j}},  \\\\\n",
    "C &= \\frac{{\\color{red}T_N^2}\\mathcal N e^{-T_NR_N} + \\sum_{j=1}^N {\\color{red}T_j^2}c~e^{-T_j R_j}}{\\mathcal N e^{-T_NR_N} + \\sum_{j=1}^N c~e^{-T_j R_j}}\n",
    "\\end{align*}"
   ]
  },
  {
   "cell_type": "markdown",
   "id": "1f71b58f-6689-43ba-960c-8d49fea8208c",
   "metadata": {
    "editable": true,
    "slideshow": {
     "slide_type": "fragment"
    },
    "tags": []
   },
   "source": [
    "* Duration is a weighted average of all payment date terms\n",
    "* Convexity is the weighted average of all payment date terms squared\n",
    "* Same weights as duration"
   ]
  },
  {
   "cell_type": "markdown",
   "id": "6ebd07d4-2fcb-457d-90ed-074d634e77c4",
   "metadata": {
    "editable": true,
    "slideshow": {
     "slide_type": "fragment"
    },
    "tags": []
   },
   "source": [
    "* Since $w_N^* \\gg w_j,$ the duration is close to the bond's term squared: $T_N^2$\n",
    "* For ZCB $(c=0)$, the convexity is equal to the term squared $T^2$\n",
    "* Like duration, high coupon rate pulls convexity lower"
   ]
  },
  {
   "cell_type": "markdown",
   "id": "78a68e5a-633e-49ec-a884-35c23e7364fa",
   "metadata": {
    "editable": true,
    "slideshow": {
     "slide_type": "slide"
    },
    "tags": []
   },
   "source": [
    "## Dollar Convexity\n",
    "\n",
    "* Recall that\n",
    "$$\n",
    "\\frac{B(\\Delta) - B(0)}{B(0)} \\approx -D \\Delta + \\frac{1}{2}C\\Delta^2\n",
    "$$\n",
    "* One side is absolute change but the other is the percentage change\n",
    "* Define the dollar duration and dollar convexity as \n",
    "$$\n",
    "D^{\\$} = DB(0), \\qquad C^{\\$} = CB(0), \n",
    "$$\n",
    "respectively. We then obtain\n",
    "$$\n",
    "B(\\Delta) - B(0) \\approx -D^{\\$} \\Delta + \\frac{1}{2}C^{\\$}\\Delta^2\n",
    "$$"
   ]
  },
  {
   "cell_type": "markdown",
   "id": "b0b05ea0-ce00-4416-8a0d-ec26b41ef18b",
   "metadata": {
    "editable": true,
    "slideshow": {
     "slide_type": "slide"
    },
    "tags": []
   },
   "source": [
    "## Portfolio Convexity and Portfolio Dollar Convexity\n",
    "\n",
    "* The duration and convexity of a portfolio of $M$ bonds are\n",
    "\\begin{align*}\n",
    "D &= \\frac{\\sum_{i=1}^M{\\color{red}T_{N_M}}\\mathcal N_M e^{-T_{N_M}R_{N_M}} + \\sum_{i=1}^M\\sum_{j=1}^N {\\color{red}T_j}c_i~e^{-T_j R_j}}{\\sum_{i=1}^M\\mathcal N_M e^{-T_{N_M}R_{N_M}} + \\sum_{i=1}^M\\sum_{j=1}^N c_i~e^{-T_j R_j}},  \\\\\n",
    "C &= \\frac{\\sum_{i=1}^M{\\color{red}T_{N_M}^2}\\mathcal N_M e^{-T_{N_M}R_{N_M}} + \\sum_{i=1}^M\\sum_{j=1}^N {\\color{red}T_j^2}c_i~e^{-T_j R_j}}{\\sum_{i=1}^M\\mathcal N_M e^{-T_{N_M}R_{N_M}} + \\sum_{i=1}^M\\sum_{j=1}^N c_i~e^{-T_j R_j}},  \n",
    "\\end{align*}\n",
    "respectively\n",
    "* And its dollar duration and dollar convexity are defined as\n",
    "$$\n",
    "D^{\\$} = DP(0), \\qquad C^{\\$} = CP(0), \n",
    "$$\n",
    "respectively\n",
    "* We have\n",
    "$$\n",
    "P(\\Delta) - P(0) \\approx -D^{\\$} \\Delta + \\frac{1}{2}C^{\\$}\\Delta^2\n",
    "$$"
   ]
  },
  {
   "cell_type": "markdown",
   "id": "ab31af68-f32b-439f-822c-85135c6f455c",
   "metadata": {
    "editable": true,
    "slideshow": {
     "slide_type": "slide"
    },
    "tags": []
   },
   "source": [
    "## Hedging by Duration and Convexity\n",
    "\n",
    "* We have shown that, if you make a portfolio's dollar duration zero, it's immune to small parallel shifts in the yield curve\n",
    "* To make it immune to large parallel shift, you need to make dollar convexity zero too, so that\n",
    "$$\n",
    "P(\\Delta) - P(0) \\approx -D^{\\$} \\Delta + \\frac{1}{2}C^{\\$}\\Delta^2 = 0\n",
    "$$\n",
    "* Suppose you are hedging a portfolio with dollar duration $D^{\\$}_P$ and dollar convexity $C^{\\$}_P$. If you could add a bond with dollar duration $-D^{\\$}_P$ and dollar convexity $-C^{\\$}_P$, you are done"
   ]
  },
  {
   "cell_type": "markdown",
   "id": "ae27375d-369a-4fd6-bf71-1c35a9d66b1b",
   "metadata": {
    "editable": true,
    "slideshow": {
     "slide_type": "fragment"
    },
    "tags": []
   },
   "source": [
    "* But in general this cannot be achieved by one single bond\n",
    "* With two equations ($-D^{\\$} = 0$ and $-C^{\\$} = 0$) we need two variables"
   ]
  },
  {
   "cell_type": "markdown",
   "id": "ab424e8c-e4e6-41de-86f3-27849f8b8921",
   "metadata": {
    "editable": true,
    "slideshow": {
     "slide_type": "slide"
    },
    "tags": []
   },
   "source": [
    "## Hedging by Duration and Convexity (Cont.)\n",
    "\n",
    "* Suppose we have two bonds $B_1$ and $B_2$:\n",
    "    * $B_1$ has dollar duration $D^{\\$}_1$ and dollar convexity $C^{\\$}_1$\n",
    "    * $B_2$ has dollar duration $D^{\\$}_2$ and dollar convexity $C^{\\$}_2$\n",
    "* Buy $h_1$ units of $B_1$ and $h_2$ units of $B_2$ so that\n",
    "\\begin{align*}\n",
    "&h_1 D^{\\$}_1 + h_2 D^{\\$}_2 = -D^{\\$}_P\\\\\n",
    "&h_1 C^{\\$}_1 + h_2 C^{\\$}_2 = -C^{\\$}_P\n",
    "\\end{align*}\n",
    "* Solve the system to obtain hedge ratio"
   ]
  },
  {
   "cell_type": "markdown",
   "id": "4f366e2d-4ea1-45c6-9b8c-f5425da08abc",
   "metadata": {
    "editable": true,
    "slideshow": {
     "slide_type": "slide"
    },
    "tags": []
   },
   "source": [
    "## Linear Systems for Hedging\n",
    "\n",
    "* It's not uncommon we need so solve a linear system to figure out the hedge ratio\n",
    "* Steps to hedge\n",
    "    1. Characterize factors (reasons) of the portfolio value change, in our example $\\Delta$ and $\\Delta^2$ \n",
    "    2. Write portfolio value change in terms of the factor changes\n",
    "    3. Find hedge (trades, in our example, bonds) and hedge ratio to make coefficients ($D$ and $C$ in our example) zero\n",
    "* We will see linear system for hedging again in PCA"
   ]
  },
  {
   "cell_type": "markdown",
   "id": "fdb61684-f12c-46a7-8be8-cdcf410eef2e",
   "metadata": {
    "editable": true,
    "slideshow": {
     "slide_type": "slide"
    },
    "tags": []
   },
   "source": [
    "## Hedging by Duration and Convexity (Cont..)\n",
    "\n",
    "* After all the hard work we have\n",
    "$$\n",
    "P(\\Delta) - P(0) \\approx -D^{\\$} \\Delta + \\frac{1}{2}C^{\\$}\\Delta^2 = 0\n",
    "$$\n",
    "* The portfolio is now immune to large parallel shifts in the yield curve\n",
    "* But still exposed to nonparallel shifts, which can be hedged by PCA"
   ]
  }
 ],
 "metadata": {
  "kernelspec": {
   "display_name": "Python 3 (ipykernel)",
   "language": "python",
   "name": "python3"
  },
  "language_info": {
   "codemirror_mode": {
    "name": "ipython",
    "version": 3
   },
   "file_extension": ".py",
   "mimetype": "text/x-python",
   "name": "python",
   "nbconvert_exporter": "python",
   "pygments_lexer": "ipython3",
   "version": "3.12.4"
  }
 },
 "nbformat": 4,
 "nbformat_minor": 5
}
