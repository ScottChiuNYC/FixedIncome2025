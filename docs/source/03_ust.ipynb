{
 "cells": [
  {
   "cell_type": "markdown",
   "id": "b8a9f95c-0158-4284-a934-82e10cc18263",
   "metadata": {
    "editable": true,
    "slideshow": {
     "slide_type": "slide"
    },
    "tags": []
   },
   "source": [
    "# 3. U.S. Treasuries"
   ]
  },
  {
   "cell_type": "code",
   "execution_count": 1,
   "id": "f392f207-ee1f-47ee-89d0-c2445406ae0f",
   "metadata": {
    "editable": true,
    "slideshow": {
     "slide_type": ""
    },
    "tags": []
   },
   "outputs": [],
   "source": [
    "from fixedincome2025 import table"
   ]
  },
  {
   "cell_type": "markdown",
   "id": "c5150a6c-15b0-4a57-b2b5-118cd3ae2d90",
   "metadata": {
    "editable": true,
    "slideshow": {
     "slide_type": "slide"
    },
    "tags": []
   },
   "source": [
    "## Reasons To Consider U.S. Treasuries\n",
    "\n",
    "* High credit quality\n",
    "    * As of Sept 2025, 58% of disclosed global official foreign exchange reserves is in USD-denominated assets, mostly in the Treasuries\n",
    "* Tax advantages\n",
    "* Highly liquid"
   ]
  },
  {
   "cell_type": "markdown",
   "id": "95ae1fe3-2d69-477d-b23b-970a3f982244",
   "metadata": {
    "editable": true,
    "slideshow": {
     "slide_type": "slide"
    },
    "tags": []
   },
   "source": [
    "## Types of Fixed Coupon U.S. Treasuries\n",
    "\n",
    "\n",
    "$$\n",
    "$$\n",
    "\n",
    "| Type         | Term Lengths                  | Payment Freq                                 |\n",
    "|--------------|-------------------------------|----------------------------------------------|\n",
    "| T-Bills      | 4, 8, 13, 17, 26, 52 weeks    | None (sold at discount and redeemed at par)  |\n",
    "| T-Notes      | 2, 3, 5, 7, 10 years          | 6M                                           |\n",
    "| T-Bonds      | 20, 30 years                  | 6M                                           |\n",
    "<!-- | TIPS         | 5, 10, 30 years               | 6M (adjusted with inflation)                 | -->\n",
    "\n",
    "\n",
    "$$\n",
    "$$\n"
   ]
  },
  {
   "cell_type": "markdown",
   "id": "af9960ab-2f10-4920-a2b2-315ed2763f2a",
   "metadata": {
    "editable": true,
    "slideshow": {
     "slide_type": "slide"
    },
    "tags": []
   },
   "source": [
    "## Example: 2-Year Treasury Note Cash Flows\n",
    "\n",
    "* Assuming:\n",
    "    * Today is Sep 2025\n",
    "    * Face Value: $\\$1,000$\n",
    "    * Coupon Rate: $4.5\\%$ annually  \n",
    "    * Semiannaual Coupon Payment:\n",
    "$$\n",
    "1000\\times 0.045 /2 = \\$22.5\n",
    "$$"
   ]
  },
  {
   "cell_type": "markdown",
   "id": "4af85835-cec2-4f8a-8b84-210829b7b761",
   "metadata": {
    "editable": true,
    "slideshow": {
     "slide_type": ""
    },
    "tags": []
   },
   "source": [
    "| Date       | Payment         |\n",
    "|------------|-----------------|\n",
    "| Mar 2026   | \\$22.50         |\n",
    "| Sep 2026   | \\$22.50         |\n",
    "| Mar 2027   | \\$22.50         |\n",
    "| Sep 2027   | \\$1,022.50      |"
   ]
  },
  {
   "cell_type": "markdown",
   "id": "7e991910-1ba7-4157-8bfb-b431621911a4",
   "metadata": {
    "editable": true,
    "slideshow": {
     "slide_type": "slide"
    },
    "tags": []
   },
   "source": [
    "## How To Buy\n",
    "\n",
    "* You can buy on [treasurydirect.gov](https://treasurydirect.gov/) or in your brokerage account\n",
    "* You can buy newly issued in an auction\n",
    "* You can buy or sell in a liquid secondary market\n",
    "* Auction frequency: \n",
    "\n",
    "$$\n",
    "$$\n",
    "\n",
    "| Type         | Term Lengths                  | Payment Freq | Auction Freq       |\n",
    "|--------------|-------------------------------|--------------|--------------------|\n",
    "| T-Bills      | 4, 8, 13, 17, 26, 52 weeks    | None         | Weekly             |\n",
    "| T-Bills      | 52 weeks                      | None         | Every 4 weeks      |\n",
    "| T-Notes      | 2, 3, 5, 7 years              | 6M           | Monthly            |\n",
    "| T-Notes      | 10 years                      | 6M           | Feb, May, Aug, Nov |\n",
    "| T-Bonds      | 20, 30 years                  | 6M           | Feb, May, Aug, Nov |\n",
    "<!-- | TIPS         | 5, 10, 30 years               | 6M (adjusted with inflation)                 | -->\n",
    "\n",
    "\n",
    "$$\n",
    "$$\n"
   ]
  },
  {
   "attachments": {
    "a82343b6-c2d5-495d-828f-b37a5091ed99.png": {
     "image/png": "[encoded data removed]"
    }
   },
   "cell_type": "markdown",
   "id": "f00a15eb-915b-4920-9007-b2c2e1f0b3ee",
   "metadata": {
    "editable": true,
    "slideshow": {
     "slide_type": "slide"
    },
    "tags": []
   },
   "source": [
    "## Bond Pricing\n",
    "\n",
    "* Given the Treasury yield curve, the bond price is sum of all cash flows discounted by $P(t, T) = e^{-(T-t)R(t, T)}$\n",
    "\n",
    "![yc_2y.png](attachment:a82343b6-c2d5-495d-828f-b37a5091ed99.png)\n",
    "\n",
    "* Assume today is Sep 2025 and the cash flow table\n",
    "\n",
    "| Date       | Payment         |\n",
    "|------------|-----------------|\n",
    "| Mar 2026   | \\$22.50         |\n",
    "| Sep 2026   | \\$22.50         |\n",
    "| Mar 2027   | \\$22.50         |\n",
    "| Sep 2027   | \\$1,022.50      |\n",
    "\n",
    "* Bond price is \n",
    "$$\n",
    "22.5 e^{-0.5\\times 0.0385} + 22.5 e^{-1\\times 0.0365} + 22.5 e^{-1.5\\times 0.0358} + 1022.5 e^{-2\\times 0.0351} = \\$1018.27\n",
    "$$\n",
    "<!-- * At the moment the Treasury yield curve is observed as the above table, such bond should be trading at $\\$1069.8$ -->"
   ]
  },
  {
   "attachments": {
    "a82343b6-c2d5-495d-828f-b37a5091ed99.png": {
     "image/png": "[encoded data removed]"
    }
   },
   "cell_type": "markdown",
   "id": "e1b9c37b-6b26-4e24-b4d8-cc90630da3e1",
   "metadata": {
    "editable": true,
    "slideshow": {
     "slide_type": "slide"
    },
    "tags": []
   },
   "source": [
    "## Bond Pricing: Exercise I\n",
    "\n",
    "![yc_2y.png](attachment:a82343b6-c2d5-495d-828f-b37a5091ed99.png)\n",
    "\n",
    "* Recall that the discount factor $P(t, T) = e^{-(T-t)R(t, T)}$\n",
    "* Consider a 2-year T-Note with face value $\\$100$ and annual coupon rate $5\\%$\n",
    "* What's the coupon payment? \n",
    "* What's the cash flow table?\n",
    "* What's the bond price? "
   ]
  },
  {
   "cell_type": "markdown",
   "id": "0ff54370-e031-493d-9279-ed469e0ea6b6",
   "metadata": {
    "editable": true,
    "slideshow": {
     "slide_type": "slide"
    },
    "tags": []
   },
   "source": [
    "## Bond Pricing: Exercise I (Cont.)\n",
    "\n",
    "* Semiannual coupon payment\n",
    "$$\n",
    "100\\times 0.05 /2 = \\$2.5\n",
    "$$\n",
    "\n",
    "* Cash flow table\n",
    "\n",
    "| Date       | Payment         |\n",
    "|------------|-----------------|\n",
    "| Mar 2026   | \\$2.50         |\n",
    "| Sep 2026   | \\$2.50         |\n",
    "| Mar 2027   | \\$2.50         |\n",
    "| Sep 2027   | \\$102.50      |\n",
    "\n",
    "* Bond price\n",
    "$$\n",
    "2.5 e^{-0.5\\times 0.0385} + 2.5 e^{-1\\times 0.0365} + 2.5 e^{-1.5\\times 0.0358} + 102.5 e^{-2\\times 0.0351} = \\$102.78\n",
    "$$"
   ]
  },
  {
   "attachments": {
    "a82343b6-c2d5-495d-828f-b37a5091ed99.png": {
     "image/png": "[encoded data removed]"
    }
   },
   "cell_type": "markdown",
   "id": "87d1ef8c-a3a7-4862-ad23-6f45e6925c5b",
   "metadata": {
    "editable": true,
    "slideshow": {
     "slide_type": "slide"
    },
    "tags": []
   },
   "source": [
    "## Bond Pricing: Exercise II\n",
    "\n",
    "![yc_2y.png](attachment:a82343b6-c2d5-495d-828f-b37a5091ed99.png)\n",
    "\n",
    "* Recall that the discount factor $P(t, T) = e^{-(T-t)R(t, T)}$\n",
    "* Consider a 1.5-year T-Note with face value $\\$100$ and annual coupon rate $4\\%$\n",
    "* What's the coupon payment? \n",
    "* What's the cash flow table?\n",
    "* What's the bond price? "
   ]
  },
  {
   "cell_type": "markdown",
   "id": "3ac88b86-c82d-41d6-9881-eb92213bf0b5",
   "metadata": {
    "editable": true,
    "slideshow": {
     "slide_type": "slide"
    },
    "tags": []
   },
   "source": [
    "## Bond Pricing: Exercise II (Cont.)\n",
    "\n",
    "* Semiannual coupon payment\n",
    "$$\n",
    "100\\times 0.04 /2 = \\$2\n",
    "$$\n",
    "\n",
    "* Cash flow table\n",
    "\n",
    "| Date       | Payment         |\n",
    "|------------|-----------------|\n",
    "| Mar 2026   | \\$2.00         |\n",
    "| Sep 2026   | \\$2.00         |\n",
    "| Mar 2027   | \\$102.00         |\n",
    "\n",
    "* Bond price\n",
    "$$\n",
    "2 e^{-0.5\\times 0.0385} + 2 e^{-1\\times 0.0365} + 102 e^{-1.5\\times 0.0358} = \\$100.56\n",
    "$$"
   ]
  },
  {
   "cell_type": "markdown",
   "id": "3121a69a-50e8-4ded-b97d-52cd11edc47e",
   "metadata": {
    "editable": true,
    "slideshow": {
     "slide_type": "slide"
    },
    "tags": []
   },
   "source": [
    "## U.S. Treasury Yield Curve Construction\n",
    "\n",
    "* The yield curve can be backed out from the bond market data\n",
    "* Bond market data example for yield curve construction from Section 4.7 of Options, Futures, and Other Derivatives 11th Edition: \n",
    "\n",
    "$$\n",
    "$$\n",
    "\n",
    "| Principal (\\$) | Term (years) | Annual Coupon (\\$) | Bond Price (\\$) |\n",
    "|----------------|--------------|--------------------|-----------------|\n",
    "| 100 | 0.25 | 0 | 99.6 |\n",
    "| 100 | 0.50 | 0 | 99.0 |\n",
    "| 100 | 1.00 | 0 | 97.8 |\n",
    "| 100 | 1.50 | 4 | 102.5 |\n",
    "| 100 | 2.00 | 5 | 105.0 |\n",
    "\n",
    "$$\n",
    "$$\n",
    "\n",
    "* Our goal is to back out zero rates for each term on the table\n",
    "* Be careful of the \"bond yield\" in the book, which is defined differently as the zero rate"
   ]
  },
  {
   "cell_type": "markdown",
   "id": "8ee9b7c5-ea9d-48e9-a8ce-2880106b61f6",
   "metadata": {
    "editable": true,
    "slideshow": {
     "slide_type": "slide"
    },
    "tags": []
   },
   "source": [
    "## U.S. Treasury Yield Curve Construction (Cont.)\n",
    "\n",
    "$$\n",
    "$$\n",
    "\n",
    "| Principal (\\$) | Term (years) | Annual Coupon (\\$) | Bond Price (\\$) |\n",
    "|----------------|--------------|--------------------|-----------------|\n",
    "| 100 | 0.25 | 0 | 99.6 |\n",
    "| 100 | 0.50 | 0 | 99.0 |\n",
    "| 100 | 1.00 | 0 | 97.8 |\n",
    "| 100 | 1.50 | 4 | 102.5 |\n",
    "| 100 | 2.00 | 5 | 105.0 |\n",
    "\n",
    "$$\n",
    "$$\n",
    "\n",
    "* Assuming $t=0$, we can already determine the zero rate at $T=0.25$, $T=0.5$ and $T=1$, as we know the bonds have zero coupon\n",
    "* Recall that $P(t, T) = e^{-(T-t)R(t, T)}$\n",
    "* Solve\n",
    "$$\n",
    "P(0, 0.25) = 99.6/100 = 0.996 = e^{-0.25 \\times R(0, 0.25)}\n",
    "$$\n",
    "* $R(0, 0.25) = 1.603\\%$\n"
   ]
  },
  {
   "cell_type": "markdown",
   "id": "9e1e150e-ef5e-4b23-8797-32e1c94e5878",
   "metadata": {
    "editable": true,
    "slideshow": {
     "slide_type": "slide"
    },
    "tags": []
   },
   "source": [
    "## Exercise: Zero Rate for $T=0.5$ and $T=1$? \n",
    "\n",
    "$$\n",
    "$$\n",
    "\n",
    "| Principal (\\$) | Term (years) | Annual Coupon (\\$) | Bond Price (\\$) |\n",
    "|----------------|--------------|--------------------|-----------------|\n",
    "| 100 | 0.25 | 0 | 99.6 |\n",
    "| 100 | 0.50 | 0 | 99.0 |\n",
    "| 100 | 1.00 | 0 | 97.8 |\n",
    "| 100 | 1.50 | 4 | 102.5 |\n",
    "| 100 | 2.00 | 5 | 105.0 |\n",
    "\n",
    "$$\n",
    "$$\n",
    "\n",
    "* $P(t, T) = e^{-(T-t)R(t, T)}$, $t=0$"
   ]
  },
  {
   "cell_type": "markdown",
   "id": "6ead9f86-c576-44ed-9128-79fb0c58cc1c",
   "metadata": {
    "editable": true,
    "slideshow": {
     "slide_type": "fragment"
    },
    "tags": []
   },
   "source": [
    "* $R(0, 0.5) = 2.01\\%$\n",
    "* $R(0, 1) = 2.225\\%$"
   ]
  },
  {
   "cell_type": "markdown",
   "id": "a60039d3-0be2-48f2-a299-b7f9e9d1500c",
   "metadata": {
    "editable": true,
    "slideshow": {
     "slide_type": "slide"
    },
    "tags": []
   },
   "source": [
    "## What if Coupon Is Not Zero?\n",
    "\n",
    "$$\n",
    "$$\n",
    "\n",
    "| Principal (\\$) | Term (years) | Annual Coupon (\\$) | Bond Price (\\$) |\n",
    "|----------------|--------------|--------------------|-----------------|\n",
    "| 100 | 1.50 | 4 | 102.5 |\n",
    "| 100 | 2.00 | 5 | 105.0 |\n",
    "<!-- | 100 | 0.25 | 0 | 99.6 |\n",
    "| 100 | 0.50 | 0 | 99.0 |\n",
    "| 100 | 1.00 | 0 | 97.8 | -->\n",
    "\n",
    "$$\n",
    "$$\n",
    "\n",
    "* We've established that the cash flow schedule of a 1.5 year bond that pays $\\$4$ annual coupon is"
   ]
  },
  {
   "cell_type": "code",
   "execution_count": 2,
   "id": "641b9832-2d99-4858-93cc-82fb5e7b6173",
   "metadata": {
    "editable": true,
    "slideshow": {
     "slide_type": ""
    },
    "tags": []
   },
   "outputs": [
    {
     "data": {
      "text/html": [
       "<div>\n",
       "<style scoped>\n",
       "    .dataframe tbody tr th:only-of-type {\n",
       "        vertical-align: middle;\n",
       "    }\n",
       "\n",
       "    .dataframe tbody tr th {\n",
       "        vertical-align: top;\n",
       "    }\n",
       "\n",
       "    .dataframe thead th {\n",
       "        text-align: right;\n",
       "    }\n",
       "</style>\n",
       "<table border=\"1\" class=\"dataframe\">\n",
       "  <thead>\n",
       "    <tr style=\"text-align: right;\">\n",
       "      <th></th>\n",
       "      <th>Payment</th>\n",
       "    </tr>\n",
       "    <tr>\n",
       "      <th>$T$</th>\n",
       "      <th></th>\n",
       "    </tr>\n",
       "  </thead>\n",
       "  <tbody>\n",
       "    <tr>\n",
       "      <th>0.5</th>\n",
       "      <td>$2</td>\n",
       "    </tr>\n",
       "    <tr>\n",
       "      <th>1.0</th>\n",
       "      <td>$2</td>\n",
       "    </tr>\n",
       "    <tr>\n",
       "      <th>1.5</th>\n",
       "      <td>$102</td>\n",
       "    </tr>\n",
       "  </tbody>\n",
       "</table>\n",
       "</div>"
      ],
      "text/plain": [
       "    Payment\n",
       "$T$        \n",
       "0.5      $2\n",
       "1.0      $2\n",
       "1.5    $102"
      ]
     },
     "execution_count": 2,
     "metadata": {},
     "output_type": "execute_result"
    }
   ],
   "source": [
    "table('cashflow_18m')"
   ]
  },
  {
   "cell_type": "markdown",
   "id": "b16e4213-a0a8-45bf-a389-e98a30723ad9",
   "metadata": {
    "editable": true,
    "slideshow": {
     "slide_type": ""
    },
    "tags": []
   },
   "source": [
    "* And we know the zero rates $R(0, 0.5) = 2.01\\%$, $R(0, 1) = 2.225\\%$, and the bond price\n",
    "$$\n",
    "2 e^{-0.5 \\times R(0, 0.5)} + 2 e^{-1\\times R(0, 1)} + 102 e^{-1.5\\times R(0, 1.5)} = \\$102.5\n",
    "$$\n",
    "* Thus we can back out $R(0, 1.5) = 2.284\\%$"
   ]
  },
  {
   "cell_type": "markdown",
   "id": "351dc57e-fd0c-46b3-9f86-c7d5a568a450",
   "metadata": {
    "editable": true,
    "slideshow": {
     "slide_type": "slide"
    },
    "tags": []
   },
   "source": [
    "## Some Math\n",
    "\n",
    "* Given\n",
    "    * $R(0, 0.5) = 2.01\\%$\n",
    "    * $R(0, 1) = 2.225\\%$\n",
    "\\begin{align*}\n",
    "&2 e^{-0.5 \\times R(0, 0.5)} + 2 e^{-1\\times R(0, 1)} + 102 e^{-1.5\\times R(0, 1.5)} = 102.5\n",
    "\\end{align*}\n",
    "* Thus\n",
    "\\begin{align*}\n",
    "102 e^{-1.5\\times R(0, 1.5)} &= 102.5 - 2 e^{-0.5 \\times R(0, 0.5)} + 2 e^{-1\\times R(0, 1)}\\\\\n",
    "&= 102.5 - 2 e^{-0.5 \\times 0.0201} - 2 e^{-1\\times 0.02225} = 98.564, \n",
    "\\end{align*}\n",
    "and hence \n",
    "\\begin{align*}\n",
    "R(0, 1.5) = -\\frac{\\log(98.564/102)}{1.5} = 0.02284\n",
    "\\end{align*}"
   ]
  },
  {
   "cell_type": "markdown",
   "id": "7e419502-43ff-43bd-ae7e-1ffff007034f",
   "metadata": {
    "editable": true,
    "slideshow": {
     "slide_type": "slide"
    },
    "tags": []
   },
   "source": [
    "## Zero Rate From Non-Zero Coupon Bond: Exercise\n",
    "\n",
    "$$\n",
    "$$\n",
    "\n",
    "| Principal (\\$) | Term (years) | Annual Coupon (\\$) | Bond Price (\\$) |\n",
    "|----------------|--------------|--------------------|-----------------|\n",
    "| 100 | 2.00 | 5 | 105.0 |\n",
    "\n",
    "* Cash flow schedule: "
   ]
  },
  {
   "cell_type": "code",
   "execution_count": 4,
   "id": "7b61c01b-4c59-4094-a07e-badaab81e586",
   "metadata": {
    "editable": true,
    "slideshow": {
     "slide_type": ""
    },
    "tags": []
   },
   "outputs": [
    {
     "data": {
      "text/html": [
       "<div>\n",
       "<style scoped>\n",
       "    .dataframe tbody tr th:only-of-type {\n",
       "        vertical-align: middle;\n",
       "    }\n",
       "\n",
       "    .dataframe tbody tr th {\n",
       "        vertical-align: top;\n",
       "    }\n",
       "\n",
       "    .dataframe thead th {\n",
       "        text-align: right;\n",
       "    }\n",
       "</style>\n",
       "<table border=\"1\" class=\"dataframe\">\n",
       "  <thead>\n",
       "    <tr style=\"text-align: right;\">\n",
       "      <th></th>\n",
       "      <th>Payment</th>\n",
       "    </tr>\n",
       "    <tr>\n",
       "      <th>$T$</th>\n",
       "      <th></th>\n",
       "    </tr>\n",
       "  </thead>\n",
       "  <tbody>\n",
       "    <tr>\n",
       "      <th>0.5</th>\n",
       "      <td>$2.5</td>\n",
       "    </tr>\n",
       "    <tr>\n",
       "      <th>1.0</th>\n",
       "      <td>$2.5</td>\n",
       "    </tr>\n",
       "    <tr>\n",
       "      <th>1.5</th>\n",
       "      <td>$2.5</td>\n",
       "    </tr>\n",
       "    <tr>\n",
       "      <th>2.0</th>\n",
       "      <td>$102.5</td>\n",
       "    </tr>\n",
       "  </tbody>\n",
       "</table>\n",
       "</div>"
      ],
      "text/plain": [
       "    Payment\n",
       "$T$        \n",
       "0.5    $2.5\n",
       "1.0    $2.5\n",
       "1.5    $2.5\n",
       "2.0  $102.5"
      ]
     },
     "execution_count": 4,
     "metadata": {},
     "output_type": "execute_result"
    }
   ],
   "source": [
    "table('cashflow_2y')"
   ]
  },
  {
   "cell_type": "markdown",
   "id": "95b9cfd8-85f3-4e64-9212-b06397dcfbff",
   "metadata": {
    "editable": true,
    "slideshow": {
     "slide_type": ""
    },
    "tags": []
   },
   "source": [
    "* And we know the zero rates: $R(0, 0.5) = 2.01\\%$, $R(0, 1) = 2.225\\%$, $R(0, 1.5) = 2.284\\%$"
   ]
  },
  {
   "cell_type": "markdown",
   "id": "457572e4-878f-437c-93cc-b210ead9940f",
   "metadata": {
    "editable": true,
    "slideshow": {
     "slide_type": "fragment"
    },
    "tags": []
   },
   "source": [
    "* Bond price is\n",
    "$$\n",
    "2.5 e^{-0.5\\times 0.0201} + 2.5 e^{-1\\times 0.02225} + 2.5 e^{-1.5\\times 0.02284} + 102.5 e^{-2\\times R(0, 2)} = \\$102.5\n",
    "$$\n",
    "* Thus we can back out $R(0, 2) = 2.416\\%$ "
   ]
  },
  {
   "cell_type": "markdown",
   "id": "93b20875-ef9e-4b15-ae9d-49864c8dec0e",
   "metadata": {
    "editable": true,
    "slideshow": {
     "slide_type": "slide"
    },
    "tags": []
   },
   "source": [
    "## Dirty Price and Clean Price\n",
    "\n",
    "* Most of the time the bond price quoted is not the price you pay to buy it!\n",
    "* If you are in the middle of a coupon period, you need to pay part of the coupon too\n",
    "    * What happens if such mechanism doesn't exist?\n",
    "    * Why not just quote dirty price?\n",
    "* The part of the coupon is called the accrued interest\n",
    "* The quoted price called the clean price, and the cash price to pay is called the dirty price\n",
    "\n",
    "$$\n",
    "$$\n",
    "\n",
    "$$\n",
    "\\text{Dirty price} = \\text{Clean price} + \\text{Accrued interest since last coupon date}\n",
    "$$"
   ]
  },
  {
   "attachments": {
    "6812b8f3-fe38-437f-8357-0ecb164c1883.png": {
     "image/png": "[encoded data removed]"
    }
   },
   "cell_type": "markdown",
   "id": "a6984356-ed68-45f0-99db-f3a77c77771d",
   "metadata": {
    "editable": true,
    "slideshow": {
     "slide_type": "slide"
    },
    "tags": []
   },
   "source": [
    "## Dirty Price and Clean Price (Cont.)\n",
    "\n",
    "![dirty_clean_price.png](attachment:6812b8f3-fe38-437f-8357-0ecb164c1883.png)\n",
    "\n",
    "* Picture from [here](http://www.iam.fmph.uniba.sk/studium/efm/diplomovky/2010/berec/diplomovka.pdf)"
   ]
  },
  {
   "cell_type": "markdown",
   "id": "3a0db42b-f744-4e57-a450-d7c20613abb8",
   "metadata": {
    "editable": true,
    "slideshow": {
     "slide_type": "slide"
    },
    "tags": []
   },
   "source": [
    "## Day Count Conventions (DCCs)\n",
    "\n",
    "* To understand how to compute the dirty price, we need to first introduce DCCs\n",
    "* So far all our examples were (mistakenly) using the 30/360 DCC -- assuming there are 360 days in a year and 30 days in each month\n",
    "    * Only with the 30/360 DCC, 6M has year fraction 0.5, 9M is 0.75, and 18M is 1.5\n",
    "* Common DCCs are\n",
    "    * Act/Act: US Treasuries, UK gilts (UK government bonds)\n",
    "    * 30/360: US corporate and municipal bonds\n",
    "    * Act/360: US money market instruments\n",
    "    * Act/365: AUD, CAD money market instruments"
   ]
  },
  {
   "cell_type": "markdown",
   "id": "158f9fdc-9544-4b06-8f7b-6bc13dcc91ef",
   "metadata": {
    "editable": true,
    "slideshow": {
     "slide_type": "slide"
    },
    "tags": []
   },
   "source": [
    "## Accrued Interest -- Act/Act\n",
    "\n",
    "* Assuming a US Treasury bond has\n",
    "    * Principal $\\$100$\n",
    "    * Coupon payment dates 3/1 and 9/1\n",
    "    * Coupon rate $8\\%$\n",
    "* What's the accrued interest from 3/1 to 7/3?"
   ]
  },
  {
   "cell_type": "markdown",
   "id": "4f4fa4c5-955a-4e11-8db7-286d9b3de9f5",
   "metadata": {
    "editable": true,
    "slideshow": {
     "slide_type": "fragment"
    },
    "tags": []
   },
   "source": [
    "* The interest for the period is $\\$4$\n",
    "* The actual number of days between 3/1 and 7/3 is (counting the start but not the end date)\n",
    "$$\n",
    "31 + 30 + 31 + 30 + 2 = 124\n",
    "$$\n",
    "* The first for terms are for March, April, May and June, respectively\n",
    "* The actual number of days between 3/1 and 9/1 is\n",
    "$$\n",
    "31 + 30 + 31 + 30 + 31 + 31 = 184\n",
    "$$\n",
    "* So the accrued interest is\n",
    "$$\n",
    "\\frac{124}{184} \\times 4 = 2.6957\n",
    "$$"
   ]
  },
  {
   "cell_type": "markdown",
   "id": "f99a58a3-bc13-4f84-bb2d-3cd9da8f3e87",
   "metadata": {
    "editable": true,
    "slideshow": {
     "slide_type": "slide"
    },
    "tags": []
   },
   "source": [
    "## Accrued Interest -- 30/360\n",
    "\n",
    "* Assuming a corporate bond in the US has the same principal, coupon payment dates and coupon rate, what's the accrued interest from 3/1 to 7/3?\n",
    "* The interest for the period is $\\$4$\n",
    "* Number of days between 3/1 and 7/3, under the 30/360 DCC, is\n",
    "$$\n",
    "4\\times 30 + 2 = 122\n",
    "$$\n",
    "* and between 3/1 and 9/1 is\n",
    "$$\n",
    "6\\times 30 = 180\n",
    "$$\n",
    "* So the accrued interest is\n",
    "$$\n",
    "\\frac{122}{180} \\times 4 = 2.7111\n",
    "$$"
   ]
  },
  {
   "cell_type": "markdown",
   "id": "778ac71a-33a3-458b-bd14-8f3a638ea1b9",
   "metadata": {
    "editable": true,
    "slideshow": {
     "slide_type": "slide"
    },
    "tags": []
   },
   "source": [
    "## Other Treasuries\n",
    "\n",
    "* Aside from fixed coupon Treasuries, there are also TIPS (Treasury inflation-protected securities), FRNs (Treasury floating rate notes), and Treasury STRIPS (Separate Trading of Registered Interest and Principal Securities)\n",
    "\n",
    "$$\n",
    "$$\n",
    "\n",
    "| Type   | Term Lengths         | Payment Freq                                  |\n",
    "|--------|----------------------|-----------------------------------------------|\n",
    "| TIPS   | 5, 10, 30 years      | 6M                                            |\n",
    "| FRNs   | 2 years              | Quarterly (rate resets weekly)                |\n",
    "| STRIPS | Derived from notes/bonds | None (zero-coupon; sold at discount)      |\n",
    "\n",
    "$$\n",
    "$$"
   ]
  },
  {
   "cell_type": "markdown",
   "id": "a89b56d3-b33d-4a2b-a32f-5125f0967a52",
   "metadata": {
    "editable": true,
    "slideshow": {
     "slide_type": "slide"
    },
    "tags": []
   },
   "source": [
    "## Treasury Inflation-Protected Securities (TIPS)\n",
    "\n",
    "* Every 6M, the principal is adjusted with the changes in Consumer Price Index (CPI)\n",
    "* Interest payment is adjusted principal multiplied by a fixed coupon rate\n",
    "* At maturity, investor receives the greater of original or inflation-adjusted principal\n",
    "* Coupon exempt from state and local taxes; subject to federal tax"
   ]
  },
  {
   "cell_type": "markdown",
   "id": "510a930a-6d61-40f2-9f06-9124146cf081",
   "metadata": {
    "editable": true,
    "slideshow": {
     "slide_type": "slide"
    },
    "tags": []
   },
   "source": [
    "## TIPS Example (2 Coupon Periods)\n",
    "\n",
    "* Assuming\n",
    "    * Face Value: $\\$1,000$\n",
    "    * Coupon Rate: $1\\%$ annually ($0.5\\%$ semiannually)  \n",
    "    * CPI:\n",
    "        * First 6 months: $2\\%$\n",
    "        * Second 6 months: $1.5\\%$\n",
    "* First coupon period adjusted Principal\n",
    "$$ \n",
    "\\$1,000 \\times (1 + 0.02) = \\$1,020\n",
    "$$\n",
    "* First coupon payment\n",
    "$$ \n",
    "\\$1,020 \\times 0.5\\% = \\$5.10\n",
    "$$\n",
    "* Second coupon period new adjusted principal\n",
    "$$ \n",
    "\\$1,020 \\times (1 + 0.015) = \\$1,035.30\n",
    "$$\n",
    "* Second coupon payment\n",
    "$$ \n",
    "\\$1,035.30 \\times 0.5\\% = \\$5.18\n",
    "$$\n",
    "\n",
    "\n",
    "$$\n",
    "$$\n",
    "\n",
    "| Period         | Adjusted Principal | Coupon Rate | Coupon Paid |\n",
    "|----------------|--------------------|-------------|-------------|\n",
    "| First 6 months | \\$1,020.00           | 0.5\\%        | \\$5.10       |\n",
    "| Second 6 months| \\$1,035.30           | 0.5\\%        | \\$5.18       |"
   ]
  },
  {
   "cell_type": "markdown",
   "id": "83c3e9d9-c7ae-48ab-ad58-974767b57716",
   "metadata": {
    "editable": true,
    "slideshow": {
     "slide_type": "slide"
    },
    "tags": []
   },
   "source": [
    "## U.S. Treasury Floating Rate Notes (FRNs)\n",
    "\n",
    "* Maturity is 2Y\n",
    "* Interest resets weekly based on 13-week Treasury bill rate + fixed spread"
   ]
  },
  {
   "cell_type": "markdown",
   "id": "01472f26-0765-48c1-8ea1-645259102ccc",
   "metadata": {
    "editable": true,
    "slideshow": {
     "slide_type": "slide"
    },
    "tags": []
   },
   "source": [
    "## Treasury STRIPS\n",
    "\n",
    "* Created by stripping interest and principal from Treasury notes/bonds\n",
    "* Sold at a discount; pay full face value at maturity\n",
    "* Backed by U.S. government"
   ]
  }
 ],
 "metadata": {
  "kernelspec": {
   "display_name": "Python 3 (ipykernel)",
   "language": "python",
   "name": "python3"
  },
  "language_info": {
   "codemirror_mode": {
    "name": "ipython",
    "version": 3
   },
   "file_extension": ".py",
   "mimetype": "text/x-python",
   "name": "python",
   "nbconvert_exporter": "python",
   "pygments_lexer": "ipython3",
   "version": "3.12.4"
  }
 },
 "nbformat": 4,
 "nbformat_minor": 5
}
