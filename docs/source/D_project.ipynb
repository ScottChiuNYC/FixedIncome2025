{
 "cells": [
  {
   "attachments": {},
   "cell_type": "markdown",
   "id": "c6f6e885-02f7-4aec-b90b-e59a8e0f0feb",
   "metadata": {
    "editable": true,
    "slideshow": {
     "slide_type": ""
    },
    "tags": []
   },
   "source": [
    "# D. Semester Project: PCA Hedge\n",
    "\n",
    "Please follow the steps below and build everything in Python. \n",
    "\n",
    "## Curve Interpolation\n",
    "\n",
    "* First thing is to get the curve ready. Please get the Treasur yield curve data as of 10/27/2025 at the 14 points from the [U.S. Department of the Treasury website](https://home.treasury.gov/resource-center/data-chart-center/interest-rates/TextView?type=daily_treasury_yield_curve&field_tdr_date_value_month=202311)\n",
    "* Interpolate the data to get a continuous curve function so that you can query the yield at any year fraction (10 pts)\n",
    "\n",
    "## Portfolio Delta Ladder\n",
    "\n",
    "* Download TLT holdings as of 10/27/2025 from [here](https://github.com/ScottChiuNYC/FixedIncome2025/blob/master/docs/source/data/TLT_holdings_10272025.csv)\n",
    "    * I downloaded the data from [TLT product page](https://www.ishares.com/us/products/239454/ishares-20-year-treasury-bond-etf) > Holdings > Detailed Holdings and Analytics\n",
    "    * Please filter out cash and money market fund (MMF). There are 44 T-bonds left\n",
    "* Make a bond pricing function to compute the PV of a specific bond (20 pts)\n",
    "    * First compute all coupon dates\n",
    "        * For this exercise you may ignore the calendar noise from weekends and holidays and just assume, for example, 8/15/2051 minus 6M is 2/15/2051\n",
    "    * Multiply the coupon rate by notional, both given in the holdings data, and divide by 2 (as the coupon rates are annual, while the bonds pay coupon semiannually)\n",
    "    * Find PV (clean price) of the bond which is sum of all discounted cash flows, including all coupon payments and the notional payment in the end. You will have to compute the discount factors from the curve we prepared\n",
    "    * Make a bond pricing function to do so for you\n",
    "* Compute the portfolio Delta ladder by first generating 14 scenario curves and run your bond pricing functions on them (10 pts)\n",
    "\n",
    "## Curve PCA and Hedge\n",
    "\n",
    "* Get curve data from 9/1/2025 - 10/27/2025, perform PCA and find PCs and scores\n",
    "* Hedge out PC1: \n",
    "    * Compute the Delta ladder of a 10y ZCB as of 10/27/2025\n",
    "        * Recall that the answer is known in closed form. Go with the closed form. Do not generate scenario curves for this specific question\n",
    "    * If you want to hedge out PC1 risk, what's the notional of 10y ZCB you should use? (20 pts)\n",
    "    * Now add the 10y ZCB to your portfolio and write down the new Delta ladder. You will have Delta ladder before and after hedge\n",
    "    * Get curve data from 10/28/2025 and compute the PnL with and without the Hedge (10 pts)\n",
    "* Hedge out both PC1 and PC2: \n",
    "    * Now forget about the PC1 hedge. Let's get back to the portfoilo Delta ladder you computed from the previous section\n",
    "    * Compute the Delta ladder of a 2y ZCB as of 10/27/2025\n",
    "        * Same as before, do not generate scenario curves for this \n",
    "    * If you want to hedge out both PC1 and PC2 risk, what's the notionals of 10y and 2y ZCB you should use? (20 pts, 10 each)\n",
    "    * Now add the hedge (both 10y and 2y) to your portfolio and write down the new Delta ladder. You will have Delta ladder before and after hedge\n",
    "    * Get curve data from 10/28/2025 and compute the PnL with and without the Hedge (10 pts)\n"
   ]
  }
 ],
 "metadata": {
  "kernelspec": {
   "display_name": "Python 3 (ipykernel)",
   "language": "python",
   "name": "python3"
  },
  "language_info": {
   "codemirror_mode": {
    "name": "ipython",
    "version": 3
   },
   "file_extension": ".py",
   "mimetype": "text/x-python",
   "name": "python",
   "nbconvert_exporter": "python",
   "pygments_lexer": "ipython3",
   "version": "3.12.4"
  }
 },
 "nbformat": 4,
 "nbformat_minor": 5
}
