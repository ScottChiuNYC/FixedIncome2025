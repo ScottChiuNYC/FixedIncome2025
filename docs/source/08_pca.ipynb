{
 "cells": [
  {
   "cell_type": "markdown",
   "id": "85641ce5-6149-4ca2-9d7f-e7bf2bc4292d",
   "metadata": {
    "editable": true,
    "slideshow": {
     "slide_type": "slide"
    },
    "tags": []
   },
   "source": [
    "# 08. Principal Component Analysis"
   ]
  },
  {
   "cell_type": "code",
   "execution_count": 1,
   "id": "41778c4a-0c55-4279-b69d-765f71566b6e",
   "metadata": {
    "editable": true,
    "slideshow": {
     "slide_type": ""
    },
    "tags": []
   },
   "outputs": [],
   "source": [
    "from fixedincome2025 import table"
   ]
  },
  {
   "cell_type": "markdown",
   "id": "58501c89-20d4-4cf4-bb5b-9e5220b848a6",
   "metadata": {
    "editable": true,
    "slideshow": {
     "slide_type": "slide"
    },
    "tags": []
   },
   "source": [
    "## Overview\n",
    "\n",
    "* Although the below curve has 14 points, when we model the curve's movement, we should not model it by 14 independent random variables"
   ]
  },
  {
   "cell_type": "code",
   "execution_count": 5,
   "id": "7955ec5e-dd0b-48aa-a822-b21355bae158",
   "metadata": {
    "editable": true,
    "slideshow": {
     "slide_type": ""
    },
    "tags": []
   },
   "outputs": [
    {
     "data": {
      "text/html": [
       "<div>\n",
       "<style scoped>\n",
       "    .dataframe tbody tr th:only-of-type {\n",
       "        vertical-align: middle;\n",
       "    }\n",
       "\n",
       "    .dataframe tbody tr th {\n",
       "        vertical-align: top;\n",
       "    }\n",
       "\n",
       "    .dataframe thead th {\n",
       "        text-align: right;\n",
       "    }\n",
       "</style>\n",
       "<table border=\"1\" class=\"dataframe\">\n",
       "  <thead>\n",
       "    <tr style=\"text-align: right;\">\n",
       "      <th></th>\n",
       "      <th>1 Mo</th>\n",
       "      <th>1.5 Mo</th>\n",
       "      <th>2 Mo</th>\n",
       "      <th>3 Mo</th>\n",
       "      <th>4 Mo</th>\n",
       "      <th>6 Mo</th>\n",
       "      <th>1 Yr</th>\n",
       "      <th>2 Yr</th>\n",
       "      <th>3 Yr</th>\n",
       "      <th>5 Yr</th>\n",
       "      <th>7 Yr</th>\n",
       "      <th>10 Yr</th>\n",
       "      <th>20 Yr</th>\n",
       "      <th>30 Yr</th>\n",
       "    </tr>\n",
       "  </thead>\n",
       "  <tbody>\n",
       "    <tr>\n",
       "      <th>Yield</th>\n",
       "      <td>4.2%</td>\n",
       "      <td>4.17%</td>\n",
       "      <td>4.11%</td>\n",
       "      <td>4.03%</td>\n",
       "      <td>3.95%</td>\n",
       "      <td>3.83%</td>\n",
       "      <td>3.66%</td>\n",
       "      <td>3.6%</td>\n",
       "      <td>3.59%</td>\n",
       "      <td>3.74%</td>\n",
       "      <td>3.92%</td>\n",
       "      <td>4.14%</td>\n",
       "      <td>4.7%</td>\n",
       "      <td>4.72%</td>\n",
       "    </tr>\n",
       "  </tbody>\n",
       "</table>\n",
       "</div>"
      ],
      "text/plain": [
       "       1 Mo 1.5 Mo   2 Mo   3 Mo   4 Mo   6 Mo   1 Yr  2 Yr   3 Yr   5 Yr  \\\n",
       "Yield  4.2%  4.17%  4.11%  4.03%  3.95%  3.83%  3.66%  3.6%  3.59%  3.74%   \n",
       "\n",
       "        7 Yr  10 Yr 20 Yr  30 Yr  \n",
       "Yield  3.92%  4.14%  4.7%  4.72%  "
      ]
     },
     "execution_count": 5,
     "metadata": {},
     "output_type": "execute_result"
    }
   ],
   "source": [
    "table('yc_10092025').T"
   ]
  }
 ],
 "metadata": {
  "kernelspec": {
   "display_name": "Python 3 (ipykernel)",
   "language": "python",
   "name": "python3"
  },
  "language_info": {
   "codemirror_mode": {
    "name": "ipython",
    "version": 3
   },
   "file_extension": ".py",
   "mimetype": "text/x-python",
   "name": "python",
   "nbconvert_exporter": "python",
   "pygments_lexer": "ipython3",
   "version": "3.12.4"
  }
 },
 "nbformat": 4,
 "nbformat_minor": 5
}
