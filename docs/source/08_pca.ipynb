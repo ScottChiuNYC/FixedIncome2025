{
 "cells": [
  {
   "cell_type": "markdown",
   "id": "85641ce5-6149-4ca2-9d7f-e7bf2bc4292d",
   "metadata": {
    "editable": true,
    "slideshow": {
     "slide_type": "slide"
    },
    "tags": []
   },
   "source": [
    "# 8. PCA"
   ]
  },
  {
   "cell_type": "code",
   "execution_count": 330,
   "id": "3172be1b-99ae-4d95-a0a6-fa6b7b14833e",
   "metadata": {
    "editable": true,
    "slideshow": {
     "slide_type": ""
    },
    "tags": []
   },
   "outputs": [],
   "source": [
    "from fixedincome2025 import table"
   ]
  },
  {
   "cell_type": "markdown",
   "id": "695dde8f-85fc-48de-9d8d-d3679bbbbe1d",
   "metadata": {
    "editable": true,
    "slideshow": {
     "slide_type": "slide"
    },
    "tags": []
   },
   "source": [
    "## Overview\n",
    "\n",
    "* So far we have covered\n",
    "    * (Treasury) yield curve construction: A snap shot of the market\n",
    "    * Duration and convexity: What happens to the portfolio value if the curve moves parallelly\n",
    "    * Delta ladder: What happens to the portfolio value if the curve moves but not parallelly\n",
    "* Something is missing: How will tomorrow's curve move?\n",
    "    * Of course no one knows exactly, but we can still say something\n",
    "* Principal component analysis (PCA) provides a great tool to model yield curve movements and to hedge any portfolios that have rates exposure"
   ]
  },
  {
   "cell_type": "markdown",
   "id": "58501c89-20d4-4cf4-bb5b-9e5220b848a6",
   "metadata": {
    "editable": true,
    "slideshow": {
     "slide_type": "slide"
    },
    "tags": []
   },
   "source": [
    "## Modeling Yield Curve Movements\n",
    "\n",
    "* Although the below curve has 14 points, when we model this curve's movement, we should not model it by 14 independent random variables"
   ]
  },
  {
   "cell_type": "code",
   "execution_count": 331,
   "id": "7955ec5e-dd0b-48aa-a822-b21355bae158",
   "metadata": {
    "editable": true,
    "slideshow": {
     "slide_type": ""
    },
    "tags": []
   },
   "outputs": [
    {
     "data": {
      "text/html": [
       "<div>\n",
       "<style scoped>\n",
       "    .dataframe tbody tr th:only-of-type {\n",
       "        vertical-align: middle;\n",
       "    }\n",
       "\n",
       "    .dataframe tbody tr th {\n",
       "        vertical-align: top;\n",
       "    }\n",
       "\n",
       "    .dataframe thead th {\n",
       "        text-align: right;\n",
       "    }\n",
       "</style>\n",
       "<table border=\"1\" class=\"dataframe\">\n",
       "  <thead>\n",
       "    <tr style=\"text-align: right;\">\n",
       "      <th></th>\n",
       "      <th>1m</th>\n",
       "      <th>1.5m</th>\n",
       "      <th>2m</th>\n",
       "      <th>3m</th>\n",
       "      <th>4m</th>\n",
       "      <th>6m</th>\n",
       "      <th>1y</th>\n",
       "      <th>2y</th>\n",
       "      <th>3y</th>\n",
       "      <th>5y</th>\n",
       "      <th>7y</th>\n",
       "      <th>10y</th>\n",
       "      <th>20y</th>\n",
       "      <th>30y</th>\n",
       "    </tr>\n",
       "  </thead>\n",
       "  <tbody>\n",
       "    <tr>\n",
       "      <th>Yield</th>\n",
       "      <td>4.2%</td>\n",
       "      <td>4.17%</td>\n",
       "      <td>4.11%</td>\n",
       "      <td>4.03%</td>\n",
       "      <td>3.95%</td>\n",
       "      <td>3.83%</td>\n",
       "      <td>3.66%</td>\n",
       "      <td>3.6%</td>\n",
       "      <td>3.59%</td>\n",
       "      <td>3.74%</td>\n",
       "      <td>3.92%</td>\n",
       "      <td>4.14%</td>\n",
       "      <td>4.7%</td>\n",
       "      <td>4.72%</td>\n",
       "    </tr>\n",
       "  </tbody>\n",
       "</table>\n",
       "</div>"
      ],
      "text/plain": [
       "         1m   1.5m     2m     3m     4m     6m     1y    2y     3y     5y  \\\n",
       "Yield  4.2%  4.17%  4.11%  4.03%  3.95%  3.83%  3.66%  3.6%  3.59%  3.74%   \n",
       "\n",
       "          7y    10y   20y    30y  \n",
       "Yield  3.92%  4.14%  4.7%  4.72%  "
      ]
     },
     "execution_count": 331,
     "metadata": {},
     "output_type": "execute_result"
    }
   ],
   "source": [
    "table('yc_10092025').T"
   ]
  },
  {
   "cell_type": "markdown",
   "id": "c64018d6-e77d-4d06-abea-381090424c9e",
   "metadata": {
    "editable": true,
    "slideshow": {
     "slide_type": ""
    },
    "tags": []
   },
   "source": [
    "* Rates for nearby maturities on the curve tend to move together—both in direction and magnitude—because the corresponding bonds are close substitutes.\n",
    "    * If 2y bond is too expensive, investors with the need can just buy 3y bond\n",
    "    * If borrowing for 2y is too expensive, borrowers can just borrow for 3y\n",
    "* As we will see now, PCA tells us 3 independent random variables are enough\n",
    "* First we need some math"
   ]
  },
  {
   "cell_type": "markdown",
   "id": "aeea9d61-0f91-407d-9faa-8834a24cf73c",
   "metadata": {
    "editable": true,
    "slideshow": {
     "slide_type": "slide"
    },
    "tags": []
   },
   "source": [
    "## Singular Value Decomposition (SVD)\n",
    "\n",
    "* Every $m\\times n$ matrix $X$ can be written as\n",
    "$$\n",
    "X = USV^{\\mathsf T}, \n",
    "$$\n",
    "where\n",
    "    * $U$ is an $m\\times m$ unitary matrix (more on unitary matrices later)\n",
    "    * $V$ is an $n\\times n$ unitary matrix\n",
    "    * $S$ is an $m\\times n$ matrix with nonzero entries only on the main diagonal, meaning if $S=(s_{ij})$, then $s_{ij} \\neq 0$ only when $i = j$. Also the nonzero elements are sorted, meaning $s_{11} \\geq s_{22} \\geq s_{33} \\geq \\cdots \\geq s_{nn}$. They are known as the singular values of $X$\n",
    "* For our purpose which is to model the curve movement, the important case is $m>n$"
   ]
  },
  {
   "cell_type": "markdown",
   "id": "7637571f-9b80-44c4-9e8b-40cfb78c0bbd",
   "metadata": {
    "editable": true,
    "slideshow": {
     "slide_type": "slide"
    },
    "tags": []
   },
   "source": [
    "## The $S$ Matrix\n",
    "\n",
    "$$\n",
    "S = \\begin{pmatrix}\n",
    "s_{11} & 0 & \\cdots & 0\\\\ \n",
    "0 & s_{22} & \\cdots & 0\\\\ \n",
    "\\vdots & \\vdots & \\ddots & \\vdots\\\\ \n",
    "0 & 0 & \\cdots & s_{nn}\\\\ \n",
    "\\vdots & \\vdots & \\vdots & \\vdots\\\\ \n",
    "0 & 0 & \\cdots & 0\\\\ \n",
    "\\end{pmatrix}_{m\\times n}\n",
    "$$\n",
    "* $s_{11} \\geq s_{22} \\geq s_{33} \\geq \\cdots \\geq s_{nn}$"
   ]
  },
  {
   "cell_type": "markdown",
   "id": "497a0d2b-79c7-4a06-8e2d-dc736ed035ad",
   "metadata": {
    "editable": true,
    "slideshow": {
     "slide_type": "slide"
    },
    "tags": []
   },
   "source": [
    "## Unitary Matrix\n",
    "\n",
    "* Recall that $X_{m\\times n} = USV^{\\mathsf T}$, where $U_{m\\times m}$ and $V_{n\\times n}$ are both unitary\n",
    "* Definition: A matrix $V_{n\\times n}$ is said to be unitary if $V^{\\mathsf T}V = I_n$, the $n\\times n$ identity matrix\n",
    "* Easy to compute inverse: $V^{-1} = V^{\\mathsf T}$ by definition\n",
    "* Let\n",
    "$$\n",
    "V = \\begin{pmatrix}\n",
    "|&|&  & | \\\\\n",
    "v_1 & v_2 & \\cdots & v_n \\\\\n",
    "|&|&  & | \\\\\n",
    "\\end{pmatrix}, \n",
    "$$\n",
    "where $v_j$ are column vectors"
   ]
  },
  {
   "cell_type": "markdown",
   "id": "f5d97d02-f0d1-4432-a741-8046824c3fd4",
   "metadata": {
    "editable": true,
    "slideshow": {
     "slide_type": "slide"
    },
    "tags": []
   },
   "source": [
    "## Unitary Matrix (Cont.)\n",
    "\n",
    "* $V^{\\mathsf T}V = I_n$: \n",
    "\\begin{align*}\n",
    "V^{\\mathsf T}V &= \\begin{pmatrix}\n",
    "\\frac{\\qquad}{} & v_1^{\\mathsf T} & \\frac{\\qquad}{} \\\\\n",
    "\\frac{\\qquad}{} & v_2^{\\mathsf T} & \\frac{\\qquad}{} \\\\\n",
    "& \\vdots & \\\\\n",
    "\\frac{\\qquad}{} & v_n^{\\mathsf T} & \\frac{\\qquad}{} \\\\\n",
    "\\end{pmatrix}\n",
    "\\begin{pmatrix}\n",
    "|&|&  & | \\\\\n",
    "v_1 & v_2 & \\cdots & v_n \\\\\n",
    "|&|&  & | \\\\\n",
    "\\end{pmatrix}\\\\\n",
    "&= \\begin{pmatrix}\n",
    "\\langle v_1, v_1\\rangle & \\langle v_1, v_2\\rangle & \\cdots & \\langle v_1, v_n\\rangle\\\\\n",
    "\\langle v_2, v_1\\rangle & \\langle v_2, v_2\\rangle & \\cdots & \\langle v_2, v_n\\rangle\\\\\n",
    "\\vdots&\\vdots&\\ddots&\\vdots \\\\\n",
    "\\langle v_n, v_1\\rangle & \\langle v_n, v_2\\rangle & \\cdots & \\langle v_n, v_n\\rangle\n",
    "\\end{pmatrix} = \\begin{pmatrix}\n",
    "1 & 0 & \\cdots & 0\\\\\n",
    "0 & 1 & \\cdots & 0\\\\\n",
    "\\vdots&\\vdots&\\ddots&\\vdots \\\\\n",
    "0 & 0 & \\cdots & 1\n",
    "\\end{pmatrix}, \n",
    "\\end{align*}\n",
    "where $\\langle \\cdot, \\cdot\\rangle$ stands for the inner product of two vectors\n",
    "* Unitary means\n",
    "    * The column vectors have norm 1 and\n",
    "    * Inner product of any two different column vectors is 0"
   ]
  },
  {
   "cell_type": "markdown",
   "id": "1875e112-b4c0-49e5-bb9a-19bd312b7725",
   "metadata": {
    "editable": true,
    "slideshow": {
     "slide_type": "slide"
    },
    "tags": []
   },
   "source": [
    "## Vector Norm\n",
    "\n",
    "* Let $\\vec a = (a_1, a_2, \\ldots, a_n)^{\\mathsf T}$ be a column vector. Then its norm is\n",
    "\\begin{align*}\n",
    "\\lVert \\vec a \\rVert = \\sqrt{\\langle a, a\\rangle} = \\sqrt{a_1^2 + a_2^2 + \\cdots + a_n^2}\n",
    "\\end{align*}\n",
    "* Norm is the \"length\" of a vector in high dimensions"
   ]
  },
  {
   "cell_type": "markdown",
   "id": "837b1d15-ea2d-4ac5-b436-6b4ea0f6f91a",
   "metadata": {
    "editable": true,
    "slideshow": {
     "slide_type": "slide"
    },
    "tags": []
   },
   "source": [
    "## Inner Product\n",
    "\n",
    "* If $\\vec a = (a_1, a_2, \\ldots, a_n)^{\\mathsf T}$ and $\\vec b = (b_1, b_2, \\ldots, b_n)^{\\mathsf T}$, then \n",
    "\\begin{align*}\n",
    "\\langle \\vec a, \\vec b\\rangle &= \\vec a^{\\mathsf T}\\vec b = \\vec b^{\\mathsf T}\\vec a \\\\\n",
    "&= a_1b_1 + a_2b_2 + \\cdots + a_nb_n\n",
    "\\end{align*}"
   ]
  },
  {
   "cell_type": "markdown",
   "id": "4f2e4ca2-12a6-4c8e-8048-f62b11db2647",
   "metadata": {
    "editable": true,
    "slideshow": {
     "slide_type": "slide"
    },
    "tags": []
   },
   "source": [
    "## Zero Inner Product in 2D\n",
    "\n",
    "* Two vectors having zero inner product basically means they are \"perpendicular\"\n",
    "* Take 2D as an example. If $v_1$ and $v_2$ are in 2D and $\\langle v_1, v_2\\rangle = 0$, write in polar coordinates\n",
    "\\begin{align*}\n",
    "v_1 &= (r_1 \\cos \\theta_1, r_1 \\sin \\theta_1)^{\\mathsf T}, \\\\\n",
    "v_2 &= (r_2 \\cos \\theta_2, r_2 \\sin \\theta_2)^{\\mathsf T}. \n",
    "\\end{align*}\n",
    "Then $\\langle v_1, v_2\\rangle = 0$ means\n",
    "\\begin{align*}\n",
    "r_1 r_2 (\\cos \\theta_1 \\cos \\theta_2 + \\sin \\theta_1\\sin \\theta_2) = r_1 r_2 \\cos (\\theta_1 - \\theta_2) = 0. \n",
    "\\end{align*}\n",
    "So $\\theta_1 - \\theta_2 = 90^{\\circ}$ (plus multiples of $180^{\\circ}$), so $v_1$ and $v_2$ are perpendicular."
   ]
  },
  {
   "cell_type": "markdown",
   "id": "b6a1c669-fccc-4115-8526-5f02873b07e9",
   "metadata": {
    "editable": true,
    "slideshow": {
     "slide_type": "fragment"
    },
    "tags": []
   },
   "source": [
    "* In general, in 2D and 3D, inner product has the property\n",
    "$$\n",
    "\\langle \\vec a, \\vec b\\rangle = \\lVert \\vec a \\rVert\\lVert \\vec b \\rVert \\cos\\theta,\n",
    "$$\n",
    "where $\\theta$ is the angle between the two vectors"
   ]
  },
  {
   "cell_type": "markdown",
   "id": "51ee8e65-0eb2-437d-971e-4d943ad9e4ef",
   "metadata": {
    "editable": true,
    "slideshow": {
     "slide_type": "slide"
    },
    "tags": []
   },
   "source": [
    "## Perpendicular in 2D\n",
    "\n",
    "* Perpendicular 2D vectors with norm 1 are just rotation of $(1, 0)^{\\mathsf T}$ and $(0, 1)^{\\mathsf T}$"
   ]
  },
  {
   "cell_type": "code",
   "execution_count": 332,
   "id": "b4ba6f1c",
   "metadata": {
    "editable": true,
    "slideshow": {
     "slide_type": ""
    },
    "tags": []
   },
   "outputs": [
    {
     "data": {
      "image/png": "[encoded data removed]",
      "text/plain": [
       "<Figure size 500x500 with 1 Axes>"
      ]
     },
     "metadata": {},
     "output_type": "display_data"
    }
   ],
   "source": [
    "import numpy as np\n",
    "import matplotlib.pyplot as plt\n",
    "\n",
    "# Example vectors in 2D\n",
    "v1 = np.array([2.0, 1.0])\n",
    "# perpendicular vector obtained by rotating v1 by 90 degrees: [-y, x]\n",
    "v2 = np.array([-v1[1], v1[0]])\n",
    "\n",
    "fig, ax = plt.subplots(figsize=(5,5))\n",
    "# draw thin axes lines\n",
    "ax.axhline(0, color='gray', linewidth=0.7)\n",
    "ax.axvline(0, color='gray', linewidth=0.7)\n",
    "\n",
    "# plot vectors using quiver so lengths are respected\n",
    "ax.quiver(0, 0, v1[0], v1[1], angles='xy', scale_units='xy', scale=1, color='C0', width=0.02)\n",
    "ax.quiver(0, 0, v2[0], v2[1], angles='xy', scale_units='xy', scale=1, color='C1', width=0.02)\n",
    "\n",
    "# annotate tips\n",
    "ax.annotate('v1', xy=(v1[0], v1[1]), xytext=(6,6), textcoords='offset points')\n",
    "ax.annotate('v2', xy=(v2[0], v2[1]), xytext=(6,6), textcoords='offset points')\n",
    "\n",
    "# determine symmetric plot limits and enforce equal aspect ratio\n",
    "max_coord = np.max(np.abs(np.vstack((v1, v2)))) * 1.25\n",
    "ax.set_xlim(-max_coord, max_coord)\n",
    "ax.set_ylim(-max_coord, max_coord)\n",
    "ax.set_aspect('equal', adjustable='box')\n",
    "\n",
    "ax.set_xlabel('x')\n",
    "ax.set_ylabel('y')\n",
    "ax.set_title('Perpendicular 2D Vectors')\n",
    "ax.grid(True, linestyle='--', linewidth=0.5)\n",
    "plt.show()"
   ]
  },
  {
   "cell_type": "markdown",
   "id": "a4a10fd8-9706-43e4-a4b1-a7a6d184b293",
   "metadata": {
    "editable": true,
    "slideshow": {
     "slide_type": "slide"
    },
    "tags": []
   },
   "source": [
    "## Zero Inner Product in 3D\n",
    "\n",
    "* Similarly, in 3D, $\\langle v_1, v_2\\rangle = \\langle v_1, v_3\\rangle = \\langle v_2, v_3\\rangle = 0$ means the 3 vectors are mutually perpendicular\n",
    "* This can be shown by first writing the vectors in spherical coordinates\n",
    "\\begin{align*}\n",
    "\\begin{cases}\n",
    "x = \\sin \\phi \\cos \\theta\\\\\n",
    "y = \\sin \\phi \\sin \\theta\\\\\n",
    "z = \\cos \\phi\n",
    "\\end{cases}, \n",
    "\\end{align*}\n",
    "but I'll spare you the details"
   ]
  },
  {
   "cell_type": "markdown",
   "id": "b5417900-2023-49d9-8eec-f900e513b6e2",
   "metadata": {
    "editable": true,
    "slideshow": {
     "slide_type": "slide"
    },
    "tags": []
   },
   "source": [
    "## Perpendicular in 3D\n",
    "\n",
    "* Mutually perpendicular 3D vectors with norm 1 are just \"rotation\" of $(1, 0, 0)^{\\mathsf T}$, $(0, 1, 0)^{\\mathsf T}$ and $(0, 0, 1)^{\\mathsf T}$"
   ]
  },
  {
   "cell_type": "code",
   "execution_count": 333,
   "id": "44e0940c",
   "metadata": {
    "editable": true,
    "slideshow": {
     "slide_type": ""
    },
    "tags": []
   },
   "outputs": [
    {
     "data": {
      "image/png": "[encoded data removed]",
      "text/plain": [
       "<Figure size 600x600 with 1 Axes>"
      ]
     },
     "metadata": {},
     "output_type": "display_data"
    }
   ],
   "source": [
    "import numpy as np\n",
    "import matplotlib.pyplot as plt\n",
    "from mpl_toolkits.mplot3d import Axes3D\n",
    "\n",
    "# Define three mutually perpendicular vectors in 3D\n",
    "v1 = np.array([1.0, 1.0, 1.0])\n",
    "v2 = np.array([1.0, -1.0, 0.0])  # v1.dot(v2) = 0\n",
    "# v3 is chosen as the cross product v1 x v2 to ensure orthogonality and then scaled\n",
    "v3 = np.cross(v1, v2)\n",
    "v3 = v3 / np.linalg.norm(v3) * 1.5\n",
    "\n",
    "fig = plt.figure(figsize=(6,6))\n",
    "ax = fig.add_subplot(111, projection='3d')\n",
    "\n",
    "# plot arrows from origin; arrow_length_ratio controls head size\n",
    "ax.quiver(0, 0, 0, v1[0], v1[1], v1[2], color='C0', linewidth=1, arrow_length_ratio=0.08)\n",
    "ax.quiver(0, 0, 0, v2[0], v2[1], v2[2], color='C1', linewidth=1, arrow_length_ratio=0.08)\n",
    "ax.quiver(0, 0, 0, v3[0], v3[1], v3[2], color='C2', linewidth=1, arrow_length_ratio=0.08)\n",
    "\n",
    "# annotate tips\n",
    "ax.text(*(v1 * 1.05), 'v1', color='C0')\n",
    "ax.text(*(v2 * 1.05), 'v2', color='C1')\n",
    "ax.text(*(v3 * 1.05), 'v3', color='C2')\n",
    "\n",
    "# symmetric limits around origin\n",
    "max_coord = np.max(np.abs(np.vstack((v1, v2, v3)))) * 1.25\n",
    "ax.set_xlim(-max_coord, max_coord)\n",
    "ax.set_ylim(-max_coord, max_coord)\n",
    "ax.set_zlim(-max_coord, max_coord)\n",
    "\n",
    "# enforce equal aspect ratio if supported\n",
    "try:\n",
    "    ax.set_box_aspect([1,1,1])\n",
    "except Exception:\n",
    "    # older matplotlib: approximate equal aspect by leaving symmetric limits\n",
    "    pass\n",
    "\n",
    "ax.set_xlabel('x')\n",
    "ax.set_ylabel('y')\n",
    "ax.set_zlabel('z')\n",
    "# ax.set_title('Three Mutually Perpendicular 3D Vectors')\n",
    "# Set a camera view (elevation, azimuth) to make perpendicular relationships easier to see\n",
    "ax.view_init(elev=10, azim=20)\n",
    "plt.show()"
   ]
  },
  {
   "cell_type": "markdown",
   "id": "312b7fe4-6433-4f66-947b-6849a2446284",
   "metadata": {
    "editable": true,
    "slideshow": {
     "slide_type": "slide"
    },
    "tags": []
   },
   "source": [
    "## Zero Inner Product in General ($n$-D)\n",
    "\n",
    "* In 2D there can be at most 2 vectors that are mutually perpendicular\n",
    "* In 3D there can be at most 3 vectors that are mutually perpendicular\n",
    "* In general, in $n$-D there can be at most $n$ vectors that are mutually perpendicular\n",
    "    * In fact that's the definition of the dimension in linear algebra: Maximum number of vectors one can find in a space that's mutually independent\n",
    "    * Given a set of mutually independent vectors, mutually perpendicular vectors can be constructed through the Gram-Schmidt process"
   ]
  },
  {
   "cell_type": "markdown",
   "id": "44b3915d-121f-494f-92d5-cfd560603e09",
   "metadata": {
    "editable": true,
    "slideshow": {
     "slide_type": "fragment"
    },
    "tags": []
   },
   "source": [
    "* An $n\\times n$ unitary matrix is one whose $n$ column vectors are mutually perpendicular with norm 1\n",
    "* Such $n$ vectors are just rotation of the so called standard basis $(1, 0,\\ldots, 0)^{\\mathsf T}$, $(0, 1,\\ldots, 0)^{\\mathsf T}$ and $(0, 0,\\ldots, 1)^{\\mathsf T}$"
   ]
  },
  {
   "cell_type": "markdown",
   "id": "9f95b620-0f53-453c-ad9d-9a0eb9ab6b19",
   "metadata": {
    "editable": true,
    "slideshow": {
     "slide_type": "slide"
    },
    "tags": []
   },
   "source": [
    "## Unitary Matrix as a Rotation Matrix\n",
    "\n",
    "* 2D unit vector has the general form $(\\cos\\theta, \\sin\\theta)^{\\mathsf T}$"
   ]
  },
  {
   "cell_type": "markdown",
   "id": "41d20b95-c106-4987-9f31-94082bd7d72d",
   "metadata": {
    "editable": true,
    "slideshow": {
     "slide_type": "fragment"
    },
    "tags": []
   },
   "source": [
    "* A 2D unit vector that's perpendicular to $(\\cos\\theta, \\sin\\theta)^{\\mathsf T}$ must be (?) $(\\cos(\\theta+\\pi/2), \\sin(\\theta+\\pi/2))^{\\mathsf T} = (-\\sin\\theta, \\cos\\theta)^{\\mathsf T}$\n",
    "    * The direction is unique but sign can change, that is, $-(-\\sin\\theta, \\cos\\theta)^{\\mathsf T}$ is also a perpendicular vector"
   ]
  },
  {
   "cell_type": "markdown",
   "id": "bfcda143-9af2-4799-b1ef-124e5f3dad17",
   "metadata": {
    "editable": true,
    "slideshow": {
     "slide_type": "fragment"
    },
    "tags": []
   },
   "source": [
    "* Thus $2\\times 2$ unitary matrices have the general form\n",
    "\\begin{align*}\n",
    "R = \n",
    "\\begin{pmatrix}\n",
    "\\cos\\theta & -\\sin\\theta \\\\\n",
    "\\sin\\theta & \\cos\\theta\\\\\n",
    "\\end{pmatrix},\n",
    "\\end{align*}\n",
    "which is a rotation matrix"
   ]
  },
  {
   "cell_type": "markdown",
   "id": "757ffc07-d749-4c5f-8155-cbdc88b577f5",
   "metadata": {
    "editable": true,
    "slideshow": {
     "slide_type": "fragment"
    },
    "tags": []
   },
   "source": [
    "* $R$ has a property that $R\\vec v$ rotates the direction of $\\vec v$ counterclockwise through $\\theta$\n",
    "* In general, an $n\\times n$ unitary matrix is a rotation matrix that, when multiplied by an $n$-D vector, rotates the vector"
   ]
  },
  {
   "cell_type": "markdown",
   "id": "931e4697-16ec-4a62-8012-6c7d513ca464",
   "metadata": {
    "editable": true,
    "slideshow": {
     "slide_type": "slide"
    },
    "tags": []
   },
   "source": [
    "## One Property of SVD\n",
    "\n",
    "* Recall that $X_{m\\times n} = USV^{\\mathsf T}$ with $m>n$. We will write $T = US$ and $X = TV^{\\mathsf T}$: \n",
    "\\begin{align*}\n",
    "X_{m\\times n} &= \\begin{pmatrix}\n",
    "&\\\\\n",
    "|&|&  &&& | \\\\\\\\\n",
    "u_1 & u_2 && \\cdots && u_m \\\\\\\\\n",
    "|&|&  &&& | \\\\\\\\\n",
    "\\end{pmatrix}_{m\\times m}\\begin{pmatrix}\n",
    "s_{11} & 0 & \\cdots & 0\\\\ \n",
    "0 & s_{2, 1} & \\cdots & 0\\\\ \n",
    "\\vdots & \\vdots & \\ddots & \\vdots\\\\ \n",
    "0 & 0 & \\cdots & s_{nn}\\\\ \n",
    "\\vdots & \\vdots & \\vdots & \\vdots\\\\ \n",
    "0 & 0 & \\cdots & 0\\\\ \n",
    "\\end{pmatrix}_{m\\times n}\\begin{pmatrix}\n",
    "\\frac{\\qquad}{} & v_1^{\\mathsf T} & \\frac{\\qquad}{} \\\\\n",
    "\\frac{\\qquad}{} & v_2^{\\mathsf T} & \\frac{\\qquad}{} \\\\\n",
    "& \\vdots & \\\\\n",
    "\\frac{\\qquad}{} & v_n^{\\mathsf T} & \\frac{\\qquad}{} \\\\\n",
    "\\end{pmatrix}_{n\\times n}\\\\\n",
    "&= TV^{\\mathsf T} = \\begin{pmatrix}\n",
    "\\\\\n",
    "|&|&  & | \\\\\\\\\n",
    "s_{11} u_1 & s_{22} u_2 & \\cdots & s_{nn}u_n \\\\\\\\\n",
    "|&|&  & | \\\\\\\\\n",
    "\\end{pmatrix}_{m\\times n}\\begin{pmatrix}\n",
    "\\frac{\\qquad}{} & v_1^{\\mathsf T} & \\frac{\\qquad}{} \\\\\n",
    "\\frac{\\qquad}{} & v_2^{\\mathsf T} & \\frac{\\qquad}{} \\\\\n",
    "& \\vdots & \\\\\n",
    "\\frac{\\qquad}{} & v_n^{\\mathsf T} & \\frac{\\qquad}{} \\\\\n",
    "\\end{pmatrix}_{n\\times n}\n",
    "\\end{align*}"
   ]
  },
  {
   "cell_type": "markdown",
   "id": "f018c040-ce74-4052-b0a6-191180761b63",
   "metadata": {
    "editable": true,
    "slideshow": {
     "slide_type": "slide"
    },
    "tags": []
   },
   "source": [
    "## One Property of SVD (Cont.)\n",
    "\n",
    "\\begin{align*}\n",
    "X_{m\\times n} = TV^{\\mathsf T} = \\begin{pmatrix}\n",
    "\\\\\n",
    "|&|&  & | \\\\\\\\\n",
    "s_{11} u_1 & s_{22} u_2 & \\cdots & s_{nn}u_n \\\\\\\\\n",
    "|&|&  & | \\\\\\\\\n",
    "\\end{pmatrix}_{m\\times n}\\begin{pmatrix}\n",
    "\\frac{\\qquad}{} & v_1^{\\mathsf T} & \\frac{\\qquad}{} \\\\\n",
    "\\frac{\\qquad}{} & v_2^{\\mathsf T} & \\frac{\\qquad}{} \\\\\n",
    "& \\vdots & \\\\\n",
    "\\frac{\\qquad}{} & v_n^{\\mathsf T} & \\frac{\\qquad}{} \\\\\n",
    "\\end{pmatrix}_{n\\times n}\n",
    "\\end{align*}\n",
    "* $T$, like $U$, has mutually perpendicular column vectors too but with norms $s_{11}, s_{22}, \\ldots s_{nn}$\n",
    "    * For example $\\langle s_{11}u_1, s_{22}u_2\\rangle = s_{11}s_{22}\\langle u_1, u_2\\rangle = 0$, as $s_{11}$ and $s_{22}$ are simply scalars"
   ]
  },
  {
   "cell_type": "markdown",
   "id": "6dba953b-2eb9-4f71-8058-c8706241e318",
   "metadata": {
    "editable": true,
    "slideshow": {
     "slide_type": "slide"
    },
    "tags": []
   },
   "source": [
    "## Numpy SVD Function\n",
    "\n",
    "```python\n",
    "\n",
    "import numpy\n",
    "\n",
    "u, s, vt = numpy.linalg.svd(X)\n",
    "```"
   ]
  },
  {
   "cell_type": "markdown",
   "id": "2a73703f-7864-4adf-8d8f-a6015e9c30b4",
   "metadata": {
    "editable": true,
    "slideshow": {
     "slide_type": "slide"
    },
    "tags": []
   },
   "source": [
    "## Curve PCA\n",
    "\n",
    "* We start from collecting the yield curve movement data\n",
    "    * (curve on date $t$) - (curve on date $t-1$)\n",
    "    * If we use the Treasury yield curve for tenors $\\geq$ 1y, it has $n=8$ points\n",
    "* We collect the daily curve movements from the past 3m (about $m=66$ days)\n",
    "* The daily curve movement data forms the $m\\times n$ matrix $X$, whose SVD gives $X = TV^{\\mathsf T}$"
   ]
  },
  {
   "cell_type": "markdown",
   "id": "557f521f-0b02-465c-84a2-a5d2f7d2bc7e",
   "metadata": {
    "editable": true,
    "slideshow": {
     "slide_type": "fragment"
    },
    "tags": []
   },
   "source": [
    "* Columns of $V$, denoted by $v_j$, are the principal components (PCs).\n",
    "    * 1st column $v_1$ is PC1\n",
    "    * 2nd column $v_2$ is PC2\n",
    "    * 3rd column $v_3$ is PC3"
   ]
  },
  {
   "cell_type": "markdown",
   "id": "890be360-7498-4130-a4bc-f088e0285a44",
   "metadata": {
    "editable": true,
    "slideshow": {
     "slide_type": "fragment"
    },
    "tags": []
   },
   "source": [
    "* Columns of $T$ are PC scores\n",
    "    * 1st column is scores corresponding to PC1\n",
    "    * 2nd column is scores corresponding to PC2\n",
    "    * 3rd column is scores corresponding to PC3"
   ]
  },
  {
   "cell_type": "markdown",
   "id": "16e53305-f7c3-4761-95b9-31b5ca81e9a5",
   "metadata": {
    "editable": true,
    "slideshow": {
     "slide_type": "slide"
    },
    "tags": []
   },
   "source": [
    "## Data\n",
    "\n",
    "* Curve data"
   ]
  },
  {
   "cell_type": "code",
   "execution_count": 334,
   "id": "c4ab0ad9-4384-41f5-850d-6358968067eb",
   "metadata": {
    "editable": true,
    "slideshow": {
     "slide_type": ""
    },
    "tags": []
   },
   "outputs": [
    {
     "data": {
      "text/html": [
       "<div>\n",
       "<style scoped>\n",
       "    .dataframe tbody tr th:only-of-type {\n",
       "        vertical-align: middle;\n",
       "    }\n",
       "\n",
       "    .dataframe tbody tr th {\n",
       "        vertical-align: top;\n",
       "    }\n",
       "\n",
       "    .dataframe thead th {\n",
       "        text-align: right;\n",
       "    }\n",
       "</style>\n",
       "<table border=\"1\" class=\"dataframe\">\n",
       "  <thead>\n",
       "    <tr style=\"text-align: right;\">\n",
       "      <th></th>\n",
       "      <th>1y</th>\n",
       "      <th>2y</th>\n",
       "      <th>3y</th>\n",
       "      <th>5y</th>\n",
       "      <th>7y</th>\n",
       "      <th>10y</th>\n",
       "      <th>20y</th>\n",
       "      <th>30y</th>\n",
       "    </tr>\n",
       "  </thead>\n",
       "  <tbody>\n",
       "    <tr>\n",
       "      <th>10/17/2025</th>\n",
       "      <td>3.56</td>\n",
       "      <td>3.46</td>\n",
       "      <td>3.47</td>\n",
       "      <td>3.59</td>\n",
       "      <td>3.78</td>\n",
       "      <td>4.02</td>\n",
       "      <td>4.58</td>\n",
       "      <td>4.60</td>\n",
       "    </tr>\n",
       "    <tr>\n",
       "      <th>10/16/2025</th>\n",
       "      <td>3.54</td>\n",
       "      <td>3.41</td>\n",
       "      <td>3.42</td>\n",
       "      <td>3.55</td>\n",
       "      <td>3.74</td>\n",
       "      <td>3.99</td>\n",
       "      <td>4.56</td>\n",
       "      <td>4.58</td>\n",
       "    </tr>\n",
       "    <tr>\n",
       "      <th>10/15/2025</th>\n",
       "      <td>3.61</td>\n",
       "      <td>3.50</td>\n",
       "      <td>3.51</td>\n",
       "      <td>3.63</td>\n",
       "      <td>3.82</td>\n",
       "      <td>4.05</td>\n",
       "      <td>4.61</td>\n",
       "      <td>4.64</td>\n",
       "    </tr>\n",
       "    <tr>\n",
       "      <th>10/14/2025</th>\n",
       "      <td>3.58</td>\n",
       "      <td>3.48</td>\n",
       "      <td>3.47</td>\n",
       "      <td>3.60</td>\n",
       "      <td>3.79</td>\n",
       "      <td>4.03</td>\n",
       "      <td>4.59</td>\n",
       "      <td>4.62</td>\n",
       "    </tr>\n",
       "  </tbody>\n",
       "</table>\n",
       "</div>"
      ],
      "text/plain": [
       "              1y    2y    3y    5y    7y   10y   20y   30y\n",
       "10/17/2025  3.56  3.46  3.47  3.59  3.78  4.02  4.58  4.60\n",
       "10/16/2025  3.54  3.41  3.42  3.55  3.74  3.99  4.56  4.58\n",
       "10/15/2025  3.61  3.50  3.51  3.63  3.82  4.05  4.61  4.64\n",
       "10/14/2025  3.58  3.48  3.47  3.60  3.79  4.03  4.59  4.62"
      ]
     },
     "execution_count": 334,
     "metadata": {},
     "output_type": "execute_result"
    }
   ],
   "source": [
    "table('daily-treasury-rates').head(4).iloc[:, 6:]"
   ]
  },
  {
   "cell_type": "markdown",
   "id": "029f1327-c749-4b32-9d8b-e3a5b3956865",
   "metadata": {
    "editable": true,
    "slideshow": {
     "slide_type": ""
    },
    "tags": []
   },
   "source": [
    "* Curve movement"
   ]
  },
  {
   "cell_type": "code",
   "execution_count": 379,
   "id": "132d57d0-70d5-4132-96fd-f05a2032dbd7",
   "metadata": {
    "editable": true,
    "slideshow": {
     "slide_type": ""
    },
    "tags": []
   },
   "outputs": [
    {
     "data": {
      "text/html": [
       "<div>\n",
       "<style scoped>\n",
       "    .dataframe tbody tr th:only-of-type {\n",
       "        vertical-align: middle;\n",
       "    }\n",
       "\n",
       "    .dataframe tbody tr th {\n",
       "        vertical-align: top;\n",
       "    }\n",
       "\n",
       "    .dataframe thead th {\n",
       "        text-align: right;\n",
       "    }\n",
       "</style>\n",
       "<table border=\"1\" class=\"dataframe\">\n",
       "  <thead>\n",
       "    <tr style=\"text-align: right;\">\n",
       "      <th></th>\n",
       "      <th>1y</th>\n",
       "      <th>2y</th>\n",
       "      <th>3y</th>\n",
       "      <th>5y</th>\n",
       "      <th>7y</th>\n",
       "      <th>10y</th>\n",
       "      <th>20y</th>\n",
       "      <th>30y</th>\n",
       "    </tr>\n",
       "  </thead>\n",
       "  <tbody>\n",
       "    <tr>\n",
       "      <th>10/17/2025</th>\n",
       "      <td>NaN</td>\n",
       "      <td>NaN</td>\n",
       "      <td>NaN</td>\n",
       "      <td>NaN</td>\n",
       "      <td>NaN</td>\n",
       "      <td>NaN</td>\n",
       "      <td>NaN</td>\n",
       "      <td>NaN</td>\n",
       "    </tr>\n",
       "    <tr>\n",
       "      <th>10/16/2025</th>\n",
       "      <td>0.02</td>\n",
       "      <td>0.05</td>\n",
       "      <td>0.05</td>\n",
       "      <td>0.04</td>\n",
       "      <td>0.04</td>\n",
       "      <td>0.03</td>\n",
       "      <td>0.02</td>\n",
       "      <td>0.02</td>\n",
       "    </tr>\n",
       "    <tr>\n",
       "      <th>10/15/2025</th>\n",
       "      <td>-0.07</td>\n",
       "      <td>-0.09</td>\n",
       "      <td>-0.09</td>\n",
       "      <td>-0.08</td>\n",
       "      <td>-0.08</td>\n",
       "      <td>-0.06</td>\n",
       "      <td>-0.05</td>\n",
       "      <td>-0.06</td>\n",
       "    </tr>\n",
       "    <tr>\n",
       "      <th>10/14/2025</th>\n",
       "      <td>0.03</td>\n",
       "      <td>0.02</td>\n",
       "      <td>0.04</td>\n",
       "      <td>0.03</td>\n",
       "      <td>0.03</td>\n",
       "      <td>0.02</td>\n",
       "      <td>0.02</td>\n",
       "      <td>0.02</td>\n",
       "    </tr>\n",
       "  </tbody>\n",
       "</table>\n",
       "</div>"
      ],
      "text/plain": [
       "              1y    2y    3y    5y    7y   10y   20y   30y\n",
       "10/17/2025   NaN   NaN   NaN   NaN   NaN   NaN   NaN   NaN\n",
       "10/16/2025  0.02  0.05  0.05  0.04  0.04  0.03  0.02  0.02\n",
       "10/15/2025 -0.07 -0.09 -0.09 -0.08 -0.08 -0.06 -0.05 -0.06\n",
       "10/14/2025  0.03  0.02  0.04  0.03  0.03  0.02  0.02  0.02"
      ]
     },
     "execution_count": 379,
     "metadata": {},
     "output_type": "execute_result"
    }
   ],
   "source": [
    "-table('daily-treasury-rates').head(4).iloc[:, 6:].diff()"
   ]
  },
  {
   "cell_type": "markdown",
   "id": "43c66e1c-e841-4d78-9419-905ba03f6402",
   "metadata": {
    "editable": true,
    "slideshow": {
     "slide_type": "slide"
    },
    "tags": []
   },
   "source": [
    "## PCs\n",
    "\n",
    "* Classic result\n",
    "    * PC1 is close to parallel shift\n",
    "    * PC2 controls the slope of the curve\n",
    "    * PC3 controls the curvature"
   ]
  },
  {
   "cell_type": "code",
   "execution_count": 336,
   "id": "9f8990c7-bd60-4a31-8837-5692fdaf50fd",
   "metadata": {
    "editable": true,
    "slideshow": {
     "slide_type": ""
    },
    "tags": []
   },
   "outputs": [],
   "source": [
    "import numpy\n",
    "\n",
    "X = -table('daily-treasury-rates').head(67).iloc[:, 6:].diff().dropna().values\n",
    "\n",
    "m, n = X.shape\n",
    "\n",
    "u, s, vt = numpy.linalg.svd(X)\n",
    "\n",
    "T = u[:, :n] * s\n",
    "\n",
    "v = vt.T"
   ]
  },
  {
   "cell_type": "code",
   "execution_count": 337,
   "id": "1974a4ec-8d06-45cf-88f3-53d83dbc327f",
   "metadata": {
    "editable": true,
    "slideshow": {
     "slide_type": ""
    },
    "tags": []
   },
   "outputs": [
    {
     "data": {
      "image/png": "[encoded data removed]",
      "text/plain": [
       "<Figure size 800x400 with 1 Axes>"
      ]
     },
     "metadata": {},
     "output_type": "display_data"
    }
   ],
   "source": [
    "from pandas import DataFrame\n",
    "import matplotlib.pyplot as plt\n",
    "import numpy as np\n",
    "\n",
    "fig, ax = plt.subplots(figsize=(8, 4)) \n",
    "ax = DataFrame(v, columns=[f'PC{j}' for j in range(1, n+1)], index=['1y', '2y', '3y', '5y', '7y', '10y', '20y', '30y']).iloc[:, :3].plot(style='.-', ax=ax)\n",
    "ax.plot(range(8), np.zeros(8), color='lightgray');\n"
   ]
  },
  {
   "cell_type": "markdown",
   "id": "f5ace4bd-c121-4941-b0c9-bcacf1d3121b",
   "metadata": {
    "editable": true,
    "slideshow": {
     "slide_type": "slide"
    },
    "tags": []
   },
   "source": [
    "## Scores\n",
    "\n",
    "* Classic result: PC1 score volatility $\\gg$ PC2 score volatility $\\gg$ PC3 score volatility\n",
    "* Given how tiny PC4 (and beyond) score volatility is, curve movements that can't be explained by the first 3 PCs are often treated as noise"
   ]
  },
  {
   "cell_type": "code",
   "execution_count": 338,
   "id": "45628ef2-16ee-4512-b7ee-652fd47084ec",
   "metadata": {
    "editable": true,
    "slideshow": {
     "slide_type": ""
    },
    "tags": []
   },
   "outputs": [
    {
     "data": {
      "text/html": [
       "<div>\n",
       "<style scoped>\n",
       "    .dataframe tbody tr th:only-of-type {\n",
       "        vertical-align: middle;\n",
       "    }\n",
       "\n",
       "    .dataframe tbody tr th {\n",
       "        vertical-align: top;\n",
       "    }\n",
       "\n",
       "    .dataframe thead th {\n",
       "        text-align: right;\n",
       "    }\n",
       "</style>\n",
       "<table border=\"1\" class=\"dataframe\">\n",
       "  <thead>\n",
       "    <tr style=\"text-align: right;\">\n",
       "      <th></th>\n",
       "      <th>PC1</th>\n",
       "      <th>PC2</th>\n",
       "      <th>PC3</th>\n",
       "      <th>PC4</th>\n",
       "      <th>PC5</th>\n",
       "      <th>PC6</th>\n",
       "      <th>PC7</th>\n",
       "      <th>PC8</th>\n",
       "    </tr>\n",
       "  </thead>\n",
       "  <tbody>\n",
       "    <tr>\n",
       "      <th>Score Var</th>\n",
       "      <td>0.014254</td>\n",
       "      <td>0.001473</td>\n",
       "      <td>0.000414</td>\n",
       "      <td>0.000197</td>\n",
       "      <td>0.000085</td>\n",
       "      <td>0.000035</td>\n",
       "      <td>0.000028</td>\n",
       "      <td>0.00002</td>\n",
       "    </tr>\n",
       "  </tbody>\n",
       "</table>\n",
       "</div>"
      ],
      "text/plain": [
       "                PC1       PC2       PC3       PC4       PC5       PC6  \\\n",
       "Score Var  0.014254  0.001473  0.000414  0.000197  0.000085  0.000035   \n",
       "\n",
       "                PC7      PC8  \n",
       "Score Var  0.000028  0.00002  "
      ]
     },
     "execution_count": 338,
     "metadata": {},
     "output_type": "execute_result"
    }
   ],
   "source": [
    "(DataFrame(T, columns=[f'PC{j+1}' for j in range(n)])**2).mean().to_frame(name='Score Var').T"
   ]
  },
  {
   "cell_type": "code",
   "execution_count": 339,
   "id": "ef9f95a5-f5aa-453e-9ec6-75fd555aad76",
   "metadata": {
    "editable": true,
    "slideshow": {
     "slide_type": ""
    },
    "tags": []
   },
   "outputs": [
    {
     "data": {
      "image/png": "[encoded data removed]",
      "text/plain": [
       "<Figure size 800x300 with 1 Axes>"
      ]
     },
     "metadata": {},
     "output_type": "display_data"
    }
   ],
   "source": [
    "import matplotlib.pyplot as plt\n",
    "\n",
    "fig, ax = plt.subplots(figsize=(8, 3)) \n",
    "\n",
    "DataFrame(T, columns=[f'PC{j} Score' for j in range(1, n+1)]).iloc[:, :5].plot(ax=ax);"
   ]
  },
  {
   "cell_type": "markdown",
   "id": "957905c7-8725-4d93-bd49-d1f93fc7c374",
   "metadata": {
    "editable": true,
    "slideshow": {
     "slide_type": "slide"
    },
    "tags": []
   },
   "source": [
    "## What Just Happened? The Implication\n",
    "\n",
    "* Recall that $X = TV^{\\mathsf T}$. We have established that a unitary matrix like $V$ is a rotation matrix, so $X$ and $T$ are the same data, simply rotated\n",
    "* Think of rows of $X$ as independent sample points of the curve movement drawn from the same 8-dimensional distribution\n",
    "* Rows of $T$ are then also independent sample points drawn from some 8-dimensional distribution\n",
    "* One row of $X$ equals one row of $T$ multiplied by $V^{\\mathsf T}$\n",
    "    * This is a conclusion from the block matrix multiplication"
   ]
  },
  {
   "cell_type": "markdown",
   "id": "cd21ac75-403f-4610-abd3-4aa492bf1046",
   "metadata": {
    "editable": true,
    "slideshow": {
     "slide_type": "slide"
    },
    "tags": []
   },
   "source": [
    "## Block Matrix Multiplication\n",
    "\n",
    "* If all $A, B, C, \\ldots, H$ have the right sizes so that all the below operations are legal, then\n",
    "$$\n",
    "\\begin{pmatrix}\n",
    "\\begin{array}{c|c}\n",
    "  A & B\\\\\n",
    "\\hline\n",
    "  C & D\n",
    "\\end{array}\n",
    "\\end{pmatrix}\n",
    "\\begin{pmatrix}\n",
    "\\begin{array}{c|c}\n",
    "  E & F\\\\\n",
    "\\hline\n",
    "  G & H\n",
    "\\end{array}\n",
    "\\end{pmatrix} = \n",
    "\\begin{pmatrix}\n",
    "\\begin{array}{c|c}\n",
    "  AE+BG & AF+BH\\\\\n",
    "\\hline\n",
    "  CE+DG & CF+DH\n",
    "\\end{array}\n",
    "\\end{pmatrix}\n",
    "$$\n",
    "* Legal means for example\n",
    "    * Number of columns in $A$ equals number of rows in $E$ so that the matrix multiplication $AE$ is defined\n",
    "    * $AE$ and $BG$ have the the same size so that $AE + BG$ is defined\n",
    "* That one row of $X$ equals one row of $T$ multiplied by $V^{\\mathsf T}$ if $X = TV^{\\mathsf T}$ is a special case where $X$ and $T$ are sliced into rows"
   ]
  },
  {
   "cell_type": "markdown",
   "id": "26451009-f07d-4b48-ad65-9f9adecbc69c",
   "metadata": {
    "editable": true,
    "slideshow": {
     "slide_type": "slide"
    },
    "tags": []
   },
   "source": [
    "## The Implication (Cont.)\n",
    "* One row of $X$ equals one row of $T$ multiplied by $V$\n",
    "\\begin{align*}\n",
    "\\begin{pmatrix}\n",
    "x_{11} & x_{12} & \\cdots & x_{1n} \n",
    "\\end{pmatrix} &=\n",
    "\\begin{pmatrix}\n",
    "t_{11} & t_{12} & \\cdots & t_{1n} \n",
    "\\end{pmatrix} V^{\\mathsf T}\\\\\n",
    "&= \\begin{pmatrix}\n",
    "t_{11} & t_{12} & t_{13} & \\cdots & t_{1n} \n",
    "\\end{pmatrix}\n",
    "\\begin{pmatrix}\n",
    "\\frac{\\qquad}{} & v_1^{\\mathsf T} & \\frac{\\qquad}{}\\\\\n",
    "\\frac{\\qquad}{} & v_2^{\\mathsf T} & \\frac{\\qquad}{}\\\\\n",
    "\\frac{\\qquad}{} & v_3^{\\mathsf T} & \\frac{\\qquad}{}\\\\\n",
    "&\\vdots&\\\\\n",
    "\\end{pmatrix}\\\\\n",
    "&= t_{11} \\vec v_1^{\\mathsf T} + t_{12} \\vec v_2^{\\mathsf T} + t_{13} \\vec v_3^{\\mathsf T} + t_{14} \\vec v_4^{\\mathsf T} + \\cdots + t_{1n} \\vec v_n^{\\mathsf T}\\\\\n",
    "&= t_{11} \\vec v_1^{\\mathsf T} + t_{12} \\vec v_2^{\\mathsf T} + t_{13} \\vec v_3^{\\mathsf T} + \\vec\\epsilon\\\\\n",
    "\\end{align*}"
   ]
  },
  {
   "cell_type": "markdown",
   "id": "97a914d1-cb73-4ab2-90de-ac873ed99832",
   "metadata": {
    "editable": true,
    "slideshow": {
     "slide_type": "fragment"
    },
    "tags": []
   },
   "source": [
    "* We obtain a 3-factor model for the yield curve movement $\\vec x$:\n",
    "$$\n",
    "\\vec x = t_1 \\vec v_1 + t_2 \\vec v_2 + t_3 \\vec v_3 + \\vec\\epsilon, \n",
    "$$\n",
    "where $t_1$, $t_2$ and $t_3$ are random variables, $\\vec\\epsilon$ is a (small) random noise vector, and $\\vec v_1$, $\\vec v_2$ and $\\vec v_3$ are PCs from the data"
   ]
  },
  {
   "cell_type": "markdown",
   "id": "71175c9e-235e-4dce-81b8-0b636ac05973",
   "metadata": {
    "editable": true,
    "slideshow": {
     "slide_type": "slide"
    },
    "tags": []
   },
   "source": [
    "## Should We Center the Data?\n",
    "\n",
    "* Centering the data means find the average yield curve movement and subtract the average from the data\n",
    "* If we had centered the data with the average $\\vec x_{\\text{avg}}$, we would have got\n",
    "\\begin{align*}\n",
    "\\vec x = \\vec x_{\\text{avg}} + t_{1} \\vec v_1 + t_{2} \\vec v_2 + t_{3} \\vec v_3 + \\vec\\epsilon\\\\\n",
    "\\end{align*}\n",
    "* In practice, PCA is performed in a rolling period, and $\\vec x_{\\text{avg}}$ would be a moving average\n",
    "* The 3-factor model is used to predict tomorrow's yield curve movement. Whether to use the version with a moving average is personal choice\n",
    "* By not centering the data, we are saying $E[\\vec x] = \\vec x_{\\text{avg}} = \\vec 0$\n",
    "* One simple assumption that can lead to $E[\\vec x] = \\vec 0$ is\n",
    "$$\n",
    "E[t_1] = E[t_2] = E[t_3] = 0,\\qquad E[\\vec\\epsilon] = \\vec 0\n",
    "$$"
   ]
  },
  {
   "cell_type": "markdown",
   "id": "e884ebcd-517c-4354-9269-d0245eb3bfc4",
   "metadata": {
    "editable": true,
    "slideshow": {
     "slide_type": "slide"
    },
    "tags": []
   },
   "source": [
    "## Uncorrelated Model Coefficients $t$'s\n",
    "\n",
    "* In matrix form, the truncation of PC4 and beyond means\n",
    "\\begin{align*}\n",
    "\\begin{pmatrix}\n",
    "x_{11} & x_{12} & \\cdots & x_{1n} \n",
    "\\end{pmatrix} &= \\begin{pmatrix}\n",
    "t_{11} & t_{12} & t_{13} & \\cdots & t_{1n} \n",
    "\\end{pmatrix}\n",
    "\\begin{pmatrix}\n",
    "\\frac{\\qquad}{} & v_1^{\\mathsf T} & \\frac{\\qquad}{}\\\\\n",
    "\\frac{\\qquad}{} & v_2^{\\mathsf T} & \\frac{\\qquad}{}\\\\\n",
    "\\frac{\\qquad}{} & v_3^{\\mathsf T} & \\frac{\\qquad}{}\\\\\n",
    "&\\vdots&\\\\\n",
    "\\end{pmatrix}_{n\\times n}\\\\\n",
    "&= \\begin{pmatrix}\n",
    "t_{11} & t_{12} & t_{13}\n",
    "\\end{pmatrix}\n",
    "\\begin{pmatrix}\n",
    "\\frac{\\qquad}{} & v_1^{\\mathsf T} & \\frac{\\qquad}{}\\\\\n",
    "\\frac{\\qquad}{} & v_2^{\\mathsf T} & \\frac{\\qquad}{}\\\\\n",
    "\\frac{\\qquad}{} & v_3^{\\mathsf T} & \\frac{\\qquad}{}\n",
    "\\end{pmatrix}_{3\\times n} + \\vec\\epsilon\\\\\n",
    "\\end{align*}\n",
    "* Stack the rows back to matrices:\n",
    "\\begin{align*}\n",
    "X \\approx \\begin{pmatrix}\n",
    "t_{11} & t_{12} & t_{13}\\\\\n",
    "t_{21} & t_{22} & t_{23}\\\\\n",
    "&\\vdots&\\\\\n",
    "t_{m1} & t_{m2} & t_{m3}\n",
    "\\end{pmatrix}_{m\\times 3}\n",
    "\\begin{pmatrix}\n",
    "\\frac{\\qquad}{} & v_1^{\\mathsf T} & \\frac{\\qquad}{}\\\\\n",
    "\\frac{\\qquad}{} & v_2^{\\mathsf T} & \\frac{\\qquad}{}\\\\\n",
    "\\frac{\\qquad}{} & v_3^{\\mathsf T} & \\frac{\\qquad}{}\n",
    "\\end{pmatrix}_{3\\times n}\n",
    "\\end{align*}"
   ]
  },
  {
   "cell_type": "markdown",
   "id": "b0ffd012-7d03-4edc-b424-ebdddb6d5a0c",
   "metadata": {
    "editable": true,
    "slideshow": {
     "slide_type": "slide"
    },
    "tags": []
   },
   "source": [
    "## Uncorrelated Model Coefficients $t$'s (Cont.)\n",
    "\n",
    "$$\n",
    "$$\n",
    "\\begin{align*}\n",
    "X \\approx \\begin{pmatrix}\n",
    "t_{11} & t_{12} & t_{13}\\\\\n",
    "t_{21} & t_{22} & t_{23}\\\\\n",
    "&\\vdots&\\\\\n",
    "t_{m1} & t_{m2} & t_{m3}\n",
    "\\end{pmatrix}_{m\\times 3}\n",
    "\\begin{pmatrix}\n",
    "\\frac{\\qquad}{} & v_1^{\\mathsf T} & \\frac{\\qquad}{}\\\\\n",
    "\\frac{\\qquad}{} & v_2^{\\mathsf T} & \\frac{\\qquad}{}\\\\\n",
    "\\frac{\\qquad}{} & v_3^{\\mathsf T} & \\frac{\\qquad}{}\n",
    "\\end{pmatrix}_{3\\times n}\n",
    "\\end{align*}\n",
    "* $t$'s from the same column is realizations of a random variable\n",
    "* We have 3 columns of realizations from 3 random variables\n",
    "* We have established the assumption that all 3 random variables have mean 0"
   ]
  },
  {
   "cell_type": "markdown",
   "id": "4b50d618-830f-420b-9e72-d2870040bc0a",
   "metadata": {
    "editable": true,
    "slideshow": {
     "slide_type": "fragment"
    },
    "tags": []
   },
   "source": [
    "* Recall the property that, columns of the $T$ matrix have zero inner product: \n",
    "\\begin{align*}\n",
    "&t_{11}t_{12} + t_{21}t_{22} + \\cdots + t_{m1}t_{m2} = 0,\\\\\n",
    "&t_{11}t_{13} + t_{21}t_{23} + \\cdots + t_{m1}t_{m3} = 0,\\\\\n",
    "&t_{12}t_{13} + t_{22}t_{23} + \\cdots + t_{m2}t_{m3} = 0\n",
    "\\end{align*}\n",
    "* That means the 3 random variables are uncorrelated"
   ]
  },
  {
   "cell_type": "markdown",
   "id": "a2afa2f6-eeef-4742-86da-b1020dedf604",
   "metadata": {
    "editable": true,
    "slideshow": {
     "slide_type": "slide"
    },
    "tags": []
   },
   "source": [
    "## Sample Covariance and Correlation\n",
    "\n",
    "* Recall that, if we have two random variables $Y$, $Z$, both **with mean zero**, and their samples $\\{Y_j\\}_{j=1}^m$, $\\{Z_j\\}_{j=1}^m$, the sample standard deviations and corvariance are\n",
    "\\begin{align*}\n",
    "s_Y = \\sqrt{\\frac{\\sum_{j=1}^n Y_j^2}{m-1}}, \\qquad\n",
    "s_Z = \\sqrt{\\frac{\\sum_{j=1}^n Z_j^2}{m-1}}, \\qquad\n",
    "s_{YZ} = \\frac{\\sum_{j=1}^n Y_jZ_j}{m-1}, \n",
    "\\end{align*}\n",
    "respectively, and the correlation is $s_{YZ}/(s_Y s_Z)$\n",
    "* When $n$ goes to infinity, the sample standard deviations and corvariance converge to the theoretical value\n",
    "$$\n",
    "\\sqrt{E[Y^2]}, \\qquad\\sqrt{E[Z^2]}, \\qquad E[YZ],\n",
    "$$\n",
    "respectively\n",
    "* If $\\sum_{j=1}^m Y_jZ_j = 0$, that will make the sample covariance and correlation both zero\n",
    "* If we treat the random realizations $\\{Y_j\\}_{j=1}^m$ and $\\{Z_j\\}_{j=1}^m$ as two $m$-dimensional vectors, zero inner product of these two vectors means the sample correlation is zero"
   ]
  },
  {
   "cell_type": "markdown",
   "id": "75ac1ed1-6dd1-4608-a7dd-b615ca803561",
   "metadata": {
    "editable": true,
    "slideshow": {
     "slide_type": "slide"
    },
    "tags": []
   },
   "source": [
    "## 3-Factor Model\n",
    "\n",
    "* The model: \n",
    "$$\n",
    "\\vec x = t_1 \\vec v_1+ t_2 \\vec v_2+ t_3 \\vec v_3+ \\vec\\epsilon, \n",
    "$$\n",
    "where $t_1$, $t_2$ and $t_3$ are random variables, $\\vec\\epsilon$ is a (small) random noise vector, and $\\vec v_1$, $\\vec v_2$ and $\\vec v_3$ are PCs from the data\n",
    "* Now we know $t_1$, $t_2$ and $t_3$ have zero sample correlations. A sensible assumption is that they are mutually independent\n",
    "    * Be careful independence implies zero correlation, but the reverse is not true"
   ]
  },
  {
   "cell_type": "markdown",
   "id": "a8f5209a-f76a-4912-b6f1-435e034f109c",
   "metadata": {
    "editable": true,
    "slideshow": {
     "slide_type": "fragment"
    },
    "tags": []
   },
   "source": [
    "* We have also established the assumptions\n",
    "$$\n",
    "E[t_1] = E[t_2] = E[t_3] = 0,\\qquad E[\\vec\\epsilon] = \\vec 0\n",
    "$$"
   ]
  },
  {
   "cell_type": "markdown",
   "id": "c966624d-5108-4d37-a380-1ddea5b41bbe",
   "metadata": {
    "editable": true,
    "slideshow": {
     "slide_type": "fragment"
    },
    "tags": []
   },
   "source": [
    "* The simplest concrete model is that $t_1$, $t_2$ and $t_3$ are independently normally distributed with mean zero, and variances estimated by data"
   ]
  },
  {
   "cell_type": "markdown",
   "id": "f4bea258-ffba-4e6d-bfec-525701862c40",
   "metadata": {
    "editable": true,
    "slideshow": {
     "slide_type": "slide"
    },
    "tags": []
   },
   "source": [
    "## 3-Factor Model Summary\n",
    "\n",
    "* Tomorrow's yield curve movement is\n",
    "$$\n",
    "\\vec x = t_1 \\vec v_1+ t_2 \\vec v_2+ t_3 \\vec v_3+ \\vec\\epsilon\n",
    "$$\n",
    "* $\\vec\\epsilon$ is a (small) random noise vector\n",
    "* $\\vec v_1$, $\\vec v_2$ and $\\vec v_3$ are PCs from the data\n",
    "* $t_1$, $t_2$ and $t_3$ are independent normal random variables with mean 0, and their variances are estimated by data:"
   ]
  },
  {
   "cell_type": "code",
   "execution_count": 340,
   "id": "0847d97e-ebb7-451b-b035-45e01540585b",
   "metadata": {
    "editable": true,
    "slideshow": {
     "slide_type": ""
    },
    "tags": []
   },
   "outputs": [
    {
     "data": {
      "text/html": [
       "<div>\n",
       "<style scoped>\n",
       "    .dataframe tbody tr th:only-of-type {\n",
       "        vertical-align: middle;\n",
       "    }\n",
       "\n",
       "    .dataframe tbody tr th {\n",
       "        vertical-align: top;\n",
       "    }\n",
       "\n",
       "    .dataframe thead th {\n",
       "        text-align: right;\n",
       "    }\n",
       "</style>\n",
       "<table border=\"1\" class=\"dataframe\">\n",
       "  <thead>\n",
       "    <tr style=\"text-align: right;\">\n",
       "      <th></th>\n",
       "      <th>PC1</th>\n",
       "      <th>PC2</th>\n",
       "      <th>PC3</th>\n",
       "      <th>PC4</th>\n",
       "      <th>PC5</th>\n",
       "      <th>PC6</th>\n",
       "      <th>PC7</th>\n",
       "      <th>PC8</th>\n",
       "    </tr>\n",
       "  </thead>\n",
       "  <tbody>\n",
       "    <tr>\n",
       "      <th>Score Var</th>\n",
       "      <td>0.014254</td>\n",
       "      <td>0.001473</td>\n",
       "      <td>0.000414</td>\n",
       "      <td>0.000197</td>\n",
       "      <td>0.000085</td>\n",
       "      <td>0.000035</td>\n",
       "      <td>0.000028</td>\n",
       "      <td>0.00002</td>\n",
       "    </tr>\n",
       "  </tbody>\n",
       "</table>\n",
       "</div>"
      ],
      "text/plain": [
       "                PC1       PC2       PC3       PC4       PC5       PC6  \\\n",
       "Score Var  0.014254  0.001473  0.000414  0.000197  0.000085  0.000035   \n",
       "\n",
       "                PC7      PC8  \n",
       "Score Var  0.000028  0.00002  "
      ]
     },
     "execution_count": 340,
     "metadata": {},
     "output_type": "execute_result"
    }
   ],
   "source": [
    "(DataFrame(T, columns=[f'PC{j+1}' for j in range(n)])**2).mean().to_frame(name='Score Var').T"
   ]
  },
  {
   "cell_type": "markdown",
   "id": "beffe85d-ea3d-4048-956a-e21a72a6d89e",
   "metadata": {
    "editable": true,
    "slideshow": {
     "slide_type": ""
    },
    "tags": []
   },
   "source": [
    "$$\n",
    "t_1\\sim N(0, 0.014254)\\qquad t_2\\sim N(0, 0.001473)\\qquad t_3\\sim N(0, 0.000414)\n",
    "$$"
   ]
  },
  {
   "cell_type": "markdown",
   "id": "ea7861d0-0aa3-44b1-8298-cd0aa71e245e",
   "metadata": {
    "editable": true,
    "slideshow": {
     "slide_type": "slide"
    },
    "tags": []
   },
   "source": [
    "## PCs Revisited\n",
    "$$\n",
    "\\vec x = t_1 \\vec v_1+ t_2 \\vec v_2+ t_3 \\vec v_3 + \\vec\\epsilon\n",
    "$$\n",
    "* PC1 is close to parallel shift\n",
    "* PC2 controls the slope of the curve\n",
    "* PC3 controls the curvature"
   ]
  },
  {
   "cell_type": "code",
   "execution_count": 341,
   "id": "cb4e2ca1-0663-42a7-b102-67e82c1392d7",
   "metadata": {
    "editable": true,
    "slideshow": {
     "slide_type": ""
    },
    "tags": []
   },
   "outputs": [],
   "source": [
    "import numpy\n",
    "\n",
    "X = -table('daily-treasury-rates').head(67).iloc[:, 6:].diff().dropna().values\n",
    "\n",
    "m, n = X.shape\n",
    "\n",
    "u, s, vt = numpy.linalg.svd(X)\n",
    "\n",
    "T = u[:, :n] * s\n",
    "\n",
    "v = vt.T"
   ]
  },
  {
   "cell_type": "code",
   "execution_count": 342,
   "id": "e1bce289-2ee0-4c51-b4cd-7ce2b923d861",
   "metadata": {
    "editable": true,
    "slideshow": {
     "slide_type": ""
    },
    "tags": []
   },
   "outputs": [
    {
     "data": {
      "image/png": "[encoded data removed]",
      "text/plain": [
       "<Figure size 800x400 with 1 Axes>"
      ]
     },
     "metadata": {},
     "output_type": "display_data"
    }
   ],
   "source": [
    "from pandas import DataFrame\n",
    "import matplotlib.pyplot as plt\n",
    "import numpy as np\n",
    "\n",
    "fig, ax = plt.subplots(figsize=(8, 4)) \n",
    "ax = DataFrame(v, columns=[f'PC{j}' for j in range(1, n+1)], index=['1y', '2y', '3y', '5y', '7y', '10y', '20y', '30y']).iloc[:, :3].plot(style='.-', ax=ax)\n",
    "ax.plot(range(8), np.zeros(8), color='lightgray');\n"
   ]
  },
  {
   "cell_type": "markdown",
   "id": "198d4bf8-3790-4f58-a456-c57450be2c6f",
   "metadata": {
    "editable": true,
    "slideshow": {
     "slide_type": "slide"
    },
    "tags": []
   },
   "source": [
    "## PC1 Scenarios: Parallel Shift\n",
    "\n",
    "* Holding $t_2 = t_3 = 0$. A few possible realizations of $t_1$ (std amplified 10 times for a better visualization, and same for PC2 and PC3 scenarios below)"
   ]
  },
  {
   "cell_type": "code",
   "execution_count": 343,
   "id": "a4b2ab6c-6e0a-4e34-8f54-8bbc2b243798",
   "metadata": {
    "editable": true,
    "slideshow": {
     "slide_type": ""
    },
    "tags": []
   },
   "outputs": [
    {
     "name": "stdout",
     "output_type": "stream",
     "text": [
      "[ 1.29061263 -1.91333395 -1.01081064 -1.42220717  0.28616997]\n"
     ]
    }
   ],
   "source": [
    "import numpy as np\n",
    "\n",
    "n_scenarios = 5\n",
    "\n",
    "# PCs\n",
    "v1, v2, v3 = v[:, :3].T  \n",
    "\n",
    "# std of coefficients\n",
    "std1, std2, std3 = 10*np.sqrt((DataFrame(T, columns=[f'PC{j+1}' for j in range(n)])**2).mean()).to_frame(name='Score Var').values.flatten()[:3]\n",
    "\n",
    "# random scenarios\n",
    "t1_scenarios = np.random.normal(loc=0, scale=std1, size=n_scenarios)\n",
    "t2_scenarios = np.random.normal(loc=0, scale=std2, size=n_scenarios)\n",
    "t3_scenarios = np.random.normal(loc=0, scale=std3, size=n_scenarios)\n",
    "\n",
    "print(t1_scenarios)"
   ]
  },
  {
   "cell_type": "markdown",
   "id": "1a2a2720-1d23-48d2-bd47-72490febba48",
   "metadata": {
    "editable": true,
    "slideshow": {
     "slide_type": ""
    },
    "tags": []
   },
   "source": [
    "* Scenario curves:\n",
    "$$\\text{Tomorrow's Curve $=$ Today's Curve $+\\vec x + \\vec\\epsilon =$ Today's Curve $+t_1 \\vec v_1 + \\vec\\epsilon$}\n",
    "$$"
   ]
  },
  {
   "cell_type": "code",
   "execution_count": 344,
   "id": "3fc9789a-0683-400a-bcf1-c3878ab80ac7",
   "metadata": {
    "editable": true,
    "slideshow": {
     "slide_type": ""
    },
    "tags": []
   },
   "outputs": [
    {
     "data": {
      "text/html": [
       "<div>\n",
       "<style scoped>\n",
       "    .dataframe tbody tr th:only-of-type {\n",
       "        vertical-align: middle;\n",
       "    }\n",
       "\n",
       "    .dataframe tbody tr th {\n",
       "        vertical-align: top;\n",
       "    }\n",
       "\n",
       "    .dataframe thead th {\n",
       "        text-align: right;\n",
       "    }\n",
       "</style>\n",
       "<table border=\"1\" class=\"dataframe\">\n",
       "  <thead>\n",
       "    <tr style=\"text-align: right;\">\n",
       "      <th></th>\n",
       "      <th>10/17/2025</th>\n",
       "      <th>s1</th>\n",
       "      <th>s2</th>\n",
       "      <th>s3</th>\n",
       "      <th>s4</th>\n",
       "      <th>s5</th>\n",
       "    </tr>\n",
       "  </thead>\n",
       "  <tbody>\n",
       "    <tr>\n",
       "      <th>1y</th>\n",
       "      <td>3.56</td>\n",
       "      <td>3.145144</td>\n",
       "      <td>4.175025</td>\n",
       "      <td>3.884916</td>\n",
       "      <td>4.017156</td>\n",
       "      <td>3.468013</td>\n",
       "    </tr>\n",
       "    <tr>\n",
       "      <th>2y</th>\n",
       "      <td>3.46</td>\n",
       "      <td>2.915720</td>\n",
       "      <td>4.266895</td>\n",
       "      <td>3.886281</td>\n",
       "      <td>4.059776</td>\n",
       "      <td>3.339316</td>\n",
       "    </tr>\n",
       "    <tr>\n",
       "      <th>3y</th>\n",
       "      <td>3.47</td>\n",
       "      <td>2.957706</td>\n",
       "      <td>4.229477</td>\n",
       "      <td>3.871230</td>\n",
       "      <td>4.034529</td>\n",
       "      <td>3.356408</td>\n",
       "    </tr>\n",
       "    <tr>\n",
       "      <th>5y</th>\n",
       "      <td>3.59</td>\n",
       "      <td>3.091960</td>\n",
       "      <td>4.328345</td>\n",
       "      <td>3.980066</td>\n",
       "      <td>4.138822</td>\n",
       "      <td>3.479569</td>\n",
       "    </tr>\n",
       "    <tr>\n",
       "      <th>7y</th>\n",
       "      <td>3.78</td>\n",
       "      <td>3.294604</td>\n",
       "      <td>4.499600</td>\n",
       "      <td>4.160163</td>\n",
       "      <td>4.314888</td>\n",
       "      <td>3.672372</td>\n",
       "    </tr>\n",
       "    <tr>\n",
       "      <th>10y</th>\n",
       "      <td>4.02</td>\n",
       "      <td>3.592454</td>\n",
       "      <td>4.653837</td>\n",
       "      <td>4.354855</td>\n",
       "      <td>4.491140</td>\n",
       "      <td>3.925199</td>\n",
       "    </tr>\n",
       "    <tr>\n",
       "      <th>20y</th>\n",
       "      <td>4.58</td>\n",
       "      <td>4.201118</td>\n",
       "      <td>5.141693</td>\n",
       "      <td>4.876741</td>\n",
       "      <td>4.997514</td>\n",
       "      <td>4.495990</td>\n",
       "    </tr>\n",
       "    <tr>\n",
       "      <th>30y</th>\n",
       "      <td>4.60</td>\n",
       "      <td>4.246604</td>\n",
       "      <td>5.123910</td>\n",
       "      <td>4.876781</td>\n",
       "      <td>4.989430</td>\n",
       "      <td>4.521641</td>\n",
       "    </tr>\n",
       "  </tbody>\n",
       "</table>\n",
       "</div>"
      ],
      "text/plain": [
       "     10/17/2025        s1        s2        s3        s4        s5\n",
       "1y         3.56  3.145144  4.175025  3.884916  4.017156  3.468013\n",
       "2y         3.46  2.915720  4.266895  3.886281  4.059776  3.339316\n",
       "3y         3.47  2.957706  4.229477  3.871230  4.034529  3.356408\n",
       "5y         3.59  3.091960  4.328345  3.980066  4.138822  3.479569\n",
       "7y         3.78  3.294604  4.499600  4.160163  4.314888  3.672372\n",
       "10y        4.02  3.592454  4.653837  4.354855  4.491140  3.925199\n",
       "20y        4.58  4.201118  5.141693  4.876741  4.997514  4.495990\n",
       "30y        4.60  4.246604  5.123910  4.876781  4.989430  4.521641"
      ]
     },
     "execution_count": 344,
     "metadata": {},
     "output_type": "execute_result"
    }
   ],
   "source": [
    "import pandas as pd\n",
    "\n",
    "curve_today = table('daily-treasury-rates').head(1).iloc[:, 6:].T\n",
    "\n",
    "pc1_scenario_curves = pd.concat([curve_today, DataFrame(np.outer(v1, t1_scenarios) + curve_today.values, index=curve_today.index, columns=[f's{j}' for j in range(1, n_scenarios+1)])], axis='columns')\n",
    "\n",
    "pc1_scenario_curves"
   ]
  },
  {
   "cell_type": "markdown",
   "id": "c47d0c1d-4c47-4ceb-9a4c-23e7049c5b93",
   "metadata": {
    "editable": true,
    "slideshow": {
     "slide_type": "slide"
    },
    "tags": []
   },
   "source": [
    "## PC1 Scenarios: Parallel Shift (Cont.)"
   ]
  },
  {
   "cell_type": "code",
   "execution_count": 345,
   "id": "94fd7521-d4c6-4aa0-802b-f0067b722e64",
   "metadata": {
    "editable": true,
    "slideshow": {
     "slide_type": ""
    },
    "tags": []
   },
   "outputs": [
    {
     "data": {
      "image/png": "[encoded data removed]",
      "text/plain": [
       "<Figure size 640x480 with 1 Axes>"
      ]
     },
     "metadata": {},
     "output_type": "display_data"
    }
   ],
   "source": [
    "pc1_scenario_curves.plot(style='.-');"
   ]
  },
  {
   "cell_type": "markdown",
   "id": "3ffdc51b-35d2-45ec-83b6-1a26ca38e925",
   "metadata": {
    "editable": true,
    "slideshow": {
     "slide_type": "slide"
    },
    "tags": []
   },
   "source": [
    "## PC2 Scenarios: Slope Change\n",
    "\n",
    "* Holding $t_1 = t_3 = 0$. A few possible realizations of $t_2$: "
   ]
  },
  {
   "cell_type": "code",
   "execution_count": 346,
   "id": "07487f77-c982-42bb-8b60-d3973023563b",
   "metadata": {
    "editable": true,
    "slideshow": {
     "slide_type": ""
    },
    "tags": []
   },
   "outputs": [
    {
     "name": "stdout",
     "output_type": "stream",
     "text": [
      "[-0.09221954 -0.09366528 -0.35735591 -0.09354906 -0.18492912]\n"
     ]
    }
   ],
   "source": [
    "print(t2_scenarios)"
   ]
  },
  {
   "cell_type": "markdown",
   "id": "97f95a60-a902-4418-b307-e3f6a806cb7e",
   "metadata": {
    "editable": true,
    "slideshow": {
     "slide_type": ""
    },
    "tags": []
   },
   "source": [
    "* Scenario curves:\n",
    "$$\n",
    "\\text{Tomorrow's Curve $=$ Today's Curve $+t_2 \\vec v_2 + \\vec\\epsilon$}\n",
    "$$"
   ]
  },
  {
   "cell_type": "code",
   "execution_count": 347,
   "id": "5a811a83-55ac-4cd7-8bfd-a70c70252b72",
   "metadata": {
    "editable": true,
    "slideshow": {
     "slide_type": ""
    },
    "tags": []
   },
   "outputs": [
    {
     "data": {
      "text/html": [
       "<div>\n",
       "<style scoped>\n",
       "    .dataframe tbody tr th:only-of-type {\n",
       "        vertical-align: middle;\n",
       "    }\n",
       "\n",
       "    .dataframe tbody tr th {\n",
       "        vertical-align: top;\n",
       "    }\n",
       "\n",
       "    .dataframe thead th {\n",
       "        text-align: right;\n",
       "    }\n",
       "</style>\n",
       "<table border=\"1\" class=\"dataframe\">\n",
       "  <thead>\n",
       "    <tr style=\"text-align: right;\">\n",
       "      <th></th>\n",
       "      <th>10/17/2025</th>\n",
       "      <th>s1</th>\n",
       "      <th>s2</th>\n",
       "      <th>s3</th>\n",
       "      <th>s4</th>\n",
       "      <th>s5</th>\n",
       "    </tr>\n",
       "  </thead>\n",
       "  <tbody>\n",
       "    <tr>\n",
       "      <th>1y</th>\n",
       "      <td>3.56</td>\n",
       "      <td>3.526554</td>\n",
       "      <td>3.526030</td>\n",
       "      <td>3.430396</td>\n",
       "      <td>3.526072</td>\n",
       "      <td>3.492931</td>\n",
       "    </tr>\n",
       "    <tr>\n",
       "      <th>2y</th>\n",
       "      <td>3.46</td>\n",
       "      <td>3.420985</td>\n",
       "      <td>3.420374</td>\n",
       "      <td>3.308816</td>\n",
       "      <td>3.420423</td>\n",
       "      <td>3.381763</td>\n",
       "    </tr>\n",
       "    <tr>\n",
       "      <th>3y</th>\n",
       "      <td>3.47</td>\n",
       "      <td>3.450150</td>\n",
       "      <td>3.449839</td>\n",
       "      <td>3.393082</td>\n",
       "      <td>3.449864</td>\n",
       "      <td>3.430195</td>\n",
       "    </tr>\n",
       "    <tr>\n",
       "      <th>5y</th>\n",
       "      <td>3.59</td>\n",
       "      <td>3.580736</td>\n",
       "      <td>3.580591</td>\n",
       "      <td>3.554101</td>\n",
       "      <td>3.580602</td>\n",
       "      <td>3.571423</td>\n",
       "    </tr>\n",
       "    <tr>\n",
       "      <th>7y</th>\n",
       "      <td>3.78</td>\n",
       "      <td>3.789568</td>\n",
       "      <td>3.789718</td>\n",
       "      <td>3.817076</td>\n",
       "      <td>3.789706</td>\n",
       "      <td>3.799187</td>\n",
       "    </tr>\n",
       "    <tr>\n",
       "      <th>10y</th>\n",
       "      <td>4.02</td>\n",
       "      <td>4.042783</td>\n",
       "      <td>4.043140</td>\n",
       "      <td>4.108285</td>\n",
       "      <td>4.043111</td>\n",
       "      <td>4.065687</td>\n",
       "    </tr>\n",
       "    <tr>\n",
       "      <th>20y</th>\n",
       "      <td>4.58</td>\n",
       "      <td>4.624153</td>\n",
       "      <td>4.624845</td>\n",
       "      <td>4.751094</td>\n",
       "      <td>4.624789</td>\n",
       "      <td>4.668540</td>\n",
       "    </tr>\n",
       "    <tr>\n",
       "      <th>30y</th>\n",
       "      <td>4.60</td>\n",
       "      <td>4.653139</td>\n",
       "      <td>4.653972</td>\n",
       "      <td>4.805918</td>\n",
       "      <td>4.653905</td>\n",
       "      <td>4.706561</td>\n",
       "    </tr>\n",
       "  </tbody>\n",
       "</table>\n",
       "</div>"
      ],
      "text/plain": [
       "     10/17/2025        s1        s2        s3        s4        s5\n",
       "1y         3.56  3.526554  3.526030  3.430396  3.526072  3.492931\n",
       "2y         3.46  3.420985  3.420374  3.308816  3.420423  3.381763\n",
       "3y         3.47  3.450150  3.449839  3.393082  3.449864  3.430195\n",
       "5y         3.59  3.580736  3.580591  3.554101  3.580602  3.571423\n",
       "7y         3.78  3.789568  3.789718  3.817076  3.789706  3.799187\n",
       "10y        4.02  4.042783  4.043140  4.108285  4.043111  4.065687\n",
       "20y        4.58  4.624153  4.624845  4.751094  4.624789  4.668540\n",
       "30y        4.60  4.653139  4.653972  4.805918  4.653905  4.706561"
      ]
     },
     "execution_count": 347,
     "metadata": {},
     "output_type": "execute_result"
    }
   ],
   "source": [
    "pc2_scenario_curves = pd.concat([curve_today, DataFrame(np.outer(v2, t2_scenarios) + curve_today.values, index=curve_today.index, columns=[f's{j}' for j in range(1, n_scenarios+1)])], axis='columns')\n",
    "\n",
    "pc2_scenario_curves"
   ]
  },
  {
   "cell_type": "markdown",
   "id": "41141edc-4c97-48f1-b7c5-f9275c6125af",
   "metadata": {
    "editable": true,
    "slideshow": {
     "slide_type": "slide"
    },
    "tags": []
   },
   "source": [
    "## PC2 Scenarios: Slope Change (Cont.)\n",
    "\n",
    "* Curve can \"steepen\" or \"flatten\""
   ]
  },
  {
   "cell_type": "code",
   "execution_count": 348,
   "id": "21b7bdc8-577e-42c4-905c-154af0a3baf7",
   "metadata": {
    "editable": true,
    "slideshow": {
     "slide_type": ""
    },
    "tags": []
   },
   "outputs": [
    {
     "data": {
      "image/png": "[encoded data removed]",
      "text/plain": [
       "<Figure size 640x480 with 1 Axes>"
      ]
     },
     "metadata": {},
     "output_type": "display_data"
    }
   ],
   "source": [
    "pc2_scenario_curves.plot(style='.-');"
   ]
  },
  {
   "cell_type": "markdown",
   "id": "1709e39c-a0cd-4168-bf17-8f9ddea3bc5a",
   "metadata": {
    "editable": true,
    "slideshow": {
     "slide_type": "slide"
    },
    "tags": []
   },
   "source": [
    "## PC3 Scenarios: Curvature Change\n",
    "\n",
    "* Holding $t_1 = t_2 = 0$. A few possible realizations of $t_3$: "
   ]
  },
  {
   "cell_type": "code",
   "execution_count": 349,
   "id": "90bb9e9f-0a3f-45f4-bb3b-3e1ee97494e2",
   "metadata": {
    "editable": true,
    "slideshow": {
     "slide_type": ""
    },
    "tags": []
   },
   "outputs": [
    {
     "name": "stdout",
     "output_type": "stream",
     "text": [
      "[ 0.00803162 -0.00072979 -0.08835312  0.17060337  0.01578796]\n"
     ]
    }
   ],
   "source": [
    "print(t3_scenarios)"
   ]
  },
  {
   "cell_type": "markdown",
   "id": "ab0508cd-45b8-4970-81fd-5a4aef64d6a6",
   "metadata": {
    "editable": true,
    "slideshow": {
     "slide_type": ""
    },
    "tags": []
   },
   "source": [
    "* Scenario curves:\n",
    "$$\n",
    "\\text{Tomorrow's Curve $=$ Today's Curve $+t_3 \\vec v_3 + \\vec\\epsilon$}\n",
    "$$"
   ]
  },
  {
   "cell_type": "code",
   "execution_count": 350,
   "id": "df6f61b9-75a1-4ae3-997a-b24cbb35c6f7",
   "metadata": {
    "editable": true,
    "slideshow": {
     "slide_type": ""
    },
    "tags": []
   },
   "outputs": [
    {
     "data": {
      "text/html": [
       "<div>\n",
       "<style scoped>\n",
       "    .dataframe tbody tr th:only-of-type {\n",
       "        vertical-align: middle;\n",
       "    }\n",
       "\n",
       "    .dataframe tbody tr th {\n",
       "        vertical-align: top;\n",
       "    }\n",
       "\n",
       "    .dataframe thead th {\n",
       "        text-align: right;\n",
       "    }\n",
       "</style>\n",
       "<table border=\"1\" class=\"dataframe\">\n",
       "  <thead>\n",
       "    <tr style=\"text-align: right;\">\n",
       "      <th></th>\n",
       "      <th>10/17/2025</th>\n",
       "      <th>s1</th>\n",
       "      <th>s2</th>\n",
       "      <th>s3</th>\n",
       "      <th>s4</th>\n",
       "      <th>s5</th>\n",
       "    </tr>\n",
       "  </thead>\n",
       "  <tbody>\n",
       "    <tr>\n",
       "      <th>1y</th>\n",
       "      <td>3.56</td>\n",
       "      <td>3.566847</td>\n",
       "      <td>3.559378</td>\n",
       "      <td>3.484676</td>\n",
       "      <td>3.705446</td>\n",
       "      <td>3.573460</td>\n",
       "    </tr>\n",
       "    <tr>\n",
       "      <th>2y</th>\n",
       "      <td>3.46</td>\n",
       "      <td>3.458359</td>\n",
       "      <td>3.460149</td>\n",
       "      <td>3.478053</td>\n",
       "      <td>3.425140</td>\n",
       "      <td>3.456774</td>\n",
       "    </tr>\n",
       "    <tr>\n",
       "      <th>3y</th>\n",
       "      <td>3.47</td>\n",
       "      <td>3.466772</td>\n",
       "      <td>3.470293</td>\n",
       "      <td>3.505515</td>\n",
       "      <td>3.401424</td>\n",
       "      <td>3.463654</td>\n",
       "    </tr>\n",
       "    <tr>\n",
       "      <th>5y</th>\n",
       "      <td>3.59</td>\n",
       "      <td>3.588414</td>\n",
       "      <td>3.590144</td>\n",
       "      <td>3.607448</td>\n",
       "      <td>3.556310</td>\n",
       "      <td>3.586882</td>\n",
       "    </tr>\n",
       "    <tr>\n",
       "      <th>7y</th>\n",
       "      <td>3.78</td>\n",
       "      <td>3.779595</td>\n",
       "      <td>3.780037</td>\n",
       "      <td>3.784459</td>\n",
       "      <td>3.771391</td>\n",
       "      <td>3.779203</td>\n",
       "    </tr>\n",
       "    <tr>\n",
       "      <th>10y</th>\n",
       "      <td>4.02</td>\n",
       "      <td>4.019999</td>\n",
       "      <td>4.020000</td>\n",
       "      <td>4.020007</td>\n",
       "      <td>4.019986</td>\n",
       "      <td>4.019999</td>\n",
       "    </tr>\n",
       "    <tr>\n",
       "      <th>20y</th>\n",
       "      <td>4.58</td>\n",
       "      <td>4.581106</td>\n",
       "      <td>4.579900</td>\n",
       "      <td>4.567838</td>\n",
       "      <td>4.603483</td>\n",
       "      <td>4.582173</td>\n",
       "    </tr>\n",
       "    <tr>\n",
       "      <th>30y</th>\n",
       "      <td>4.60</td>\n",
       "      <td>4.600777</td>\n",
       "      <td>4.599929</td>\n",
       "      <td>4.591452</td>\n",
       "      <td>4.616505</td>\n",
       "      <td>4.601527</td>\n",
       "    </tr>\n",
       "  </tbody>\n",
       "</table>\n",
       "</div>"
      ],
      "text/plain": [
       "     10/17/2025        s1        s2        s3        s4        s5\n",
       "1y         3.56  3.566847  3.559378  3.484676  3.705446  3.573460\n",
       "2y         3.46  3.458359  3.460149  3.478053  3.425140  3.456774\n",
       "3y         3.47  3.466772  3.470293  3.505515  3.401424  3.463654\n",
       "5y         3.59  3.588414  3.590144  3.607448  3.556310  3.586882\n",
       "7y         3.78  3.779595  3.780037  3.784459  3.771391  3.779203\n",
       "10y        4.02  4.019999  4.020000  4.020007  4.019986  4.019999\n",
       "20y        4.58  4.581106  4.579900  4.567838  4.603483  4.582173\n",
       "30y        4.60  4.600777  4.599929  4.591452  4.616505  4.601527"
      ]
     },
     "execution_count": 350,
     "metadata": {},
     "output_type": "execute_result"
    }
   ],
   "source": [
    "pc3_scenario_curves = pd.concat([curve_today, DataFrame(np.outer(v3, t3_scenarios) + curve_today.values, index=curve_today.index, columns=[f's{j}' for j in range(1, n_scenarios+1)])], axis='columns')\n",
    "\n",
    "pc3_scenario_curves"
   ]
  },
  {
   "cell_type": "markdown",
   "id": "de968d25-fd05-418f-b755-bb9d01c0265b",
   "metadata": {
    "editable": true,
    "slideshow": {
     "slide_type": "slide"
    },
    "tags": []
   },
   "source": [
    "## PC3 Scenarios: Curvature Change (Cont.)"
   ]
  },
  {
   "cell_type": "code",
   "execution_count": 351,
   "id": "e5287586-b127-4f4f-ad3b-b4656728059f",
   "metadata": {
    "editable": true,
    "slideshow": {
     "slide_type": ""
    },
    "tags": []
   },
   "outputs": [
    {
     "data": {
      "image/png": "[encoded data removed]",
      "text/plain": [
       "<Figure size 640x480 with 1 Axes>"
      ]
     },
     "metadata": {},
     "output_type": "display_data"
    }
   ],
   "source": [
    "pc3_scenario_curves.plot(style='.-');"
   ]
  },
  {
   "cell_type": "markdown",
   "id": "28efb827-e5a3-4b9a-bac9-86d2a65fe851",
   "metadata": {
    "editable": true,
    "slideshow": {
     "slide_type": "slide"
    },
    "tags": []
   },
   "source": [
    "## Cumulative Percentage of Variance Explained\n",
    "\n",
    "* Recall the score matrix\n",
    "$$\n",
    "T = \\begin{pmatrix}\n",
    "t_{11} & t_{12} & \\cdots & t_{1n}\\\\\n",
    "t_{21} & t_{22} & \\cdots & t_{2n}\\\\\\\\\n",
    "&&\\vdots& \\\\\\\\\n",
    "t_{m1} & t_{m2} & \\cdots & t_{mn}\n",
    "\\end{pmatrix}_{m\\times n}\n",
    "$$\n",
    "* We assume each column are realizations of a random variable with mean 0\n",
    "* Under the assumption, we find sample variance column by column. For example, the first column gives the variance $\\sum_{j=1}^m t_{j1}^2/m = 0.014254$, as listed below"
   ]
  },
  {
   "cell_type": "code",
   "execution_count": 352,
   "id": "3fd781d1-9f72-4b73-b40e-3cace6acd189",
   "metadata": {
    "editable": true,
    "slideshow": {
     "slide_type": ""
    },
    "tags": []
   },
   "outputs": [
    {
     "data": {
      "text/html": [
       "<div>\n",
       "<style scoped>\n",
       "    .dataframe tbody tr th:only-of-type {\n",
       "        vertical-align: middle;\n",
       "    }\n",
       "\n",
       "    .dataframe tbody tr th {\n",
       "        vertical-align: top;\n",
       "    }\n",
       "\n",
       "    .dataframe thead th {\n",
       "        text-align: right;\n",
       "    }\n",
       "</style>\n",
       "<table border=\"1\" class=\"dataframe\">\n",
       "  <thead>\n",
       "    <tr style=\"text-align: right;\">\n",
       "      <th></th>\n",
       "      <th>PC1</th>\n",
       "      <th>PC2</th>\n",
       "      <th>PC3</th>\n",
       "      <th>PC4</th>\n",
       "      <th>PC5</th>\n",
       "      <th>PC6</th>\n",
       "      <th>PC7</th>\n",
       "      <th>PC8</th>\n",
       "    </tr>\n",
       "  </thead>\n",
       "  <tbody>\n",
       "    <tr>\n",
       "      <th>Score Var</th>\n",
       "      <td>0.014254</td>\n",
       "      <td>0.001473</td>\n",
       "      <td>0.000414</td>\n",
       "      <td>0.000197</td>\n",
       "      <td>0.000085</td>\n",
       "      <td>0.000035</td>\n",
       "      <td>0.000028</td>\n",
       "      <td>0.00002</td>\n",
       "    </tr>\n",
       "  </tbody>\n",
       "</table>\n",
       "</div>"
      ],
      "text/plain": [
       "                PC1       PC2       PC3       PC4       PC5       PC6  \\\n",
       "Score Var  0.014254  0.001473  0.000414  0.000197  0.000085  0.000035   \n",
       "\n",
       "                PC7      PC8  \n",
       "Score Var  0.000028  0.00002  "
      ]
     },
     "execution_count": 352,
     "metadata": {},
     "output_type": "execute_result"
    }
   ],
   "source": [
    "score_var = (DataFrame(T, columns=[f'PC{j+1}' for j in range(n)])**2).mean().to_frame(name='Score Var').T\n",
    "score_var"
   ]
  },
  {
   "cell_type": "markdown",
   "id": "25814304-0019-436f-a26f-8e1633196181",
   "metadata": {
    "editable": true,
    "slideshow": {
     "slide_type": "slide"
    },
    "tags": []
   },
   "source": [
    "## Cumulative Percentage of Variance Explained (Cont.)"
   ]
  },
  {
   "cell_type": "markdown",
   "id": "7e9a0b89-29e6-41a0-9ea8-9cae86f145b7",
   "metadata": {
    "editable": true,
    "slideshow": {
     "slide_type": ""
    },
    "tags": []
   },
   "source": [
    "* Denote the variances by $\\text{Var}_1, \\text{Var}_2, \\ldots, \\text{Var}_n$:\n",
    "$$\n",
    "\\text{Var}_k = \\frac{1}{m}\\sum_{j=1}^m t_{jk}^2\n",
    "$$\n",
    "* The cumulative percentage of variance explained by the first $k$ PCs are defined by\n",
    "$$\n",
    "\\frac{\\text{Var}_1 + \\text{Var}_2 + \\cdots + \\text{Var}_k}{\\text{Var}_1 + \\text{Var}_2 + \\text{Var}_3 + \\cdots + \\text{Var}_n}\n",
    "$$\n",
    "* Given the above data, the cumulative percentage of variance explained are"
   ]
  },
  {
   "cell_type": "code",
   "execution_count": 353,
   "id": "a137ebbe-b39d-4b5b-886e-3d22a3243b26",
   "metadata": {
    "editable": true,
    "slideshow": {
     "slide_type": ""
    },
    "tags": []
   },
   "outputs": [
    {
     "data": {
      "text/html": [
       "<div>\n",
       "<style scoped>\n",
       "    .dataframe tbody tr th:only-of-type {\n",
       "        vertical-align: middle;\n",
       "    }\n",
       "\n",
       "    .dataframe tbody tr th {\n",
       "        vertical-align: top;\n",
       "    }\n",
       "\n",
       "    .dataframe thead th {\n",
       "        text-align: right;\n",
       "    }\n",
       "</style>\n",
       "<table border=\"1\" class=\"dataframe\">\n",
       "  <thead>\n",
       "    <tr style=\"text-align: right;\">\n",
       "      <th></th>\n",
       "      <th>PC1</th>\n",
       "      <th>PC2</th>\n",
       "      <th>PC3</th>\n",
       "      <th>PC4</th>\n",
       "      <th>PC5</th>\n",
       "      <th>PC6</th>\n",
       "      <th>PC7</th>\n",
       "      <th>PC8</th>\n",
       "    </tr>\n",
       "  </thead>\n",
       "  <tbody>\n",
       "    <tr>\n",
       "      <th>Var Explained</th>\n",
       "      <td>0.863574</td>\n",
       "      <td>0.952807</td>\n",
       "      <td>0.977915</td>\n",
       "      <td>0.989821</td>\n",
       "      <td>0.994952</td>\n",
       "      <td>0.997095</td>\n",
       "      <td>0.998814</td>\n",
       "      <td>1.0</td>\n",
       "    </tr>\n",
       "  </tbody>\n",
       "</table>\n",
       "</div>"
      ],
      "text/plain": [
       "                    PC1       PC2       PC3       PC4       PC5       PC6  \\\n",
       "Var Explained  0.863574  0.952807  0.977915  0.989821  0.994952  0.997095   \n",
       "\n",
       "                    PC7  PC8  \n",
       "Var Explained  0.998814  1.0  "
      ]
     },
     "execution_count": 353,
     "metadata": {},
     "output_type": "execute_result"
    }
   ],
   "source": [
    "var_explained = score_var.cumsum(axis='columns')/score_var.values.sum()\n",
    "var_explained.index = [\"Var Explained\"]\n",
    "var_explained"
   ]
  },
  {
   "cell_type": "markdown",
   "id": "c648123b-1772-4eb3-9a7e-cffbd4a98493",
   "metadata": {
    "editable": true,
    "slideshow": {
     "slide_type": ""
    },
    "tags": []
   },
   "source": [
    "* PC1 alone explains 86\\% of the curve movement (the variances), PC1 and PC2 together explain 95\\%, and the first 3 PCs together explain almost 98\\%, which is quite common"
   ]
  },
  {
   "cell_type": "markdown",
   "id": "b88d23f0-44b5-4d6d-825b-a046b1d38d04",
   "metadata": {
    "editable": true,
    "slideshow": {
     "slide_type": "slide"
    },
    "tags": []
   },
   "source": [
    "## Cumulative Percentage of Variance Explained (Cont..)\n",
    "\n",
    "* Recall the score matrix\n",
    "$$\n",
    "T = US = \\begin{pmatrix}\n",
    "t_{11} & t_{12} & \\cdots & t_{1n}\\\\\n",
    "t_{21} & t_{22} & \\cdots & t_{2n}\\\\\\\\\n",
    "&&\\vdots& \\\\\\\\\n",
    "t_{m1} & t_{m2} & \\cdots & t_{mn}\n",
    "\\end{pmatrix}_{m\\times n} = \n",
    "\\begin{pmatrix}\n",
    "\\\\\n",
    "|&|&  & | \\\\\\\\\n",
    "s_{11} \\vec u_1 & s_{22} \\vec u_2 & \\cdots & \\vec s_{nn}u_n \\\\\\\\\n",
    "|&|&  & | \\\\\\\\\n",
    "\\end{pmatrix}_{m\\times n}\n",
    "$$\n",
    "and recall that $\\vec u_j$ has norm 1, so we have\n",
    "\\begin{align*}\n",
    "\\text{Var}_k = \\frac{1}{m}\\sum_{j=1}^m t_{jk}^2 = \\frac{s_{kk}^2}{m} \\sum_{j=1}^m u_{jk}^2 = \\frac{s_{kk}^2}{m}\n",
    "\\end{align*}\n",
    "and hence\n",
    "$$\n",
    "\\frac{\\text{Var}_1 + \\text{Var}_2 + \\cdots + \\text{Var}_k}{\\text{Var}_1 + \\text{Var}_2 + \\text{Var}_3 + \\cdots + \\text{Var}_n} = \\frac{s_{11}^2 + s_{22}^2 + \\cdots + s_{kk}^2}{s_{11}^2 + s_{22}^2 + s_{33}^2 + \\cdots + s_{nn}^2}\n",
    "$$"
   ]
  },
  {
   "cell_type": "markdown",
   "id": "cb59e41e-c47e-452f-b9e6-aa44fc6954a1",
   "metadata": {
    "editable": true,
    "slideshow": {
     "slide_type": "slide"
    },
    "tags": []
   },
   "source": [
    "## Cumulative Percentage of Variance Explained (Cont...)\n",
    "\n",
    "```python\n",
    "\n",
    "u, s, vt = numpy.linalg.svd(X)\n",
    "\n",
    "(s**2).cumsum()/(s**2).sum()\n",
    "```"
   ]
  },
  {
   "cell_type": "code",
   "execution_count": 360,
   "id": "0f344833-f52d-48b3-8ab2-533e42c3c03d",
   "metadata": {
    "editable": true,
    "slideshow": {
     "slide_type": ""
    },
    "tags": []
   },
   "outputs": [
    {
     "name": "stdout",
     "output_type": "stream",
     "text": [
      "[0.86357429 0.95280679 0.97791528 0.9898212  0.994952   0.99709507\n",
      " 0.99881385 1.        ]\n"
     ]
    }
   ],
   "source": [
    "# u, s, vt = numpy.linalg.svd(X)\n",
    "\n",
    "print((s**2).cumsum()/(s**2).sum())"
   ]
  },
  {
   "cell_type": "markdown",
   "id": "6d14ef35-d4bd-4993-8a97-b199992705c4",
   "metadata": {
    "editable": true,
    "slideshow": {
     "slide_type": ""
    },
    "tags": []
   },
   "source": [
    "* Same as the previous table computed from the $T$ matrix"
   ]
  },
  {
   "cell_type": "code",
   "execution_count": 361,
   "id": "cf8ec221-fd15-4dd3-b8cb-15e4426feed5",
   "metadata": {
    "editable": true,
    "slideshow": {
     "slide_type": ""
    },
    "tags": []
   },
   "outputs": [
    {
     "data": {
      "text/html": [
       "<div>\n",
       "<style scoped>\n",
       "    .dataframe tbody tr th:only-of-type {\n",
       "        vertical-align: middle;\n",
       "    }\n",
       "\n",
       "    .dataframe tbody tr th {\n",
       "        vertical-align: top;\n",
       "    }\n",
       "\n",
       "    .dataframe thead th {\n",
       "        text-align: right;\n",
       "    }\n",
       "</style>\n",
       "<table border=\"1\" class=\"dataframe\">\n",
       "  <thead>\n",
       "    <tr style=\"text-align: right;\">\n",
       "      <th></th>\n",
       "      <th>PC1</th>\n",
       "      <th>PC2</th>\n",
       "      <th>PC3</th>\n",
       "      <th>PC4</th>\n",
       "      <th>PC5</th>\n",
       "      <th>PC6</th>\n",
       "      <th>PC7</th>\n",
       "      <th>PC8</th>\n",
       "    </tr>\n",
       "  </thead>\n",
       "  <tbody>\n",
       "    <tr>\n",
       "      <th>Var Explained</th>\n",
       "      <td>0.863574</td>\n",
       "      <td>0.952807</td>\n",
       "      <td>0.977915</td>\n",
       "      <td>0.989821</td>\n",
       "      <td>0.994952</td>\n",
       "      <td>0.997095</td>\n",
       "      <td>0.998814</td>\n",
       "      <td>1.0</td>\n",
       "    </tr>\n",
       "  </tbody>\n",
       "</table>\n",
       "</div>"
      ],
      "text/plain": [
       "                    PC1       PC2       PC3       PC4       PC5       PC6  \\\n",
       "Var Explained  0.863574  0.952807  0.977915  0.989821  0.994952  0.997095   \n",
       "\n",
       "                    PC7  PC8  \n",
       "Var Explained  0.998814  1.0  "
      ]
     },
     "execution_count": 361,
     "metadata": {},
     "output_type": "execute_result"
    }
   ],
   "source": [
    "var_explained"
   ]
  },
  {
   "cell_type": "markdown",
   "id": "e17dd68e-0cbf-4c94-8e62-a26adb7e5832",
   "metadata": {
    "editable": true,
    "slideshow": {
     "slide_type": "slide"
    },
    "tags": []
   },
   "source": [
    "## Applications in Hedging\n",
    "\n",
    "* Recall that, given the Delta ladder and the curve movement, we can compute the PnL of a portfolio\n",
    "* Having a model for tomorrow's yield curve movement means having a model for tomorrow's portfolio PnL"
   ]
  },
  {
   "cell_type": "code",
   "execution_count": 390,
   "id": "5fa0c502-d0e5-4eca-984c-41d256c05c43",
   "metadata": {
    "editable": true,
    "slideshow": {
     "slide_type": ""
    },
    "tags": []
   },
   "outputs": [
    {
     "data": {
      "text/html": [
       "<div>\n",
       "<style scoped>\n",
       "    .dataframe tbody tr th:only-of-type {\n",
       "        vertical-align: middle;\n",
       "    }\n",
       "\n",
       "    .dataframe tbody tr th {\n",
       "        vertical-align: top;\n",
       "    }\n",
       "\n",
       "    .dataframe thead th {\n",
       "        text-align: right;\n",
       "    }\n",
       "</style>\n",
       "<table border=\"1\" class=\"dataframe\">\n",
       "  <thead>\n",
       "    <tr style=\"text-align: right;\">\n",
       "      <th></th>\n",
       "      <th>1 Yr</th>\n",
       "      <th>2 Yr</th>\n",
       "      <th>3 Yr</th>\n",
       "      <th>5 Yr</th>\n",
       "      <th>7 Yr</th>\n",
       "      <th>10 Yr</th>\n",
       "      <th>20 Yr</th>\n",
       "      <th>30 Yr</th>\n",
       "    </tr>\n",
       "  </thead>\n",
       "  <tbody>\n",
       "    <tr>\n",
       "      <th>Portfolio Delta Ladder</th>\n",
       "      <td>-3739</td>\n",
       "      <td>-2320</td>\n",
       "      <td>314</td>\n",
       "      <td>-65</td>\n",
       "      <td>23</td>\n",
       "      <td>-6</td>\n",
       "      <td>1</td>\n",
       "      <td>0</td>\n",
       "    </tr>\n",
       "  </tbody>\n",
       "</table>\n",
       "</div>"
      ],
      "text/plain": [
       "                        1 Yr  2 Yr  3 Yr  5 Yr  7 Yr  10 Yr  20 Yr  30 Yr\n",
       "Portfolio Delta Ladder -3739 -2320   314   -65    23     -6      1      0"
      ]
     },
     "execution_count": 390,
     "metadata": {},
     "output_type": "execute_result"
    }
   ],
   "source": [
    "delta_ladder = table('yc_10022025_10032025').iloc[-8:, 3].to_frame().T\n",
    "delta_ladder"
   ]
  },
  {
   "cell_type": "markdown",
   "id": "879814d7-3281-45f3-a85f-465331c4bf6f",
   "metadata": {
    "editable": true,
    "slideshow": {
     "slide_type": ""
    },
    "tags": []
   },
   "source": [
    "* Denote by $\\vec d$ the 8-dimensional Delta ladder\n",
    "* Recall that rows of $X$ are the daily yield curve movement, treated as independent sample points: "
   ]
  },
  {
   "cell_type": "code",
   "execution_count": 381,
   "id": "62aa8631-ee69-452f-b260-ce73f1e1f897",
   "metadata": {
    "editable": true,
    "slideshow": {
     "slide_type": ""
    },
    "tags": []
   },
   "outputs": [
    {
     "data": {
      "text/html": [
       "<div>\n",
       "<style scoped>\n",
       "    .dataframe tbody tr th:only-of-type {\n",
       "        vertical-align: middle;\n",
       "    }\n",
       "\n",
       "    .dataframe tbody tr th {\n",
       "        vertical-align: top;\n",
       "    }\n",
       "\n",
       "    .dataframe thead th {\n",
       "        text-align: right;\n",
       "    }\n",
       "</style>\n",
       "<table border=\"1\" class=\"dataframe\">\n",
       "  <thead>\n",
       "    <tr style=\"text-align: right;\">\n",
       "      <th></th>\n",
       "      <th>1y</th>\n",
       "      <th>2y</th>\n",
       "      <th>3y</th>\n",
       "      <th>5y</th>\n",
       "      <th>7y</th>\n",
       "      <th>10y</th>\n",
       "      <th>20y</th>\n",
       "      <th>30y</th>\n",
       "    </tr>\n",
       "  </thead>\n",
       "  <tbody>\n",
       "    <tr>\n",
       "      <th>10/16/2025</th>\n",
       "      <td>0.02</td>\n",
       "      <td>0.05</td>\n",
       "      <td>0.05</td>\n",
       "      <td>0.04</td>\n",
       "      <td>0.04</td>\n",
       "      <td>0.03</td>\n",
       "      <td>0.02</td>\n",
       "      <td>0.02</td>\n",
       "    </tr>\n",
       "    <tr>\n",
       "      <th>10/15/2025</th>\n",
       "      <td>-0.07</td>\n",
       "      <td>-0.09</td>\n",
       "      <td>-0.09</td>\n",
       "      <td>-0.08</td>\n",
       "      <td>-0.08</td>\n",
       "      <td>-0.06</td>\n",
       "      <td>-0.05</td>\n",
       "      <td>-0.06</td>\n",
       "    </tr>\n",
       "    <tr>\n",
       "      <th>10/14/2025</th>\n",
       "      <td>0.03</td>\n",
       "      <td>0.02</td>\n",
       "      <td>0.04</td>\n",
       "      <td>0.03</td>\n",
       "      <td>0.03</td>\n",
       "      <td>0.02</td>\n",
       "      <td>0.02</td>\n",
       "      <td>0.02</td>\n",
       "    </tr>\n",
       "  </tbody>\n",
       "</table>\n",
       "</div>"
      ],
      "text/plain": [
       "              1y    2y    3y    5y    7y   10y   20y   30y\n",
       "10/16/2025  0.02  0.05  0.05  0.04  0.04  0.03  0.02  0.02\n",
       "10/15/2025 -0.07 -0.09 -0.09 -0.08 -0.08 -0.06 -0.05 -0.06\n",
       "10/14/2025  0.03  0.02  0.04  0.03  0.03  0.02  0.02  0.02"
      ]
     },
     "execution_count": 381,
     "metadata": {},
     "output_type": "execute_result"
    }
   ],
   "source": [
    "-table('daily-treasury-rates').head(4).iloc[:, 6:].diff().dropna()"
   ]
  },
  {
   "cell_type": "markdown",
   "id": "cdbf87e8-7b1b-4e14-89b9-ca87e53f5b88",
   "metadata": {
    "editable": true,
    "slideshow": {
     "slide_type": ""
    },
    "tags": []
   },
   "source": [
    "* $X\\vec d$ is the daily PnL, a 66-dimensional vector\n",
    "    * \"If, on 10/16/2025, my portfolio Delta ladder is $\\vec d$, what'd have been the PnL?\""
   ]
  },
  {
   "cell_type": "markdown",
   "id": "f727cb2e-3f93-461d-b1ac-31d7afe21894",
   "metadata": {
    "editable": true,
    "slideshow": {
     "slide_type": "slide"
    },
    "tags": []
   },
   "source": [
    "## Daily PnL"
   ]
  },
  {
   "cell_type": "code",
   "execution_count": 384,
   "id": "05b239b0-ed62-4c7a-8e57-c5b9724804d5",
   "metadata": {
    "editable": true,
    "slideshow": {
     "slide_type": ""
    },
    "tags": []
   },
   "outputs": [
    {
     "data": {
      "image/png": "[encoded data removed]",
      "text/plain": [
       "<Figure size 640x480 with 1 Axes>"
      ]
     },
     "metadata": {},
     "output_type": "display_data"
    }
   ],
   "source": [
    "DataFrame(X @ d).plot(style='.-', legend=None);"
   ]
  },
  {
   "cell_type": "markdown",
   "id": "1e87bd0d-f368-42c6-b39b-20c048e0e661",
   "metadata": {
    "editable": true,
    "slideshow": {
     "slide_type": "slide"
    },
    "tags": []
   },
   "source": [
    "## PnL Attribution\n",
    "\n",
    "$$\n",
    "$$\n",
    "\\begin{align*}\n",
    "X_{m\\times n}\\vec d &= TV^{\\mathsf T} d \\\\\n",
    "&= T_{m\\times n}(V^{\\mathsf T} d)_{n\\times 1} \\approx \n",
    "\\langle v_1, \\vec d\\rangle\n",
    "\\begin{pmatrix}\n",
    "t_{11} \\\\\n",
    "t_{21} \\\\\n",
    "\\vdots \\\\\n",
    "t_{m1}\n",
    "\\end{pmatrix} + \n",
    "\\langle v_2, \\vec d\\rangle\n",
    "\\begin{pmatrix}\n",
    "t_{12} \\\\\n",
    "t_{22} \\\\\n",
    "\\vdots \\\\\n",
    "t_{m2}\n",
    "\\end{pmatrix} + \n",
    "\\langle v_3, \\vec d\\rangle\n",
    "\\begin{pmatrix}\n",
    "t_{13} \\\\\n",
    "t_{23} \\\\\n",
    "\\vdots \\\\\n",
    "t_{m3}\n",
    "\\end{pmatrix}\n",
    "\\end{align*}\n",
    "\n",
    "* The 1st term is the daily PnL contributed by PC1 (parallel shift of the curve)\n",
    "* The 2nd term is the daily PnL contributed by PC2 (slope change of the curve)\n",
    "* The 3nd term is the daily PnL contributed by PC3 (curvature change of the curve)"
   ]
  },
  {
   "cell_type": "markdown",
   "id": "bc958e4a-f347-493c-a2d5-e5ccac519fbe",
   "metadata": {
    "editable": true,
    "slideshow": {
     "slide_type": "slide"
    },
    "tags": []
   },
   "source": [
    "## PnL Attribution (Cont.)"
   ]
  },
  {
   "cell_type": "code",
   "execution_count": 389,
   "id": "b7d7fc4f-a8c0-4b9a-88e4-0c312ece91c9",
   "metadata": {
    "editable": true,
    "slideshow": {
     "slide_type": ""
    },
    "tags": []
   },
   "outputs": [
    {
     "data": {
      "image/png": "[encoded data removed]",
      "text/plain": [
       "<Figure size 640x480 with 1 Axes>"
      ]
     },
     "metadata": {},
     "output_type": "display_data"
    }
   ],
   "source": [
    "t1 = T.T[0]\n",
    "t2 = T.T[1]\n",
    "t3 = T.T[2]\n",
    "\n",
    "DataFrame({'Daily PnL': X @ d, \n",
    "           'Contributed by PC1': (v1 @ d)*t1, \n",
    "           'Contributed by PC2': (v2 @ d)*t2, \n",
    "           'Contributed by PC3': (v3 @ d)*t3}).plot();"
   ]
  },
  {
   "cell_type": "markdown",
   "id": "fadbc808-de1e-4ec2-bc3c-b5f8c2356eee",
   "metadata": {
    "editable": true,
    "slideshow": {
     "slide_type": "slide"
    },
    "tags": []
   },
   "source": [
    "## PnL Prediction\n",
    "\n",
    "* Tomorrow's PnL is \n",
    "$$\n",
    "\\langle\\vec x, \\vec d\\rangle \\approx t_1\\langle v_1, \\vec d\\rangle + t_2\\langle v_2, \\vec d\\rangle + t_3\\langle v_3, \\vec d\\rangle\n",
    "$$\n",
    "* This is random as the coefficients $t_1$, $t_2$ and $t_3$ are random\n",
    "    * Recall that $\\text{Var}(t_1) \\gg \\text{Var}(t_2) \\gg \\text{Var}(t_3)$\n",
    "* The 3 terms on the right hand side are PnL contributed by PC1, PC2 and PC3, respectively\n",
    "* As we have seen, PnL are mostly contributed by PC1 the parallel shift of the curve\n",
    "    * This is a consequence of the fact that PC1 has by far the most volatile scores"
   ]
  },
  {
   "cell_type": "markdown",
   "id": "3dd08070-241d-4983-b8dd-bc1159f09941",
   "metadata": {
    "editable": true,
    "slideshow": {
     "slide_type": "slide"
    },
    "tags": []
   },
   "source": [
    "## Hedging out PC1 Risk\n",
    "\n",
    "* If we can hedge out PC1 risk, the portfolio will be much less volatile\n",
    "* We buy a 10y ZCB paying $\\$1$ at maturity, whose Delta ladder is as below\n",
    "    * Recall that a ZCB's duration is its term\n",
    "    * We choose 10y as the hedge instrument as it's the most liquid"
   ]
  },
  {
   "cell_type": "code",
   "execution_count": 413,
   "id": "07110f05-016f-4283-866f-57265d82963f",
   "metadata": {
    "editable": true,
    "slideshow": {
     "slide_type": ""
    },
    "tags": []
   },
   "outputs": [
    {
     "data": {
      "text/html": [
       "<div>\n",
       "<style scoped>\n",
       "    .dataframe tbody tr th:only-of-type {\n",
       "        vertical-align: middle;\n",
       "    }\n",
       "\n",
       "    .dataframe tbody tr th {\n",
       "        vertical-align: top;\n",
       "    }\n",
       "\n",
       "    .dataframe thead th {\n",
       "        text-align: right;\n",
       "    }\n",
       "</style>\n",
       "<table border=\"1\" class=\"dataframe\">\n",
       "  <thead>\n",
       "    <tr style=\"text-align: right;\">\n",
       "      <th></th>\n",
       "      <th>1 Yr</th>\n",
       "      <th>2 Yr</th>\n",
       "      <th>3 Yr</th>\n",
       "      <th>5 Yr</th>\n",
       "      <th>7 Yr</th>\n",
       "      <th>10 Yr</th>\n",
       "      <th>20 Yr</th>\n",
       "      <th>30 Yr</th>\n",
       "    </tr>\n",
       "  </thead>\n",
       "  <tbody>\n",
       "    <tr>\n",
       "      <th>Hedge Inst Delta</th>\n",
       "      <td>0</td>\n",
       "      <td>0</td>\n",
       "      <td>0</td>\n",
       "      <td>0</td>\n",
       "      <td>0</td>\n",
       "      <td>-10</td>\n",
       "      <td>0</td>\n",
       "      <td>0</td>\n",
       "    </tr>\n",
       "  </tbody>\n",
       "</table>\n",
       "</div>"
      ],
      "text/plain": [
       "                  1 Yr  2 Yr  3 Yr  5 Yr  7 Yr  10 Yr  20 Yr  30 Yr\n",
       "Hedge Inst Delta     0     0     0     0     0    -10      0      0"
      ]
     },
     "execution_count": 413,
     "metadata": {},
     "output_type": "execute_result"
    }
   ],
   "source": [
    "bond_10y_delta = DataFrame([[0, 0, 0, 0, 0, -10, 0, 0]], columns=delta_ladder.columns, index=['Hedge Inst Delta'])\n",
    "bond_2y_delta = DataFrame([[0, -2, 0, 0, 0, 0, 0, 0]], columns=delta_ladder.columns, index=['Hedge Inst Delta'])\n",
    "bond_10y_delta"
   ]
  },
  {
   "cell_type": "markdown",
   "id": "097e6e0c-3f25-4443-90bb-377de4e7139f",
   "metadata": {
    "editable": true,
    "slideshow": {
     "slide_type": ""
    },
    "tags": []
   },
   "source": [
    "* Denote this Delta ladder of the hedge instruemnt as $\\vec b_1$"
   ]
  },
  {
   "cell_type": "markdown",
   "id": "263fbffd-e2eb-4d37-a1de-ef8d49b668d2",
   "metadata": {
    "editable": true,
    "slideshow": {
     "slide_type": "slide"
    },
    "tags": []
   },
   "source": [
    "## Hedge Ratio\n",
    "\n",
    "* Adding $h$ units of the hedge instrument into the portfolio, the portfolio Delta ladder becomes $\\vec d + h \\vec b_1$ and tomorrow's PnL becomes\n",
    "$$\n",
    "\\langle\\vec x, \\vec d + h \\vec b_1\\rangle \\approx t_1\\langle v_1, \\vec d + h \\vec b_1\\rangle + t_2\\langle v_2, \\vec d + h \\vec b_1\\rangle + t_3\\langle v_3, \\vec d + h \\vec b_1\\rangle\n",
    "$$\n",
    "* If we want to hedge out PC1 risk, we must have $\\langle v_1, \\vec d + h \\vec b_1\\rangle = 0$\n",
    "    * If this term is zero, the PnL can only come from less volatile $t_2$ and $t_3$"
   ]
  },
  {
   "cell_type": "markdown",
   "id": "9317e038-571b-4d24-9176-e8c6aee13b0d",
   "metadata": {
    "editable": true,
    "slideshow": {
     "slide_type": "fragment"
    },
    "tags": []
   },
   "source": [
    "* We have\n",
    "$$\n",
    "0 = \\langle v_1, \\vec d + h \\vec b_1\\rangle = \\langle v_1, \\vec d\\rangle + h \\langle v_1, \\vec b_1\\rangle, \n",
    "$$\n",
    "or\n",
    "$$\n",
    "h = -\\frac{\\langle v_1, \\vec d\\rangle}{\\langle v_1, \\vec b_1\\rangle}\n",
    "$$\n",
    "* This is the hedge ratio. This is how much of the hedge instrument we must add to the portfolio to make it immue to curve parallel shift"
   ]
  },
  {
   "cell_type": "markdown",
   "id": "5aa9a61a-72cc-483d-88f9-d9f476dec7d9",
   "metadata": {
    "editable": true,
    "slideshow": {
     "slide_type": "slide"
    },
    "tags": []
   },
   "source": [
    "## Hedge Ratio: Exercise\n",
    "\n",
    "\n",
    "* Given the portfolio Delta ladder"
   ]
  },
  {
   "cell_type": "code",
   "execution_count": 401,
   "id": "ca0e9668-f4c3-4971-aea4-328840cb7ba7",
   "metadata": {
    "editable": true,
    "slideshow": {
     "slide_type": ""
    },
    "tags": []
   },
   "outputs": [
    {
     "data": {
      "text/html": [
       "<div>\n",
       "<style scoped>\n",
       "    .dataframe tbody tr th:only-of-type {\n",
       "        vertical-align: middle;\n",
       "    }\n",
       "\n",
       "    .dataframe tbody tr th {\n",
       "        vertical-align: top;\n",
       "    }\n",
       "\n",
       "    .dataframe thead th {\n",
       "        text-align: right;\n",
       "    }\n",
       "</style>\n",
       "<table border=\"1\" class=\"dataframe\">\n",
       "  <thead>\n",
       "    <tr style=\"text-align: right;\">\n",
       "      <th></th>\n",
       "      <th>1 Yr</th>\n",
       "      <th>2 Yr</th>\n",
       "      <th>3 Yr</th>\n",
       "      <th>5 Yr</th>\n",
       "      <th>7 Yr</th>\n",
       "      <th>10 Yr</th>\n",
       "      <th>20 Yr</th>\n",
       "      <th>30 Yr</th>\n",
       "    </tr>\n",
       "  </thead>\n",
       "  <tbody>\n",
       "    <tr>\n",
       "      <th>Portfolio Delta Ladder</th>\n",
       "      <td>-3739</td>\n",
       "      <td>-2320</td>\n",
       "      <td>314</td>\n",
       "      <td>-65</td>\n",
       "      <td>23</td>\n",
       "      <td>-6</td>\n",
       "      <td>1</td>\n",
       "      <td>0</td>\n",
       "    </tr>\n",
       "  </tbody>\n",
       "</table>\n",
       "</div>"
      ],
      "text/plain": [
       "                        1 Yr  2 Yr  3 Yr  5 Yr  7 Yr  10 Yr  20 Yr  30 Yr\n",
       "Portfolio Delta Ladder -3739 -2320   314   -65    23     -6      1      0"
      ]
     },
     "execution_count": 401,
     "metadata": {},
     "output_type": "execute_result"
    }
   ],
   "source": [
    "delta_ladder"
   ]
  },
  {
   "cell_type": "markdown",
   "id": "785b2c4b-14c1-4915-a8ee-7e3748492da0",
   "metadata": {
    "editable": true,
    "slideshow": {
     "slide_type": ""
    },
    "tags": []
   },
   "source": [
    "* And the Delta ladder of a 10y ZCB paying $\\$1$ at maturity"
   ]
  },
  {
   "cell_type": "code",
   "execution_count": 409,
   "id": "a314703b-d245-4975-98a2-803a862efc86",
   "metadata": {
    "editable": true,
    "slideshow": {
     "slide_type": ""
    },
    "tags": []
   },
   "outputs": [
    {
     "data": {
      "text/html": [
       "<div>\n",
       "<style scoped>\n",
       "    .dataframe tbody tr th:only-of-type {\n",
       "        vertical-align: middle;\n",
       "    }\n",
       "\n",
       "    .dataframe tbody tr th {\n",
       "        vertical-align: top;\n",
       "    }\n",
       "\n",
       "    .dataframe thead th {\n",
       "        text-align: right;\n",
       "    }\n",
       "</style>\n",
       "<table border=\"1\" class=\"dataframe\">\n",
       "  <thead>\n",
       "    <tr style=\"text-align: right;\">\n",
       "      <th></th>\n",
       "      <th>1 Yr</th>\n",
       "      <th>2 Yr</th>\n",
       "      <th>3 Yr</th>\n",
       "      <th>5 Yr</th>\n",
       "      <th>7 Yr</th>\n",
       "      <th>10 Yr</th>\n",
       "      <th>20 Yr</th>\n",
       "      <th>30 Yr</th>\n",
       "    </tr>\n",
       "  </thead>\n",
       "  <tbody>\n",
       "    <tr>\n",
       "      <th>Hedge Inst Delta</th>\n",
       "      <td>0</td>\n",
       "      <td>0</td>\n",
       "      <td>0</td>\n",
       "      <td>0</td>\n",
       "      <td>0</td>\n",
       "      <td>-10</td>\n",
       "      <td>0</td>\n",
       "      <td>0</td>\n",
       "    </tr>\n",
       "  </tbody>\n",
       "</table>\n",
       "</div>"
      ],
      "text/plain": [
       "                  1 Yr  2 Yr  3 Yr  5 Yr  7 Yr  10 Yr  20 Yr  30 Yr\n",
       "Hedge Inst Delta     0     0     0     0     0    -10      0      0"
      ]
     },
     "execution_count": 409,
     "metadata": {},
     "output_type": "execute_result"
    }
   ],
   "source": [
    "bond_10y_delta"
   ]
  },
  {
   "cell_type": "markdown",
   "id": "00507d14-0eda-4837-81d8-9eb02c16f016",
   "metadata": {
    "editable": true,
    "slideshow": {
     "slide_type": ""
    },
    "tags": []
   },
   "source": [
    "* And the PC1 vector"
   ]
  },
  {
   "cell_type": "code",
   "execution_count": 411,
   "id": "523fc0b9-2e84-40ba-8b2d-df508a211096",
   "metadata": {
    "editable": true,
    "slideshow": {
     "slide_type": ""
    },
    "tags": []
   },
   "outputs": [
    {
     "name": "stdout",
     "output_type": "stream",
     "text": [
      "[-0.32144131 -0.42172197 -0.39693884 -0.3858943  -0.37609721 -0.33127384\n",
      " -0.29356772 -0.27382061]\n"
     ]
    }
   ],
   "source": [
    "print(v1)"
   ]
  },
  {
   "cell_type": "markdown",
   "id": "63c277c7-3612-4156-a8a8-6cfc7813d8c8",
   "metadata": {
    "editable": true,
    "slideshow": {
     "slide_type": ""
    },
    "tags": []
   },
   "source": [
    "* Please compute the hedge ratio"
   ]
  },
  {
   "cell_type": "markdown",
   "id": "a2d1b97a-d776-4231-b17e-3a25318bf494",
   "metadata": {
    "editable": true,
    "slideshow": {
     "slide_type": "slide"
    },
    "tags": []
   },
   "source": [
    "## Hedging out Both PC1 and PC2 Risk\n",
    "\n",
    "* One can hedge out both PC1 and PC2 risk to make the portfolio immune to both parallel shift and slope change of the curve\n",
    "* We buy $h_1$ units of 10y ZCB paying $\\$1$ at maturity, whose Delta ladder, denoted by $\\vec b_1$, is as below"
   ]
  },
  {
   "cell_type": "code",
   "execution_count": 417,
   "id": "16b33095-c1a0-4329-963e-76e877d65c7b",
   "metadata": {
    "editable": true,
    "slideshow": {
     "slide_type": ""
    },
    "tags": []
   },
   "outputs": [
    {
     "data": {
      "text/html": [
       "<div>\n",
       "<style scoped>\n",
       "    .dataframe tbody tr th:only-of-type {\n",
       "        vertical-align: middle;\n",
       "    }\n",
       "\n",
       "    .dataframe tbody tr th {\n",
       "        vertical-align: top;\n",
       "    }\n",
       "\n",
       "    .dataframe thead th {\n",
       "        text-align: right;\n",
       "    }\n",
       "</style>\n",
       "<table border=\"1\" class=\"dataframe\">\n",
       "  <thead>\n",
       "    <tr style=\"text-align: right;\">\n",
       "      <th></th>\n",
       "      <th>1 Yr</th>\n",
       "      <th>2 Yr</th>\n",
       "      <th>3 Yr</th>\n",
       "      <th>5 Yr</th>\n",
       "      <th>7 Yr</th>\n",
       "      <th>10 Yr</th>\n",
       "      <th>20 Yr</th>\n",
       "      <th>30 Yr</th>\n",
       "    </tr>\n",
       "  </thead>\n",
       "  <tbody>\n",
       "    <tr>\n",
       "      <th>Hedge Inst Delta</th>\n",
       "      <td>0</td>\n",
       "      <td>0</td>\n",
       "      <td>0</td>\n",
       "      <td>0</td>\n",
       "      <td>0</td>\n",
       "      <td>-10</td>\n",
       "      <td>0</td>\n",
       "      <td>0</td>\n",
       "    </tr>\n",
       "  </tbody>\n",
       "</table>\n",
       "</div>"
      ],
      "text/plain": [
       "                  1 Yr  2 Yr  3 Yr  5 Yr  7 Yr  10 Yr  20 Yr  30 Yr\n",
       "Hedge Inst Delta     0     0     0     0     0    -10      0      0"
      ]
     },
     "execution_count": 417,
     "metadata": {},
     "output_type": "execute_result"
    }
   ],
   "source": [
    "bond_10y_delta"
   ]
  },
  {
   "cell_type": "markdown",
   "id": "a71c08f1-b5f8-49ba-9aa6-7e6875a1524f",
   "metadata": {
    "editable": true,
    "slideshow": {
     "slide_type": ""
    },
    "tags": []
   },
   "source": [
    "* We further buy $h_2$ units of 2y ZCB paying $\\$1$ at maturity, whose Delta ladder, denoted by $\\vec b_2$, is as below"
   ]
  },
  {
   "cell_type": "code",
   "execution_count": 415,
   "id": "00ff07bd-1686-476f-afe3-6d3ef204859b",
   "metadata": {
    "editable": true,
    "slideshow": {
     "slide_type": ""
    },
    "tags": []
   },
   "outputs": [
    {
     "data": {
      "text/html": [
       "<div>\n",
       "<style scoped>\n",
       "    .dataframe tbody tr th:only-of-type {\n",
       "        vertical-align: middle;\n",
       "    }\n",
       "\n",
       "    .dataframe tbody tr th {\n",
       "        vertical-align: top;\n",
       "    }\n",
       "\n",
       "    .dataframe thead th {\n",
       "        text-align: right;\n",
       "    }\n",
       "</style>\n",
       "<table border=\"1\" class=\"dataframe\">\n",
       "  <thead>\n",
       "    <tr style=\"text-align: right;\">\n",
       "      <th></th>\n",
       "      <th>1 Yr</th>\n",
       "      <th>2 Yr</th>\n",
       "      <th>3 Yr</th>\n",
       "      <th>5 Yr</th>\n",
       "      <th>7 Yr</th>\n",
       "      <th>10 Yr</th>\n",
       "      <th>20 Yr</th>\n",
       "      <th>30 Yr</th>\n",
       "    </tr>\n",
       "  </thead>\n",
       "  <tbody>\n",
       "    <tr>\n",
       "      <th>Hedge Inst Delta</th>\n",
       "      <td>0</td>\n",
       "      <td>-2</td>\n",
       "      <td>0</td>\n",
       "      <td>0</td>\n",
       "      <td>0</td>\n",
       "      <td>0</td>\n",
       "      <td>0</td>\n",
       "      <td>0</td>\n",
       "    </tr>\n",
       "  </tbody>\n",
       "</table>\n",
       "</div>"
      ],
      "text/plain": [
       "                  1 Yr  2 Yr  3 Yr  5 Yr  7 Yr  10 Yr  20 Yr  30 Yr\n",
       "Hedge Inst Delta     0    -2     0     0     0      0      0      0"
      ]
     },
     "execution_count": 415,
     "metadata": {},
     "output_type": "execute_result"
    }
   ],
   "source": [
    "bond_2y_delta"
   ]
  },
  {
   "cell_type": "markdown",
   "id": "d9d4abd5-1d8a-4f7f-ac41-754c8cac8ff9",
   "metadata": {
    "editable": true,
    "slideshow": {
     "slide_type": "slide"
    },
    "tags": []
   },
   "source": [
    "## Hedging out Both PC1 and PC2 Risk (Cont.)\n",
    "\n",
    "* The hedged portfolio Delta ladder is $\\vec d + h_1 \\vec b_1 + h_2 \\vec b_2$ and tomorrow's PnL becomes\n",
    "\\begin{align*}\n",
    "&\\langle\\vec x, \\vec d + h_1 \\vec b_1 + h_2 \\vec b_2\\rangle \\\\\n",
    "&\\approx t_1\\langle v_1, \\vec d + h_1 \\vec b_1 + h_2 \\vec b_2\\rangle + t_2\\langle v_2, \\vec d + h_1 \\vec b_1 + h_2 \\vec b_2\\rangle + t_3\\langle v_3, \\vec d + h_1 \\vec b_1 + h_2 \\vec b_2\\rangle\n",
    "\\end{align*}\n",
    "* In order to hedge out both PC1 and PC2 risk, we must have \n",
    "\\begin{align*}\n",
    "0 &= \\langle v_1, \\vec d + h_1 \\vec b_1 + h_2 \\vec b_2\\rangle = \\langle v_1, \\vec d\\rangle + h_1 \\langle v_1, \\vec b_1\\rangle + h_2 \\langle v_1, \\vec b_2\\rangle,\\\\\n",
    "0 &= \\langle v_2, \\vec d + h_1 \\vec b_1 + h_2 \\vec b_2\\rangle = \\langle v_2, \\vec d\\rangle + h_1 \\langle v_2, \\vec b_1\\rangle + h_2 \\langle v_2, \\vec b_2\\rangle\n",
    "\\end{align*}\n",
    "* If these two terms are both zero, tomorrow's PnL can only come from much less volatile $t_3$\n",
    "* This linear system can be solved to obtain the hedge ratios, that's units of 10y and 2y ZCB we need to buy to make the portfolio immune to both parallel shift and slope change of the curve"
   ]
  }
 ],
 "metadata": {
  "kernelspec": {
   "display_name": "Python 3 (ipykernel)",
   "language": "python",
   "name": "python3"
  },
  "language_info": {
   "codemirror_mode": {
    "name": "ipython",
    "version": 3
   },
   "file_extension": ".py",
   "mimetype": "text/x-python",
   "name": "python",
   "nbconvert_exporter": "python",
   "pygments_lexer": "ipython3",
   "version": "3.12.4"
  }
 },
 "nbformat": 4,
 "nbformat_minor": 5
}
