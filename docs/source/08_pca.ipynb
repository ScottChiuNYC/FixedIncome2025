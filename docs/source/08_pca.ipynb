{
 "cells": [
  {
   "cell_type": "markdown",
   "id": "85641ce5-6149-4ca2-9d7f-e7bf2bc4292d",
   "metadata": {
    "editable": true,
    "slideshow": {
     "slide_type": "slide"
    },
    "tags": []
   },
   "source": [
    "# 8. PCA"
   ]
  },
  {
   "cell_type": "code",
   "execution_count": 7,
   "id": "3172be1b-99ae-4d95-a0a6-fa6b7b14833e",
   "metadata": {
    "editable": true,
    "slideshow": {
     "slide_type": ""
    },
    "tags": []
   },
   "outputs": [],
   "source": [
    "from fixedincome2025 import table"
   ]
  },
  {
   "cell_type": "markdown",
   "id": "695dde8f-85fc-48de-9d8d-d3679bbbbe1d",
   "metadata": {
    "editable": true,
    "slideshow": {
     "slide_type": "slide"
    },
    "tags": []
   },
   "source": [
    "## Overview\n",
    "\n",
    "* So far we have covered\n",
    "    * (Treasury) yield curve construction: A snap shot of the market\n",
    "    * Duration and convexity: What happens to the portfolio value if the curve moves parallelly\n",
    "    * Delta ladder: What happens to the portfolio value if the curve moves but not parallelly\n",
    "* Something is missing: How will tomorrow's curve move?\n",
    "    * Of course no one knows exactly, but we can still say something\n",
    "* Principal component analysis (PCA) provides a great tool to model yield curve movements and to hedge any portfolios that have rates exposure"
   ]
  },
  {
   "cell_type": "markdown",
   "id": "58501c89-20d4-4cf4-bb5b-9e5220b848a6",
   "metadata": {
    "editable": true,
    "slideshow": {
     "slide_type": "slide"
    },
    "tags": []
   },
   "source": [
    "## Modeling Yield Curve Movements\n",
    "\n",
    "* Although the below curve has 14 points, when we model this curve's movement, we should not model it by 14 independent random variables"
   ]
  },
  {
   "cell_type": "code",
   "execution_count": 6,
   "id": "7955ec5e-dd0b-48aa-a822-b21355bae158",
   "metadata": {
    "editable": true,
    "slideshow": {
     "slide_type": ""
    },
    "tags": []
   },
   "outputs": [
    {
     "data": {
      "text/html": [
       "<div>\n",
       "<style scoped>\n",
       "    .dataframe tbody tr th:only-of-type {\n",
       "        vertical-align: middle;\n",
       "    }\n",
       "\n",
       "    .dataframe tbody tr th {\n",
       "        vertical-align: top;\n",
       "    }\n",
       "\n",
       "    .dataframe thead th {\n",
       "        text-align: right;\n",
       "    }\n",
       "</style>\n",
       "<table border=\"1\" class=\"dataframe\">\n",
       "  <thead>\n",
       "    <tr style=\"text-align: right;\">\n",
       "      <th></th>\n",
       "      <th>1m</th>\n",
       "      <th>1.5m</th>\n",
       "      <th>2m</th>\n",
       "      <th>3m</th>\n",
       "      <th>4m</th>\n",
       "      <th>6m</th>\n",
       "      <th>1y</th>\n",
       "      <th>2y</th>\n",
       "      <th>3y</th>\n",
       "      <th>5y</th>\n",
       "      <th>7y</th>\n",
       "      <th>10y</th>\n",
       "      <th>20y</th>\n",
       "      <th>30y</th>\n",
       "    </tr>\n",
       "  </thead>\n",
       "  <tbody>\n",
       "    <tr>\n",
       "      <th>Yield</th>\n",
       "      <td>4.2%</td>\n",
       "      <td>4.17%</td>\n",
       "      <td>4.11%</td>\n",
       "      <td>4.03%</td>\n",
       "      <td>3.95%</td>\n",
       "      <td>3.83%</td>\n",
       "      <td>3.66%</td>\n",
       "      <td>3.6%</td>\n",
       "      <td>3.59%</td>\n",
       "      <td>3.74%</td>\n",
       "      <td>3.92%</td>\n",
       "      <td>4.14%</td>\n",
       "      <td>4.7%</td>\n",
       "      <td>4.72%</td>\n",
       "    </tr>\n",
       "  </tbody>\n",
       "</table>\n",
       "</div>"
      ],
      "text/plain": [
       "         1m   1.5m     2m     3m     4m     6m     1y    2y     3y     5y  \\\n",
       "Yield  4.2%  4.17%  4.11%  4.03%  3.95%  3.83%  3.66%  3.6%  3.59%  3.74%   \n",
       "\n",
       "          7y    10y   20y    30y  \n",
       "Yield  3.92%  4.14%  4.7%  4.72%  "
      ]
     },
     "execution_count": 6,
     "metadata": {},
     "output_type": "execute_result"
    }
   ],
   "source": [
    "table('yc_10092025').T"
   ]
  },
  {
   "cell_type": "markdown",
   "id": "c64018d6-e77d-4d06-abea-381090424c9e",
   "metadata": {
    "editable": true,
    "slideshow": {
     "slide_type": ""
    },
    "tags": []
   },
   "source": [
    "* Rates for nearby maturities on the curve tend to move together—both in direction and magnitude—because the corresponding bonds are close substitutes.\n",
    "    * If 2y bond is too expensive, investors with the need can just buy 3y bond\n",
    "    * If borrowing for 2y is too expensive, borrowers can just borrow for 3y\n",
    "* As we will see now, PCA tells us 3 independent random variables are enough\n",
    "* First we need some math"
   ]
  },
  {
   "cell_type": "markdown",
   "id": "aeea9d61-0f91-407d-9faa-8834a24cf73c",
   "metadata": {
    "editable": true,
    "slideshow": {
     "slide_type": "slide"
    },
    "tags": []
   },
   "source": [
    "## Singular Value Decomposition (SVD)\n",
    "\n",
    "* Every $m\\times n$ matrix $X$ can be written as\n",
    "$$\n",
    "X = USV^{\\mathsf T}, \n",
    "$$\n",
    "where\n",
    "    * $U$ is an $m\\times m$ unitary matrix (more on unitary matrices later)\n",
    "    * $V$ is an $n\\times n$ unitary matrix\n",
    "    * $S$ is an $m\\times n$ matrix with nonzero entries only on the main diagonal, meaning if $S=(s_{ij})$, then $s_{ij} \\neq 0$ only when $i = j$. Also the nonzero elements are sorted, meaning $s_{11} \\geq s_{22} \\geq s_{33} \\geq \\cdots \\geq s_{nn}$\n",
    "* For our purpose which is to model the curve movement, the important case is $m>n$"
   ]
  },
  {
   "cell_type": "markdown",
   "id": "7637571f-9b80-44c4-9e8b-40cfb78c0bbd",
   "metadata": {
    "editable": true,
    "slideshow": {
     "slide_type": "slide"
    },
    "tags": []
   },
   "source": [
    "## The $S$ Matrix\n",
    "\n",
    "$$\n",
    "S = \\begin{pmatrix}\n",
    "s_{11} & 0 & \\cdots & 0\\\\ \n",
    "0 & s_{22} & \\cdots & 0\\\\ \n",
    "\\vdots & \\vdots & \\ddots & \\vdots\\\\ \n",
    "0 & 0 & \\cdots & s_{nn}\\\\ \n",
    "\\vdots & \\vdots & \\vdots & \\vdots\\\\ \n",
    "0 & 0 & \\cdots & 0\\\\ \n",
    "\\end{pmatrix}_{m\\times n}\n",
    "$$\n",
    "* $s_{11} \\geq s_{22} \\geq s_{33} \\geq \\cdots \\geq s_{nn}$"
   ]
  },
  {
   "cell_type": "markdown",
   "id": "497a0d2b-79c7-4a06-8e2d-dc736ed035ad",
   "metadata": {
    "editable": true,
    "slideshow": {
     "slide_type": "slide"
    },
    "tags": []
   },
   "source": [
    "## Unitary Matrix\n",
    "\n",
    "* Recall that $X_{m\\times n} = USV^{\\mathsf T}$, where $U_{m\\times m}$ and $V_{n\\times n}$ are both unitary\n",
    "* Definition: A matrix $V_{n\\times n}$ is said to be unitary if $V^{\\mathsf T}V = I_n$, the $n\\times n$ identity matrix\n",
    "* Easy to compute inverse: $V^{-1} = V^{\\mathsf T}$ by definition\n",
    "* Let\n",
    "$$\n",
    "V = \\begin{pmatrix}\n",
    "|&|&  & | \\\\\n",
    "v_1 & v_2 & \\cdots & v_n \\\\\n",
    "|&|&  & | \\\\\n",
    "\\end{pmatrix}, \n",
    "$$\n",
    "where $v_j$ are column vectors"
   ]
  },
  {
   "cell_type": "markdown",
   "id": "f5d97d02-f0d1-4432-a741-8046824c3fd4",
   "metadata": {
    "editable": true,
    "slideshow": {
     "slide_type": "slide"
    },
    "tags": []
   },
   "source": [
    "## Unitary Matrix (Cont.)\n",
    "\n",
    "* $V^{\\mathsf T}V = I_n$: \n",
    "\\begin{align*}\n",
    "V^{\\mathsf T}V &= \\begin{pmatrix}\n",
    "\\frac{\\qquad}{} & v_1^{\\mathsf T} & \\frac{\\qquad}{} \\\\\n",
    "\\frac{\\qquad}{} & v_2^{\\mathsf T} & \\frac{\\qquad}{} \\\\\n",
    "& \\vdots & \\\\\n",
    "\\frac{\\qquad}{} & v_n^{\\mathsf T} & \\frac{\\qquad}{} \\\\\n",
    "\\end{pmatrix}\n",
    "\\begin{pmatrix}\n",
    "|&|&  & | \\\\\n",
    "v_1 & v_2 & \\cdots & v_n \\\\\n",
    "|&|&  & | \\\\\n",
    "\\end{pmatrix}\\\\\n",
    "&= \\begin{pmatrix}\n",
    "\\langle v_1, v_1\\rangle & \\langle v_1, v_2\\rangle & \\cdots & \\langle v_1, v_n\\rangle\\\\\n",
    "\\langle v_2, v_1\\rangle & \\langle v_2, v_2\\rangle & \\cdots & \\langle v_2, v_n\\rangle\\\\\n",
    "\\vdots&\\vdots&\\ddots&\\vdots \\\\\n",
    "\\langle v_n, v_1\\rangle & \\langle v_n, v_2\\rangle & \\cdots & \\langle v_n, v_n\\rangle\n",
    "\\end{pmatrix} = \\begin{pmatrix}\n",
    "1 & 0 & \\cdots & 0\\\\\n",
    "0 & 1 & \\cdots & 0\\\\\n",
    "\\vdots&\\vdots&\\ddots&\\vdots \\\\\n",
    "0 & 0 & \\cdots & 1\n",
    "\\end{pmatrix}, \n",
    "\\end{align*}\n",
    "where $\\langle \\cdot, \\cdot\\rangle$ stands for the inner product of two vectors\n",
    "* Unitary means\n",
    "    * The column vectors have norm 1 and\n",
    "    * Inner product of any two different column vectors is 0"
   ]
  },
  {
   "cell_type": "markdown",
   "id": "1875e112-b4c0-49e5-bb9a-19bd312b7725",
   "metadata": {
    "editable": true,
    "slideshow": {
     "slide_type": "slide"
    },
    "tags": []
   },
   "source": [
    "## Vector Norm\n",
    "\n",
    "* Let $\\vec a = (a_1, a_2, \\ldots, a_n)^{\\mathsf T}$ be a column vector. Then its norm is\n",
    "\\begin{align*}\n",
    "\\lVert \\vec a \\rVert = \\sqrt{\\langle a, a\\rangle} = \\sqrt{a_1^2 + a_2^2 + \\cdots + a_n^2}\n",
    "\\end{align*}\n",
    "* Norm is the \"length\" of a vector in high dimensions"
   ]
  },
  {
   "cell_type": "markdown",
   "id": "837b1d15-ea2d-4ac5-b436-6b4ea0f6f91a",
   "metadata": {
    "editable": true,
    "slideshow": {
     "slide_type": "slide"
    },
    "tags": []
   },
   "source": [
    "## Inner Product\n",
    "\n",
    "* If $\\vec a = (a_1, a_2, \\ldots, a_n)^{\\mathsf T}$ and $\\vec b = (b_1, b_2, \\ldots, b_n)^{\\mathsf T}$, then \n",
    "\\begin{align*}\n",
    "\\langle \\vec a, \\vec b\\rangle &= \\vec a^{\\mathsf T}\\vec b = \\vec b^{\\mathsf T}\\vec a \\\\\n",
    "&= a_1b_1 + a_2b_2 + \\cdots + a_nb_n\n",
    "\\end{align*}"
   ]
  },
  {
   "cell_type": "markdown",
   "id": "4f2e4ca2-12a6-4c8e-8048-f62b11db2647",
   "metadata": {
    "editable": true,
    "slideshow": {
     "slide_type": "slide"
    },
    "tags": []
   },
   "source": [
    "## Zero Inner Product in 2D\n",
    "\n",
    "* Two vectors having zero inner product basically means they are \"perpendicular\"\n",
    "* Take 2D as an example. If $v_1$ and $v_2$ are in 2D and $\\langle v_1, v_2\\rangle = 0$, write in polar coordinates\n",
    "\\begin{align*}\n",
    "v_1 &= (r_1 \\cos \\theta_1, r_1 \\sin \\theta_1)^{\\mathsf T}, \\\\\n",
    "v_2 &= (r_2 \\cos \\theta_2, r_2 \\sin \\theta_2)^{\\mathsf T}. \n",
    "\\end{align*}\n",
    "Then $\\langle v_1, v_2\\rangle = 0$ means\n",
    "\\begin{align*}\n",
    "r_1 r_2 (\\cos \\theta_1 \\cos \\theta_2 + \\sin \\theta_1\\sin \\theta_2) = r_1 r_2 \\cos (\\theta_1 - \\theta_2) = 0. \n",
    "\\end{align*}\n",
    "So $\\theta_1 - \\theta_2 = 90^{\\circ}$ (plus multiples of $180^{\\circ}$), so $v_1$ and $v_2$ are perpendicular."
   ]
  },
  {
   "cell_type": "markdown",
   "id": "b6a1c669-fccc-4115-8526-5f02873b07e9",
   "metadata": {
    "editable": true,
    "slideshow": {
     "slide_type": "fragment"
    },
    "tags": []
   },
   "source": [
    "* In general, in 2D and 3D, inner product has the property\n",
    "$$\n",
    "\\langle \\vec a, \\vec b\\rangle = \\lVert \\vec a \\rVert\\lVert \\vec b \\rVert \\cos\\theta,\n",
    "$$\n",
    "where $\\theta$ is the angle between the two vectors"
   ]
  },
  {
   "cell_type": "markdown",
   "id": "51ee8e65-0eb2-437d-971e-4d943ad9e4ef",
   "metadata": {
    "editable": true,
    "slideshow": {
     "slide_type": "slide"
    },
    "tags": []
   },
   "source": [
    "## Perpendicular in 2D\n",
    "\n",
    "* Perpendicular 2D vectors with norm 1 are just rotation of $(1, 0)^{\\mathsf T}$ and $(0, 1)^{\\mathsf T}$"
   ]
  },
  {
   "cell_type": "code",
   "execution_count": 8,
   "id": "b4ba6f1c",
   "metadata": {
    "editable": true,
    "slideshow": {
     "slide_type": ""
    },
    "tags": []
   },
   "outputs": [
    {
     "data": {
      "image/png": "[encoded data removed]",
      "text/plain": [
       "<Figure size 500x500 with 1 Axes>"
      ]
     },
     "metadata": {},
     "output_type": "display_data"
    }
   ],
   "source": [
    "import numpy as np\n",
    "import matplotlib.pyplot as plt\n",
    "\n",
    "# Example vectors in 2D\n",
    "v1 = np.array([2.0, 1.0])\n",
    "# perpendicular vector obtained by rotating v1 by 90 degrees: [-y, x]\n",
    "v2 = np.array([-v1[1], v1[0]])\n",
    "\n",
    "fig, ax = plt.subplots(figsize=(5,5))\n",
    "# draw thin axes lines\n",
    "ax.axhline(0, color='gray', linewidth=0.7)\n",
    "ax.axvline(0, color='gray', linewidth=0.7)\n",
    "\n",
    "# plot vectors using quiver so lengths are respected\n",
    "ax.quiver(0, 0, v1[0], v1[1], angles='xy', scale_units='xy', scale=1, color='C0', width=0.02)\n",
    "ax.quiver(0, 0, v2[0], v2[1], angles='xy', scale_units='xy', scale=1, color='C1', width=0.02)\n",
    "\n",
    "# annotate tips\n",
    "ax.annotate('v1', xy=(v1[0], v1[1]), xytext=(6,6), textcoords='offset points')\n",
    "ax.annotate('v2', xy=(v2[0], v2[1]), xytext=(6,6), textcoords='offset points')\n",
    "\n",
    "# determine symmetric plot limits and enforce equal aspect ratio\n",
    "max_coord = np.max(np.abs(np.vstack((v1, v2)))) * 1.25\n",
    "ax.set_xlim(-max_coord, max_coord)\n",
    "ax.set_ylim(-max_coord, max_coord)\n",
    "ax.set_aspect('equal', adjustable='box')\n",
    "\n",
    "ax.set_xlabel('x')\n",
    "ax.set_ylabel('y')\n",
    "ax.set_title('Perpendicular 2D Vectors')\n",
    "ax.grid(True, linestyle='--', linewidth=0.5)\n",
    "plt.show()"
   ]
  },
  {
   "cell_type": "markdown",
   "id": "a4a10fd8-9706-43e4-a4b1-a7a6d184b293",
   "metadata": {
    "editable": true,
    "slideshow": {
     "slide_type": "slide"
    },
    "tags": []
   },
   "source": [
    "## Zero Inner Product in 3D\n",
    "\n",
    "* Similarly, in 3D, $\\langle v_1, v_2\\rangle = \\langle v_1, v_3\\rangle = \\langle v_2, v_3\\rangle = 0$ means the 3 vectors are mutually perpendicular\n",
    "* This can be shown by first writing the vectors in spherical coordinates\n",
    "\\begin{align*}\n",
    "\\begin{cases}\n",
    "x = \\sin \\phi \\cos \\theta\\\\\n",
    "y = \\sin \\phi \\sin \\theta\\\\\n",
    "z = \\cos \\phi\n",
    "\\end{cases}, \n",
    "\\end{align*}\n",
    "but I'll spare you the details"
   ]
  },
  {
   "cell_type": "markdown",
   "id": "b5417900-2023-49d9-8eec-f900e513b6e2",
   "metadata": {
    "editable": true,
    "slideshow": {
     "slide_type": "slide"
    },
    "tags": []
   },
   "source": [
    "## Perpendicular in 3D\n",
    "\n",
    "* Mutually perpendicular 3D vectors with norm 1 are just \"rotation\" of $(1, 0, 0)^{\\mathsf T}$, $(0, 1, 0)^{\\mathsf T}$ and $(0, 0, 1)^{\\mathsf T}$"
   ]
  },
  {
   "cell_type": "code",
   "execution_count": 13,
   "id": "44e0940c",
   "metadata": {
    "editable": true,
    "slideshow": {
     "slide_type": ""
    },
    "tags": []
   },
   "outputs": [
    {
     "data": {
      "image/png": "[encoded data removed]",
      "text/plain": [
       "<Figure size 600x600 with 1 Axes>"
      ]
     },
     "metadata": {},
     "output_type": "display_data"
    }
   ],
   "source": [
    "import numpy as np\n",
    "import matplotlib.pyplot as plt\n",
    "from mpl_toolkits.mplot3d import Axes3D\n",
    "\n",
    "# Define three mutually perpendicular vectors in 3D\n",
    "v1 = np.array([1.0, 1.0, 1.0])\n",
    "v2 = np.array([1.0, -1.0, 0.0])  # v1.dot(v2) = 0\n",
    "# v3 is chosen as the cross product v1 x v2 to ensure orthogonality and then scaled\n",
    "v3 = np.cross(v1, v2)\n",
    "v3 = v3 / np.linalg.norm(v3) * 1.5\n",
    "\n",
    "fig = plt.figure(figsize=(6,6))\n",
    "ax = fig.add_subplot(111, projection='3d')\n",
    "\n",
    "# plot arrows from origin; arrow_length_ratio controls head size\n",
    "ax.quiver(0, 0, 0, v1[0], v1[1], v1[2], color='C0', linewidth=1, arrow_length_ratio=0.08)\n",
    "ax.quiver(0, 0, 0, v2[0], v2[1], v2[2], color='C1', linewidth=1, arrow_length_ratio=0.08)\n",
    "ax.quiver(0, 0, 0, v3[0], v3[1], v3[2], color='C2', linewidth=1, arrow_length_ratio=0.08)\n",
    "\n",
    "# annotate tips\n",
    "ax.text(*(v1 * 1.05), 'v1', color='C0')\n",
    "ax.text(*(v2 * 1.05), 'v2', color='C1')\n",
    "ax.text(*(v3 * 1.05), 'v3', color='C2')\n",
    "\n",
    "# symmetric limits around origin\n",
    "max_coord = np.max(np.abs(np.vstack((v1, v2, v3)))) * 1.25\n",
    "ax.set_xlim(-max_coord, max_coord)\n",
    "ax.set_ylim(-max_coord, max_coord)\n",
    "ax.set_zlim(-max_coord, max_coord)\n",
    "\n",
    "# enforce equal aspect ratio if supported\n",
    "try:\n",
    "    ax.set_box_aspect([1,1,1])\n",
    "except Exception:\n",
    "    # older matplotlib: approximate equal aspect by leaving symmetric limits\n",
    "    pass\n",
    "\n",
    "ax.set_xlabel('x')\n",
    "ax.set_ylabel('y')\n",
    "ax.set_zlabel('z')\n",
    "# ax.set_title('Three Mutually Perpendicular 3D Vectors')\n",
    "# Set a camera view (elevation, azimuth) to make perpendicular relationships easier to see\n",
    "ax.view_init(elev=10, azim=20)\n",
    "plt.show()"
   ]
  },
  {
   "cell_type": "markdown",
   "id": "312b7fe4-6433-4f66-947b-6849a2446284",
   "metadata": {
    "editable": true,
    "slideshow": {
     "slide_type": "slide"
    },
    "tags": []
   },
   "source": [
    "## Zero Inner Product in General ($n$-D)\n",
    "\n",
    "* In 2D there can be at most 2 vectors that are mutually perpendicular\n",
    "* In 3D there can be at most 3 vectors that are mutually perpendicular\n",
    "* In general, in $n$-D there can be at most $n$ vectors that are mutually perpendicular\n",
    "    * In fact that's the definition of the dimension in linear algebra: Maximum number of vectors one can find in a space that's mutually independent\n",
    "    * Given a set of mutually independent vectors, mutually perpendicular vectors can be constructed through the Gram-Schmidt process"
   ]
  },
  {
   "cell_type": "markdown",
   "id": "44b3915d-121f-494f-92d5-cfd560603e09",
   "metadata": {
    "editable": true,
    "slideshow": {
     "slide_type": "fragment"
    },
    "tags": []
   },
   "source": [
    "* An $n\\times n$ unitary matrix is one whose $n$ column vectors are mutually perpendicular with norm 1\n",
    "* Such $n$ vectors are just rotation of the so called standard basis $(1, 0,\\ldots, 0)^{\\mathsf T}$, $(0, 1,\\ldots, 0)^{\\mathsf T}$ and $(0, 0,\\ldots, 1)^{\\mathsf T}$"
   ]
  },
  {
   "cell_type": "markdown",
   "id": "9f95b620-0f53-453c-ad9d-9a0eb9ab6b19",
   "metadata": {
    "editable": true,
    "slideshow": {
     "slide_type": "slide"
    },
    "tags": []
   },
   "source": [
    "## Unitary Matrix as a Rotation Matrix\n",
    "\n",
    "* 2D unit vector has the general form $(\\cos\\theta, \\sin\\theta)^{\\mathsf T}$"
   ]
  },
  {
   "cell_type": "markdown",
   "id": "41d20b95-c106-4987-9f31-94082bd7d72d",
   "metadata": {
    "editable": true,
    "slideshow": {
     "slide_type": "fragment"
    },
    "tags": []
   },
   "source": [
    "* A 2D unit vector that's perpendicular to $(\\cos\\theta, \\sin\\theta)^{\\mathsf T}$ must be (?) $(\\cos(\\theta+\\pi/2), \\sin(\\theta+\\pi/2))^{\\mathsf T} = (-\\sin\\theta, \\cos\\theta)^{\\mathsf T}$\n",
    "    * The direction is unique but sign can change, that is, $-(-\\sin\\theta, \\cos\\theta)^{\\mathsf T}$ is also a perpendicular vector"
   ]
  },
  {
   "cell_type": "markdown",
   "id": "bfcda143-9af2-4799-b1ef-124e5f3dad17",
   "metadata": {
    "editable": true,
    "slideshow": {
     "slide_type": "fragment"
    },
    "tags": []
   },
   "source": [
    "* Thus $2\\times 2$ unitary matrices have the general form\n",
    "\\begin{align*}\n",
    "R = \n",
    "\\begin{pmatrix}\n",
    "\\cos\\theta & -\\sin\\theta \\\\\n",
    "\\sin\\theta & \\cos\\theta\\\\\n",
    "\\end{pmatrix},\n",
    "\\end{align*}\n",
    "which is a rotation matrix"
   ]
  },
  {
   "cell_type": "markdown",
   "id": "757ffc07-d749-4c5f-8155-cbdc88b577f5",
   "metadata": {
    "editable": true,
    "slideshow": {
     "slide_type": "fragment"
    },
    "tags": []
   },
   "source": [
    "* $R$ has a property that $R\\vec v$ rotates the direction of $\\vec v$ counterclockwise through $\\theta$\n",
    "* In general, an $n\\times n$ unitary matrix is a rotation matrix that, when multiplied by an $n$-D vector, rotates the vector"
   ]
  },
  {
   "cell_type": "markdown",
   "id": "931e4697-16ec-4a62-8012-6c7d513ca464",
   "metadata": {
    "editable": true,
    "slideshow": {
     "slide_type": "slide"
    },
    "tags": []
   },
   "source": [
    "## One Property of SVD\n",
    "\n",
    "* Recall that $X_{m\\times n} = USV^{\\mathsf T}$ with $m>n$. We will write $T = US$ and $X = TV^{\\mathsf T}$: \n",
    "\\begin{align*}\n",
    "X_{m\\times n} &= \\begin{pmatrix}\n",
    "&\\\\\n",
    "|&|&  &&& | \\\\\\\\\n",
    "u_1 & u_2 && \\cdots && u_m \\\\\\\\\n",
    "|&|&  &&& | \\\\\\\\\n",
    "\\end{pmatrix}_{m\\times m}\\begin{pmatrix}\n",
    "s_{11} & 0 & \\cdots & 0\\\\ \n",
    "0 & s_{2, 1} & \\cdots & 0\\\\ \n",
    "\\vdots & \\vdots & \\ddots & \\vdots\\\\ \n",
    "0 & 0 & \\cdots & s_{nn}\\\\ \n",
    "\\vdots & \\vdots & \\vdots & \\vdots\\\\ \n",
    "0 & 0 & \\cdots & 0\\\\ \n",
    "\\end{pmatrix}_{m\\times n}\\begin{pmatrix}\n",
    "\\frac{\\qquad}{} & v_1^{\\mathsf T} & \\frac{\\qquad}{} \\\\\n",
    "\\frac{\\qquad}{} & v_2^{\\mathsf T} & \\frac{\\qquad}{} \\\\\n",
    "& \\vdots & \\\\\n",
    "\\frac{\\qquad}{} & v_n^{\\mathsf T} & \\frac{\\qquad}{} \\\\\n",
    "\\end{pmatrix}_{n\\times n}\\\\\n",
    "&= TV^{\\mathsf T} = \\begin{pmatrix}\n",
    "\\\\\n",
    "|&|&  & | \\\\\\\\\n",
    "s_{11} u_1 & s_{22} u_2 & \\cdots & s_{nn}u_n \\\\\\\\\n",
    "|&|&  & | \\\\\\\\\n",
    "\\end{pmatrix}_{m\\times n}\\begin{pmatrix}\n",
    "\\frac{\\qquad}{} & v_1^{\\mathsf T} & \\frac{\\qquad}{} \\\\\n",
    "\\frac{\\qquad}{} & v_2^{\\mathsf T} & \\frac{\\qquad}{} \\\\\n",
    "& \\vdots & \\\\\n",
    "\\frac{\\qquad}{} & v_n^{\\mathsf T} & \\frac{\\qquad}{} \\\\\n",
    "\\end{pmatrix}_{n\\times n}\n",
    "\\end{align*}"
   ]
  },
  {
   "cell_type": "markdown",
   "id": "f018c040-ce74-4052-b0a6-191180761b63",
   "metadata": {
    "editable": true,
    "slideshow": {
     "slide_type": "slide"
    },
    "tags": []
   },
   "source": [
    "## One Property of SVD (Cont.)\n",
    "\n",
    "\\begin{align*}\n",
    "X_{m\\times n} = TV^{\\mathsf T} = \\begin{pmatrix}\n",
    "\\\\\n",
    "|&|&  & | \\\\\\\\\n",
    "s_{11} u_1 & s_{22} u_2 & \\cdots & s_{nn}u_n \\\\\\\\\n",
    "|&|&  & | \\\\\\\\\n",
    "\\end{pmatrix}_{m\\times n}\\begin{pmatrix}\n",
    "\\frac{\\qquad}{} & v_1^{\\mathsf T} & \\frac{\\qquad}{} \\\\\n",
    "\\frac{\\qquad}{} & v_2^{\\mathsf T} & \\frac{\\qquad}{} \\\\\n",
    "& \\vdots & \\\\\n",
    "\\frac{\\qquad}{} & v_n^{\\mathsf T} & \\frac{\\qquad}{} \\\\\n",
    "\\end{pmatrix}_{n\\times n}\n",
    "\\end{align*}\n",
    "* $T$, like $U$, has mutually perpendicular column vectors too but with norms $s_{11}, s_{22}, \\ldots s_{nn}$\n",
    "    * For example $\\langle s_{11}u_1, s_{22}u_2\\rangle = s_{11}s_{22}\\langle u_1, u_2\\rangle = 0$, as $s_{11}$ and $s_{22}$ are simply scalars"
   ]
  },
  {
   "cell_type": "markdown",
   "id": "2a73703f-7864-4adf-8d8f-a6015e9c30b4",
   "metadata": {
    "editable": true,
    "slideshow": {
     "slide_type": "slide"
    },
    "tags": []
   },
   "source": [
    "## Curve PCA\n",
    "\n",
    "* We start from collecting the yield curve movement data\n",
    "    * (curve on date $t$) - (curve on date $t-1$)\n",
    "    * If we use the Treasury yield curve for tenors $\\geq$ 1y, it has $n=8$ points\n",
    "* We collect the daily curve movements from the past 2m (about $m=44$ days)\n",
    "* The daily curve movement data forms the $m\\times n$ matrix $X$, whose SVD gives $X = TV^{\\mathsf T}$"
   ]
  },
  {
   "cell_type": "markdown",
   "id": "557f521f-0b02-465c-84a2-a5d2f7d2bc7e",
   "metadata": {
    "editable": true,
    "slideshow": {
     "slide_type": "fragment"
    },
    "tags": []
   },
   "source": [
    "* Columns of $V$, denoted by $v_j$, are the principal components (PCs).\n",
    "    * 1st column $v_1$ is PC1\n",
    "    * 2nd column $v_2$ is PC2\n",
    "    * 3rd column $v_3$ is PC3"
   ]
  },
  {
   "cell_type": "markdown",
   "id": "890be360-7498-4130-a4bc-f088e0285a44",
   "metadata": {
    "editable": true,
    "slideshow": {
     "slide_type": "fragment"
    },
    "tags": []
   },
   "source": [
    "* Columns of $T$ are PC scores\n",
    "    * 1st column is scores corresponding to PC1\n",
    "    * 2nd column is scores corresponding to PC2\n",
    "    * 3rd column is scores corresponding to PC3"
   ]
  },
  {
   "cell_type": "markdown",
   "id": "16e53305-f7c3-4761-95b9-31b5ca81e9a5",
   "metadata": {
    "editable": true,
    "slideshow": {
     "slide_type": "slide"
    },
    "tags": []
   },
   "source": [
    "## Data\n",
    "\n",
    "* Curve data"
   ]
  },
  {
   "cell_type": "code",
   "execution_count": 63,
   "id": "c4ab0ad9-4384-41f5-850d-6358968067eb",
   "metadata": {
    "editable": true,
    "slideshow": {
     "slide_type": ""
    },
    "tags": []
   },
   "outputs": [
    {
     "data": {
      "text/html": [
       "<div>\n",
       "<style scoped>\n",
       "    .dataframe tbody tr th:only-of-type {\n",
       "        vertical-align: middle;\n",
       "    }\n",
       "\n",
       "    .dataframe tbody tr th {\n",
       "        vertical-align: top;\n",
       "    }\n",
       "\n",
       "    .dataframe thead th {\n",
       "        text-align: right;\n",
       "    }\n",
       "</style>\n",
       "<table border=\"1\" class=\"dataframe\">\n",
       "  <thead>\n",
       "    <tr style=\"text-align: right;\">\n",
       "      <th></th>\n",
       "      <th>1y</th>\n",
       "      <th>2y</th>\n",
       "      <th>3y</th>\n",
       "      <th>5y</th>\n",
       "      <th>7y</th>\n",
       "      <th>10y</th>\n",
       "      <th>20y</th>\n",
       "      <th>30y</th>\n",
       "    </tr>\n",
       "  </thead>\n",
       "  <tbody>\n",
       "    <tr>\n",
       "      <th>10/17/2025</th>\n",
       "      <td>3.56</td>\n",
       "      <td>3.46</td>\n",
       "      <td>3.47</td>\n",
       "      <td>3.59</td>\n",
       "      <td>3.78</td>\n",
       "      <td>4.02</td>\n",
       "      <td>4.58</td>\n",
       "      <td>4.60</td>\n",
       "    </tr>\n",
       "    <tr>\n",
       "      <th>10/16/2025</th>\n",
       "      <td>3.54</td>\n",
       "      <td>3.41</td>\n",
       "      <td>3.42</td>\n",
       "      <td>3.55</td>\n",
       "      <td>3.74</td>\n",
       "      <td>3.99</td>\n",
       "      <td>4.56</td>\n",
       "      <td>4.58</td>\n",
       "    </tr>\n",
       "    <tr>\n",
       "      <th>10/15/2025</th>\n",
       "      <td>3.61</td>\n",
       "      <td>3.50</td>\n",
       "      <td>3.51</td>\n",
       "      <td>3.63</td>\n",
       "      <td>3.82</td>\n",
       "      <td>4.05</td>\n",
       "      <td>4.61</td>\n",
       "      <td>4.64</td>\n",
       "    </tr>\n",
       "    <tr>\n",
       "      <th>10/14/2025</th>\n",
       "      <td>3.58</td>\n",
       "      <td>3.48</td>\n",
       "      <td>3.47</td>\n",
       "      <td>3.60</td>\n",
       "      <td>3.79</td>\n",
       "      <td>4.03</td>\n",
       "      <td>4.59</td>\n",
       "      <td>4.62</td>\n",
       "    </tr>\n",
       "  </tbody>\n",
       "</table>\n",
       "</div>"
      ],
      "text/plain": [
       "              1y    2y    3y    5y    7y   10y   20y   30y\n",
       "10/17/2025  3.56  3.46  3.47  3.59  3.78  4.02  4.58  4.60\n",
       "10/16/2025  3.54  3.41  3.42  3.55  3.74  3.99  4.56  4.58\n",
       "10/15/2025  3.61  3.50  3.51  3.63  3.82  4.05  4.61  4.64\n",
       "10/14/2025  3.58  3.48  3.47  3.60  3.79  4.03  4.59  4.62"
      ]
     },
     "execution_count": 63,
     "metadata": {},
     "output_type": "execute_result"
    }
   ],
   "source": [
    "table('daily-treasury-rates').head(4).iloc[:, 6:]"
   ]
  },
  {
   "cell_type": "markdown",
   "id": "029f1327-c749-4b32-9d8b-e3a5b3956865",
   "metadata": {
    "editable": true,
    "slideshow": {
     "slide_type": ""
    },
    "tags": []
   },
   "source": [
    "* Curve movement"
   ]
  },
  {
   "cell_type": "code",
   "execution_count": 67,
   "id": "132d57d0-70d5-4132-96fd-f05a2032dbd7",
   "metadata": {
    "editable": true,
    "slideshow": {
     "slide_type": ""
    },
    "tags": []
   },
   "outputs": [
    {
     "data": {
      "text/html": [
       "<div>\n",
       "<style scoped>\n",
       "    .dataframe tbody tr th:only-of-type {\n",
       "        vertical-align: middle;\n",
       "    }\n",
       "\n",
       "    .dataframe tbody tr th {\n",
       "        vertical-align: top;\n",
       "    }\n",
       "\n",
       "    .dataframe thead th {\n",
       "        text-align: right;\n",
       "    }\n",
       "</style>\n",
       "<table border=\"1\" class=\"dataframe\">\n",
       "  <thead>\n",
       "    <tr style=\"text-align: right;\">\n",
       "      <th></th>\n",
       "      <th>1y</th>\n",
       "      <th>2y</th>\n",
       "      <th>3y</th>\n",
       "      <th>5y</th>\n",
       "      <th>7y</th>\n",
       "      <th>10y</th>\n",
       "      <th>20y</th>\n",
       "      <th>30y</th>\n",
       "    </tr>\n",
       "  </thead>\n",
       "  <tbody>\n",
       "    <tr>\n",
       "      <th>10/17/2025</th>\n",
       "      <td>NaN</td>\n",
       "      <td>NaN</td>\n",
       "      <td>NaN</td>\n",
       "      <td>NaN</td>\n",
       "      <td>NaN</td>\n",
       "      <td>NaN</td>\n",
       "      <td>NaN</td>\n",
       "      <td>NaN</td>\n",
       "    </tr>\n",
       "    <tr>\n",
       "      <th>10/16/2025</th>\n",
       "      <td>0.02</td>\n",
       "      <td>0.05</td>\n",
       "      <td>0.05</td>\n",
       "      <td>0.04</td>\n",
       "      <td>0.04</td>\n",
       "      <td>0.03</td>\n",
       "      <td>0.02</td>\n",
       "      <td>0.02</td>\n",
       "    </tr>\n",
       "    <tr>\n",
       "      <th>10/15/2025</th>\n",
       "      <td>-0.07</td>\n",
       "      <td>-0.09</td>\n",
       "      <td>-0.09</td>\n",
       "      <td>-0.08</td>\n",
       "      <td>-0.08</td>\n",
       "      <td>-0.06</td>\n",
       "      <td>-0.05</td>\n",
       "      <td>-0.06</td>\n",
       "    </tr>\n",
       "    <tr>\n",
       "      <th>10/14/2025</th>\n",
       "      <td>0.03</td>\n",
       "      <td>0.02</td>\n",
       "      <td>0.04</td>\n",
       "      <td>0.03</td>\n",
       "      <td>0.03</td>\n",
       "      <td>0.02</td>\n",
       "      <td>0.02</td>\n",
       "      <td>0.02</td>\n",
       "    </tr>\n",
       "  </tbody>\n",
       "</table>\n",
       "</div>"
      ],
      "text/plain": [
       "              1y    2y    3y    5y    7y   10y   20y   30y\n",
       "10/17/2025   NaN   NaN   NaN   NaN   NaN   NaN   NaN   NaN\n",
       "10/16/2025  0.02  0.05  0.05  0.04  0.04  0.03  0.02  0.02\n",
       "10/15/2025 -0.07 -0.09 -0.09 -0.08 -0.08 -0.06 -0.05 -0.06\n",
       "10/14/2025  0.03  0.02  0.04  0.03  0.03  0.02  0.02  0.02"
      ]
     },
     "execution_count": 67,
     "metadata": {},
     "output_type": "execute_result"
    }
   ],
   "source": [
    "-table('daily-treasury-rates').head(4).iloc[:, 6:].diff()"
   ]
  },
  {
   "cell_type": "markdown",
   "id": "43c66e1c-e841-4d78-9419-905ba03f6402",
   "metadata": {
    "editable": true,
    "slideshow": {
     "slide_type": "slide"
    },
    "tags": []
   },
   "source": [
    "## PCs\n",
    "\n",
    "* Classic result\n",
    "    * PC1 is close to parallel shift\n",
    "    * PC2 controls the slope of the curve\n",
    "    * PC3 controls the curvature"
   ]
  },
  {
   "cell_type": "code",
   "execution_count": 97,
   "id": "9f8990c7-bd60-4a31-8837-5692fdaf50fd",
   "metadata": {
    "editable": true,
    "slideshow": {
     "slide_type": ""
    },
    "tags": []
   },
   "outputs": [],
   "source": [
    "import numpy\n",
    "\n",
    "X = -table('daily-treasury-rates').head(67).iloc[:, 6:].diff().dropna().values\n",
    "\n",
    "m, n = X.shape\n",
    "\n",
    "u, s, vt = numpy.linalg.svd(X)\n",
    "\n",
    "T = u[:, :n] * s\n",
    "\n",
    "v = vt.T"
   ]
  },
  {
   "cell_type": "code",
   "execution_count": 125,
   "id": "1974a4ec-8d06-45cf-88f3-53d83dbc327f",
   "metadata": {
    "editable": true,
    "slideshow": {
     "slide_type": ""
    },
    "tags": []
   },
   "outputs": [
    {
     "data": {
      "image/png": "[encoded data removed]",
      "text/plain": [
       "<Figure size 800x400 with 1 Axes>"
      ]
     },
     "metadata": {},
     "output_type": "display_data"
    }
   ],
   "source": [
    "from pandas import DataFrame\n",
    "import matplotlib.pyplot as plt\n",
    "import numpy as np\n",
    "\n",
    "fig, ax = plt.subplots(figsize=(8, 4)) \n",
    "ax = DataFrame(v, columns=[f'PC{j}' for j in range(1, n+1)], index=['1y', '2y', '3y', '5y', '7y', '10y', '20y', '30y']).iloc[:, :3].plot(style='.-', ax=ax)\n",
    "ax.plot(range(8), np.zeros(8), color='lightgray');\n"
   ]
  },
  {
   "cell_type": "markdown",
   "id": "f5ace4bd-c121-4941-b0c9-bcacf1d3121b",
   "metadata": {
    "editable": true,
    "slideshow": {
     "slide_type": "slide"
    },
    "tags": []
   },
   "source": [
    "## Scores\n",
    "\n",
    "* Classic result: PC1 score volatility $\\gg$ PC2 score volatility $\\gg$ PC3 score volatility\n",
    "* Given how tiny PC4 (and beyond) score volatility is, curve movements that can't be explained by the first 3 PCs are often treated as noise"
   ]
  },
  {
   "cell_type": "code",
   "execution_count": 124,
   "id": "45628ef2-16ee-4512-b7ee-652fd47084ec",
   "metadata": {
    "editable": true,
    "slideshow": {
     "slide_type": ""
    },
    "tags": []
   },
   "outputs": [
    {
     "data": {
      "text/html": [
       "<div>\n",
       "<style scoped>\n",
       "    .dataframe tbody tr th:only-of-type {\n",
       "        vertical-align: middle;\n",
       "    }\n",
       "\n",
       "    .dataframe tbody tr th {\n",
       "        vertical-align: top;\n",
       "    }\n",
       "\n",
       "    .dataframe thead th {\n",
       "        text-align: right;\n",
       "    }\n",
       "</style>\n",
       "<table border=\"1\" class=\"dataframe\">\n",
       "  <thead>\n",
       "    <tr style=\"text-align: right;\">\n",
       "      <th></th>\n",
       "      <th>PC1</th>\n",
       "      <th>PC2</th>\n",
       "      <th>PC3</th>\n",
       "      <th>PC4</th>\n",
       "      <th>PC5</th>\n",
       "      <th>PC6</th>\n",
       "      <th>PC7</th>\n",
       "      <th>PC8</th>\n",
       "    </tr>\n",
       "  </thead>\n",
       "  <tbody>\n",
       "    <tr>\n",
       "      <th>Score Variance</th>\n",
       "      <td>0.940778</td>\n",
       "      <td>0.09721</td>\n",
       "      <td>0.027353</td>\n",
       "      <td>0.01297</td>\n",
       "      <td>0.005589</td>\n",
       "      <td>0.002335</td>\n",
       "      <td>0.001872</td>\n",
       "      <td>0.001292</td>\n",
       "    </tr>\n",
       "  </tbody>\n",
       "</table>\n",
       "</div>"
      ],
      "text/plain": [
       "                     PC1      PC2       PC3      PC4       PC5       PC6  \\\n",
       "Score Variance  0.940778  0.09721  0.027353  0.01297  0.005589  0.002335   \n",
       "\n",
       "                     PC7       PC8  \n",
       "Score Variance  0.001872  0.001292  "
      ]
     },
     "execution_count": 124,
     "metadata": {},
     "output_type": "execute_result"
    }
   ],
   "source": [
    "(DataFrame(T, columns=[f'PC{j+1}' for j in range(n)])**2).sum().to_frame(name='Score Variance').T"
   ]
  },
  {
   "cell_type": "code",
   "execution_count": 127,
   "id": "ef9f95a5-f5aa-453e-9ec6-75fd555aad76",
   "metadata": {
    "editable": true,
    "slideshow": {
     "slide_type": ""
    },
    "tags": []
   },
   "outputs": [
    {
     "data": {
      "image/png": "[encoded data removed]",
      "text/plain": [
       "<Figure size 800x400 with 1 Axes>"
      ]
     },
     "metadata": {},
     "output_type": "display_data"
    }
   ],
   "source": [
    "import matplotlib.pyplot as plt\n",
    "\n",
    "fig, ax = plt.subplots(figsize=(8, 4)) \n",
    "\n",
    "DataFrame(T, columns=[f'PC{j} Score' for j in range(1, n+1)]).iloc[:, :5].plot(ax=ax);"
   ]
  },
  {
   "cell_type": "markdown",
   "id": "957905c7-8725-4d93-bd49-d1f93fc7c374",
   "metadata": {
    "editable": true,
    "slideshow": {
     "slide_type": "slide"
    },
    "tags": []
   },
   "source": [
    "## What Just Happened? The Implication\n",
    "\n",
    "* Think of rows of $X$ as independent sample of the curve movement drawn from the same 8-dimensional distribution\n",
    "* Recall that $X = TV^{\\mathsf T}$. We have established that a unitary matrix like $V$ is a rotation matrix, so $X$ and $T$ are the same data, simply rotated\n",
    "* One row of $X$ equals one row of $T$ multiplied by $V^{\\mathsf T}$"
   ]
  },
  {
   "cell_type": "markdown",
   "id": "97a914d1-cb73-4ab2-90de-ac873ed99832",
   "metadata": {
    "editable": true,
    "slideshow": {
     "slide_type": "slide"
    },
    "tags": []
   },
   "source": [
    "## The Implication (Cont.)\n",
    "* One row of $X$ equals one row of $T$ multiplied by $V$\n",
    "\\begin{align*}\n",
    "\\begin{pmatrix}\n",
    "x_{11} & x_{12} & \\cdots & x_{1n} \n",
    "\\end{pmatrix} &=\n",
    "\\begin{pmatrix}\n",
    "t_{11} & t_{12} & \\cdots & t_{1n} \n",
    "\\end{pmatrix} V^{\\mathsf T}\\\\\n",
    "&= \\begin{pmatrix}\n",
    "t_{11} & t_{12} & t_{13} & \\cdots & t_{1n} \n",
    "\\end{pmatrix}\n",
    "\\begin{pmatrix}\n",
    "\\frac{\\qquad}{} & v_1^{\\mathsf T} & \\frac{\\qquad}{}\\\\\n",
    "\\frac{\\qquad}{} & v_2^{\\mathsf T} & \\frac{\\qquad}{}\\\\\n",
    "\\frac{\\qquad}{} & v_3^{\\mathsf T} & \\frac{\\qquad}{}\\\\\n",
    "&\\vdots&\\\\\n",
    "\\end{pmatrix}\\\\\n",
    "&= t_{11} \\vec v_1^{\\mathsf T} + t_{12} \\vec v_2^{\\mathsf T} + t_{13} \\vec v_3^{\\mathsf T} + t_{14} \\vec v_4^{\\mathsf T} + \\cdots + t_{1n} \\vec v_n^{\\mathsf T} \n",
    "\\end{align*}"
   ]
  },
  {
   "cell_type": "markdown",
   "id": "6450ffd0-c652-482b-923f-caad5b47c184",
   "metadata": {
    "editable": true,
    "slideshow": {
     "slide_type": ""
    },
    "tags": []
   },
   "source": [
    "* factor model\n",
    "* t uncorrelated\n",
    "* we treat PC4 and beyond because of the tiny vol"
   ]
  }
 ],
 "metadata": {
  "kernelspec": {
   "display_name": "Python 3 (ipykernel)",
   "language": "python",
   "name": "python3"
  },
  "language_info": {
   "codemirror_mode": {
    "name": "ipython",
    "version": 3
   },
   "file_extension": ".py",
   "mimetype": "text/x-python",
   "name": "python",
   "nbconvert_exporter": "python",
   "pygments_lexer": "ipython3",
   "version": "3.12.4"
  }
 },
 "nbformat": 4,
 "nbformat_minor": 5
}
