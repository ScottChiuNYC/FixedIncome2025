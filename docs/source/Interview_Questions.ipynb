{
 "cells": [
  {
   "cell_type": "markdown",
   "id": "71b9ebac",
   "metadata": {},
   "source": [
    "# Interview Questions\n",
    "\n",
    "1. What if the Yield curve of Japan fall 50% in 3 days?\n",
    "\n",
    " If Japan’s yield curve fell 50% in 3 days, it would trigger a global shock: JGB prices would soar, the yen would spike, Japanese stocks (especially banks/exporters) would tumble, and global markets would face liquidity stress from Japanese capital pulling back. It would signal either a severe recession/deflation scare or massive BoJ intervention. \n",
    "\n",
    "2. Why do bond prices fall when interest rates rise? Can you explain it using the concept of present value?\n",
    "3. Which risk factors do you think are most prevalent at this point in the market and why?\n",
    "4. What are the main methods banks use to measure market risk (such as Value at Risk), and what are the limitations of these methods?\n",
    "5. A callable bond has a coupon rate of 7%, a face value of $1,000, and can be called in 5 years. If the current market interest rate is 5%, how would you value this bond compared to a non-callable bond with the same characteristics?\n",
    "\n"
   ]
  }
 ],
 "metadata": {
  "language_info": {
   "name": "python"
  }
 },
 "nbformat": 4,
 "nbformat_minor": 5
}
