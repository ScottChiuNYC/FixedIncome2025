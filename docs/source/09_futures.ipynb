{
 "cells": [
  {
   "cell_type": "markdown",
   "id": "a1cbcf4b-c245-4f17-a3f2-2d47657f19dc",
   "metadata": {
    "editable": true,
    "slideshow": {
     "slide_type": "slide"
    },
    "tags": []
   },
   "source": [
    "# 9. Interest Rate Futures"
   ]
  },
  {
   "cell_type": "code",
   "execution_count": 3,
   "id": "40140ae1-8606-459e-b596-14b0f68a3220",
   "metadata": {
    "editable": true,
    "slideshow": {
     "slide_type": "skip"
    },
    "tags": []
   },
   "outputs": [],
   "source": [
    "from fixedincome2025 import table"
   ]
  },
  {
   "cell_type": "markdown",
   "id": "59c9851d-6f7f-418f-ae45-af80071ea73e",
   "metadata": {
    "editable": true,
    "slideshow": {
     "slide_type": "slide"
    },
    "tags": []
   },
   "source": [
    "## Types of Interest Rate Futures\n",
    "\n",
    "* Futures are exchange products\n",
    "* There is a margin mechanism to avoid default risk\n",
    "* In the U.S., by far the most pupolar interest rate futures are\n",
    "    * Treasury futures\n",
    "    * SOFR futures\n",
    "* Both products of the CME group"
   ]
  },
  {
   "cell_type": "markdown",
   "id": "3e6156f5-11fa-4f96-b8e2-3740fb4302fc",
   "metadata": {
    "editable": true,
    "slideshow": {
     "slide_type": "slide"
    },
    "tags": []
   },
   "source": [
    "## Treasury Futures Overview\n",
    "\n",
    "* Historical note: Treasury futures were CBOT (Chicago Board of Trade) products. CBOT merged with CME (Chicago Mercantile Exchange) in 2007 to form the current CME group\n",
    "* Deliverable bonds\n",
    "    * A typical futures contract requires one party to deliver a specified quantity of the underlying commodity (think of [15,000 pounds of frozen concentrated orange juice](https://www.ice.com/products/30/FCOJ-A-Futures)) to the other on the delivery date\n",
    "    * But there are so many treasuries with various dates and coupon rates this won't work\n",
    "    * Treasury futures are structured in a way that, all similar treasuries can be delivered\n",
    "* Delivery date\n",
    "    * There is not a set delivery date. The party with a short position can choose to deliver on any business day of the contract month\n",
    "* Contract size: One contract involves the delivery of $\\$100,000$ face value of the bonds"
   ]
  },
  {
   "cell_type": "markdown",
   "id": "34bb191d-5674-46a3-8cba-e8ddda956f7a",
   "metadata": {
    "editable": true,
    "slideshow": {
     "slide_type": "slide"
    },
    "tags": []
   },
   "source": [
    "## Quotes\n",
    "\n",
    "* Treasury bond futures prices are quoted int he same way as the Treasury bond prices (the spot market)\n",
    "* Quotes are in dollars and 32nds of a dollar per $\\$100$ face value\n",
    "    * $110$-$03$ means $\\$110\\frac{3}{32}$ for a T-bond with face value $\\$100$\n",
    "    * One futures contract represents $\\$100,000$ face value of the delivered bonds so $1,000$ such bonds with face value $\\$100$\n",
    "    * If the quoted price dropded by $\\$1$, say from $110$-$03$ to $109$-$03$, the holder of a futures contract lose $\\$1,000$"
   ]
  },
  {
   "cell_type": "markdown",
   "id": "ce47d8a1-5f7a-447c-9c7d-6ae7474023cc",
   "metadata": {
    "editable": true,
    "slideshow": {
     "slide_type": "slide"
    },
    "tags": []
   },
   "source": [
    "## Treasury Futures\n",
    "\n",
    "* For specs of Treasury futures, see [cmegroup.com](https://www.cmegroup.com/) > MARKETS > Interest Rates > U.S. Treasuries\n",
    "    * More detailed spec in the [rule book](https://www.cmegroup.com/rulebook/CBOT/), for example [Chapter 18](https://www.cmegroup.com/rulebook/CBOT/II/18.pdf) for ZBZ5"
   ]
  },
  {
   "cell_type": "markdown",
   "id": "cfc9d078-5d46-4381-ae67-796449b2120e",
   "metadata": {
    "editable": true,
    "slideshow": {
     "slide_type": "fragment"
    },
    "tags": []
   },
   "source": [
    "* There are 6 types of Treasury Futures"
   ]
  },
  {
   "cell_type": "code",
   "execution_count": 14,
   "id": "eb252ab1-c7d1-41bb-bbe9-b044ce3c3216",
   "metadata": {
    "editable": true,
    "scrolled": true,
    "slideshow": {
     "slide_type": ""
    },
    "tags": []
   },
   "outputs": [
    {
     "data": {
      "text/html": [
       "<div>\n",
       "<style scoped>\n",
       "    .dataframe tbody tr th:only-of-type {\n",
       "        vertical-align: middle;\n",
       "    }\n",
       "\n",
       "    .dataframe tbody tr th {\n",
       "        vertical-align: top;\n",
       "    }\n",
       "\n",
       "    .dataframe thead th {\n",
       "        text-align: right;\n",
       "    }\n",
       "</style>\n",
       "<table border=\"1\" class=\"dataframe\">\n",
       "  <thead>\n",
       "    <tr style=\"text-align: right;\">\n",
       "      <th></th>\n",
       "      <th>Ticker</th>\n",
       "      <th>Remaining Term</th>\n",
       "      <th>Original Term</th>\n",
       "      <th>Notes</th>\n",
       "    </tr>\n",
       "  </thead>\n",
       "  <tbody>\n",
       "    <tr>\n",
       "      <th>2-Year T-Note Futures</th>\n",
       "      <td>ZTZ5</td>\n",
       "      <td>[1y9m, 2y]</td>\n",
       "      <td>&lt;= 5y3m</td>\n",
       "      <td></td>\n",
       "    </tr>\n",
       "    <tr>\n",
       "      <th>5-Year T-Note Futures</th>\n",
       "      <td>ZFZ5</td>\n",
       "      <td>&gt;= 4y2m</td>\n",
       "      <td>&lt;= 5y3m</td>\n",
       "      <td></td>\n",
       "    </tr>\n",
       "    <tr>\n",
       "      <th>10-Year T-Note Futures</th>\n",
       "      <td>ZNZ5</td>\n",
       "      <td>[6.5y, 8y]</td>\n",
       "      <td></td>\n",
       "      <td></td>\n",
       "    </tr>\n",
       "    <tr>\n",
       "      <th>Ultra 10-Year U.S. T-Note Futures</th>\n",
       "      <td>TNZ5</td>\n",
       "      <td>[9y5m, 10y]</td>\n",
       "      <td>10y</td>\n",
       "      <td></td>\n",
       "    </tr>\n",
       "    <tr>\n",
       "      <th>U.S. T-Bond Futures</th>\n",
       "      <td>ZBZ5</td>\n",
       "      <td>[15y, 25y)</td>\n",
       "      <td></td>\n",
       "      <td>Can be callable</td>\n",
       "    </tr>\n",
       "    <tr>\n",
       "      <th>Ultra U.S. T-Bond Futures</th>\n",
       "      <td>UBZ5</td>\n",
       "      <td>&gt;= 25y</td>\n",
       "      <td></td>\n",
       "      <td></td>\n",
       "    </tr>\n",
       "  </tbody>\n",
       "</table>\n",
       "</div>"
      ],
      "text/plain": [
       "                                  Ticker Remaining Term Original Term  \\\n",
       "2-Year T-Note Futures               ZTZ5     [1y9m, 2y]       <= 5y3m   \n",
       "5-Year T-Note Futures               ZFZ5        >= 4y2m       <= 5y3m   \n",
       "10-Year T-Note Futures              ZNZ5     [6.5y, 8y]                 \n",
       "Ultra 10-Year U.S. T-Note Futures   TNZ5    [9y5m, 10y]           10y   \n",
       "U.S. T-Bond Futures                 ZBZ5     [15y, 25y)                 \n",
       "Ultra U.S. T-Bond Futures           UBZ5         >= 25y                 \n",
       "\n",
       "                                             Notes  \n",
       "2-Year T-Note Futures                               \n",
       "5-Year T-Note Futures                               \n",
       "10-Year T-Note Futures                              \n",
       "Ultra 10-Year U.S. T-Note Futures                   \n",
       "U.S. T-Bond Futures                Can be callable  \n",
       "Ultra U.S. T-Bond Futures                           "
      ]
     },
     "execution_count": 14,
     "metadata": {},
     "output_type": "execute_result"
    }
   ],
   "source": [
    "table('treasury_futures')"
   ]
  },
  {
   "cell_type": "markdown",
   "id": "494ba341-4838-4f04-b9a0-e234ca2ddffa",
   "metadata": {
    "editable": true,
    "slideshow": {
     "slide_type": ""
    },
    "tags": []
   },
   "source": [
    "* The remaining term is counting from the first day of the contract delivery month Dec 2025"
   ]
  },
  {
   "cell_type": "markdown",
   "id": "71d0bfd2-0daa-4efd-8add-b336320c23d4",
   "metadata": {
    "editable": true,
    "slideshow": {
     "slide_type": "slide"
    },
    "tags": []
   },
   "source": [
    "## Delivery Month Code\n",
    "\n",
    "* ZBZ5 means Dec 2025 contract, ZBH6 means Mar 2025 contract, etc.\n",
    "\n",
    "$$\n",
    "$$\n",
    "\n",
    "| Code | Month | Code | Month | Code | Month |\n",
    "|:-----|:------|:-----|:------|:-----|:------|\n",
    "| F | January | G | February | H | March |\n",
    "| J | April | K | May | M | June |\n",
    "| N | July | Q | August | U | September |\n",
    "| V | October | X | November | Z | December |\n",
    "\n",
    "$$\n",
    "$$\n",
    "\n",
    "* There are **quarterly futures** for March, June, September and December (HMUZ) and **serial futures** for other \"off-quarter\" months\n",
    "* For Treasury futures, only quarterly are trading. For SOFR futures, serial are also trading\n",
    "* Quarterly are much more liquid and important"
   ]
  },
  {
   "cell_type": "markdown",
   "id": "c12ae235-d025-43b3-a949-928628f7f61e",
   "metadata": {
    "editable": true,
    "slideshow": {
     "slide_type": "slide"
    },
    "tags": []
   },
   "source": [
    "## \n",
    "\n",
    "* Cash received by the short when a bond is delivered is\n",
    "$$\n",
    "(\\text{Most recent futures settlement price} \\times \\text{Conversion factor}) + \\text{Accrued interest}\n",
    "$$"
   ]
  },
  {
   "cell_type": "markdown",
   "id": "99a49926",
   "metadata": {
    "editable": true,
    "slideshow": {
     "slide_type": "slide"
    },
    "tags": []
   },
   "source": [
    "## Treasury Bond Futures\n",
    "\n",
    "- Topics: Treasury (T-) bond futures, quoted prices, conversion factors, and the cheapest-to-deliver (CTD) concept.\n",
    "- Contract convention summary: contract delivers a specified face value (commonly $\\$100,000$), quoted in dollars and 32nds of a dollar per $\\$100$ par; settlement uses a quoted futures price multiplied by a conversion factor for the delivered bond.\n",
    "- We'll extract conversion-factor formulas and work a textbook example programmatically."
   ]
  },
  {
   "cell_type": "markdown",
   "id": "d5e12f37",
   "metadata": {
    "editable": true,
    "slideshow": {
     "slide_type": "slide"
    },
    "tags": []
   },
   "source": [
    "## Conversion Factor\n",
    "\n",
    "- The conversion factor for a bond is the quoted price (per $100 par) that the bond would have if yields for all maturities equaled 6% per annum (semiannual compounding).\n",
    "- Cash received by the short when a bond is delivered is: (Most recent settlement price × Conversion factor) + Accrued interest.\n",
    "- The cost of purchasing a bond is: Quoted bond price + Accrued interest.\n",
    "- The cheapest-to-deliver bond is the one that minimizes: Quoted bond price - (Most recent settlement price × Conversion factor) (ignoring accrued interest for relative comparisons if accruals are small or cancel).\n",
    "\n",
    "Example (textbook): a three-bond comparison is given in the text with quoted prices and conversion factors. We'll reproduce that example numerically below."
   ]
  },
  {
   "cell_type": "code",
   "execution_count": 2,
   "id": "4f74b48b",
   "metadata": {
    "editable": true,
    "slideshow": {
     "slide_type": ""
    },
    "tags": []
   },
   "outputs": [
    {
     "name": "stdout",
     "output_type": "stream",
     "text": [
      "Settlement = 93.08: costs = [2.86, 2.13, 2.33]; cheapest bond = 2 (cost = $2.13)\n",
      "Settlement = 93.25: costs = [2.69, 1.87, 2.12]; cheapest bond = 2 (cost = $1.87)\n"
     ]
    }
   ],
   "source": [
    "# Reproduce the textbook cheapest-to-deliver example\n",
    "# Quoted bond prices (per $100) and conversion factors from the textbook table\n",
    "\n",
    "quoted = [99.50, 143.50, 119.75]  # quoted bond prices for bonds 1..3\n",
    "conv = [1.0382, 1.5188, 1.2615]    # conversion factors for bonds 1..3\n",
    "settlements = [93.08, 93.25]       # recent settlement prices considered in the example\n",
    "\n",
    "def ct_delivery_costs(settle):\n",
    "    costs = []\n",
    "    for q, c in zip(quoted, conv):\n",
    "        # cost-to-deliver (ignores accrued interest for the simple comparison used in the textbook)\n",
    "        cost = round(q - (settle * c), 2)\n",
    "        costs.append(cost)\n",
    "    return costs\n",
    "\n",
    "for s in settlements:\n",
    "    costs = ct_delivery_costs(s)\n",
    "    cheapest_idx = min(range(len(costs)), key=lambda i: costs[i])\n",
    "    print(f\"Settlement = {s}: costs = {costs}; cheapest bond = {cheapest_idx+1} (cost = ${costs[cheapest_idx]:.2f})\")"
   ]
  },
  {
   "cell_type": "markdown",
   "id": "43c68dec",
   "metadata": {
    "editable": true,
    "slideshow": {
     "slide_type": "slide"
    },
    "tags": []
   },
   "source": [
    "## Cheapest-to-Deliver (CTD)\n",
    "\n",
    "- The CTD bond is not fixed; it depends on the recent settlement price and relative conversion factors. Market factors (yield curve level and slope, coupon distribution, and special delivery options such as the wild-card) influence which bond is CTD.\n",
    "- In practice, the short examines all deliverable bonds and computes the net cost (including accrued interest and any repo/financing) to find the CTD — the bond that minimizes the net cost of delivery."
   ]
  },
  {
   "cell_type": "code",
   "execution_count": 3,
   "id": "5a57c132",
   "metadata": {
    "editable": true,
    "slideshow": {
     "slide_type": ""
    },
    "tags": []
   },
   "outputs": [
    {
     "data": {
      "image/png": "[encoded data removed]",
      "text/plain": [
       "<Figure size 900x450 with 1 Axes>"
      ]
     },
     "metadata": {},
     "output_type": "display_data"
    },
    {
     "name": "stdout",
     "output_type": "stream",
     "text": [
      "CTD intervals (bond_index, settlement_low, settlement_high):\n",
      "  Bond 1: 85.00 — 90.65\n",
      "  Bond 3: 90.70 — 92.30\n",
      "  Bond 2: 92.35 — 105.00\n"
     ]
    }
   ],
   "source": [
    "# Plot cost-to-deliver vs settlement price to visualize CTD regions\n",
    "import numpy as np\n",
    "import matplotlib.pyplot as plt\n",
    "\n",
    "# Use existing quoted/conv if present in the kernel, otherwise fall back to the textbook values\n",
    "try:\n",
    "    quoted\n",
    "    conv\n",
    "except NameError:\n",
    "    quoted = [99.50, 143.50, 119.75]\n",
    "    conv = [1.0382, 1.5188, 1.2615]\n",
    "\n",
    "# settlement price grid to scan (per $100 par)\n",
    "s_range = np.linspace(85, 105, 401)\n",
    "# compute costs: quoted - settle * conv for each bond across the grid\n",
    "costs = np.array([[q - s * c for s in s_range] for q, c in zip(quoted, conv)])\n",
    "\n",
    "# plot\n",
    "plt.figure(figsize=(9, 4.5))\n",
    "for i, cost in enumerate(costs):\n",
    "    plt.plot(s_range, cost, label=f'Bond {i+1} (conv={conv[i]})')\n",
    "\n",
    "# identify CTD index at each settlement price and mark regions\n",
    "ctd_idx = np.argmin(costs, axis=0)\n",
    "for i in range(len(quoted)):\n",
    "    mask = ctd_idx == i\n",
    "    plt.scatter(s_range[mask], costs[i, mask], s=6, alpha=0.6)\n",
    "\n",
    "plt.axhline(0, color='gray', linewidth=0.7)\n",
    "plt.xlabel('Settlement price (per $100)')\n",
    "plt.ylabel('Cost to deliver = quoted - settlement * conv')\n",
    "plt.title('Cost vs Settlement Price — CTD regions')\n",
    "plt.legend(loc='upper right')\n",
    "plt.grid(True, linestyle=':', alpha=0.6)\n",
    "plt.tight_layout()\n",
    "plt.show()\n",
    "\n",
    "# Print intervals where each bond is CTD (continuous ranges)\n",
    "changes = np.where(np.diff(ctd_idx) != 0)[0]\n",
    "intervals = []\n",
    "start = 0\n",
    "current = ctd_idx[0]\n",
    "for ch in changes:\n",
    "    end = ch\n",
    "    intervals.append((current, s_range[start], s_range[end]))\n",
    "    start = ch + 1\n",
    "    current = ctd_idx[ch + 1]\n",
    "# final interval\n",
    "intervals.append((current, s_range[start], s_range[-1]))\n",
    "\n",
    "print('CTD intervals (bond_index, settlement_low, settlement_high):')\n",
    "for b, low, high in intervals:\n",
    "    print(f'  Bond {b+1}: {low:.2f} — {high:.2f}')"
   ]
  },
  {
   "cell_type": "markdown",
   "id": "43bb4f8f",
   "metadata": {
    "editable": true,
    "slideshow": {
     "slide_type": "slide"
    },
    "tags": []
   },
   "source": [
    "## Contract-spec Summary — CBOT/CME U.S. Treasury Futures (teaching summary, not verbatim)\n",
    "\n",
    "Below is a concise, teaching-ready summary of typical deliverable rules and invoice mechanics for U.S. Treasury futures traded on CBOT/CME. This is a paraphrased summary for classroom use and **not** the official contract wording — always consult the exchange product specification for trading or legal use.\n",
    "\n",
    "Key items (typical):\n",
    "\n",
    "- Deliverable securities: Standard fixed-coupon U.S. Treasury bonds/notes that satisfy a remaining-maturity window defined by the contract (the exact window is specified in the product spec). Deliverable issues are normally registered, non-callable, fixed-coupon Treasury securities listed by CUSIP and must meet the contract's maturity bounds and other eligibility rules.\n",
    "\n",
    "- Maturity windows (typical, classroom summary): many contracts require the delivered security to have remaining time to final coupon/maturity within a specified range measured from the first delivery day. Example contract names and typical focus: 30-yr Treasury Bond futures (long-end), 20-yr, 10-yr (note), 5-yr (medium-term note), 2-yr (short-term note), and Ultra/mini variants. Exact numeric windows vary by contract — treat these as placeholders for teaching until you reference the official spec.\n",
    "\n",
    "- Conversion factors: the exchange publishes a conversion factor for each eligible bond. Conventionally the conversion factor equals the theoretical clean price (per $100 par) that the bond would have if discounted at a standard 6% annual yield with semiannual compounding. The invoice amount for a delivery = (futures settlement price × conversion factor) + accrued interest on the delivered bond.\n",
    "\n",
    "- Invoice and net cost: The short receives the invoice amount above when delivering; the short's acquisition cost (to obtain the bond to deliver) equals the market cash price paid plus financing costs (repo) and any transaction fees. Traders determine the cheapest-to-deliver (CTD) by minimizing net cost = (cash purchase price + financing + accrued) − invoice proceeds (or equivalently minimize quoted − settlement×conv when accruals/financing are small or ignored for pedagogy).\n",
    "\n",
    "- Notice and delivery procedure: The short gives notice of intent to deliver during the contract's delivery month; the exchange assigns a delivery notice to a long, and transfer/settlement follows the exchange's delivery calendar and clearing instructions. Practical class examples often simplify the notice/matching details to focus on CTD and conversion-factor mechanics.\n",
    "\n",
    "- Exclusions & special cases: Certain instruments (e.g., STRIPS, non-standard coupon structures, or securities with special tax/treatment) may be ineligible. Ex-coupon dates, accrued-interest conventions, and accrued-interest rounding can affect the numerical CTD choice. Some contracts allow adjustments or have rounding rules; check the product spec for details.\n",
    "\n",
    "Teaching notes:\n",
    "- For classroom CTD demonstrations it's common to (a) use quoted clean prices and conversion factors and (b) omit small accrued-interest differences to make the conversion-factor crossovers clear. For production valuation, include full invoice (accrued, repo/financing) and any delivery/notice fees.\n",
    "- Conversion factors depend only on a bond's coupon and remaining cashflow schedule; students can compute them by discounting the bond cashflows at 6% (semiannual) and solving for the implied clean price per $100 par.\n",
    "- I can add a short table next (one cell) listing the standard contract names and a classroom-style placeholder for their usual deliverable maturity ranges; later we can replace placeholders with verbatim spec text or exact product URLs when we obtain the exchange PDFs/links.\n",
    "\n",
    "(End of summary — not contract text.)"
   ]
  },
  {
   "cell_type": "markdown",
   "id": "cf7a30f4",
   "metadata": {
    "editable": true,
    "slideshow": {
     "slide_type": "slide"
    },
    "tags": []
   },
   "source": [
    "## Placeholder: Standard Treasury Futures (classroom table, verify with exchange specs)\n",
    "\n",
    "The table below lists common U.S. Treasury futures contracts and classroom-style placeholder deliverable maturity ranges. These are teaching placeholders — I will replace them with exact contract-spec text or PDF citations once we fetch the official specs.\n",
    "\n",
    "| Contract (typical ticker) | Classroom placeholder deliverable maturity window | Notes |\n",
    "|---|---:|---|\n",
    "| 30‑Year Treasury Bond (ZB) | ~15 to 30+ years remaining to maturity | Long‑end bond futures; conversion factors published per‑issue |\n",
    "| 20‑Year Treasury Bond (25) | ~15 to 25 years remaining | Used for intermediate long bond exposure; check spec for exact bounds |\n",
    "| 10‑Year Treasury Note (ZN) | ~6.5 to 10 years remaining | Standard note futures; widely used for curve hedging |\n",
    "| Ultra 10‑Year (UB / Ultra 10) | slightly longer remaining maturity than standard 10y | Larger‑notional / liquidity differences; verify spec |\n",
    "| 5‑Year Treasury Note (ZF) | ~4 to 6 years remaining | Medium‑term note futures; check coupon/issue eligibility |\n",
    "| 2‑Year Treasury Note (ZT) | ~1 to 3 years remaining | Shorter tenor; convertible bond list narrower; verify spec |\n",
    "\n",
    "Instruction: Treat the numeric ranges above as placeholders for pedagogical examples. When we obtain the product‑spec PDFs or exact rulebook pages, I will (a) replace the ranges with verbatim contract windows, (b) include any coupon or CUSIP eligibility rules, and (c) add links/citations to the exchange source."
   ]
  },
  {
   "cell_type": "markdown",
   "id": "1f0d7819",
   "metadata": {},
   "source": [
    "## Why invoice = (settlement × conversion factor) + accrued interest\n",
    "\n",
    "Treasury futures are designed to allow a short to deliver any one of a set of eligible Treasury securities (different coupons and maturity dates). Because delivered bonds differ in coupon and remaining cashflows, the exchange converts the quoted futures price into the cash amount payable for a specific bond using two adjustments:\n",
    "\n",
    "- Conversion factor: normalizes a bond's price to the futures basis. The conversion factor equals the theoretical clean price (per $100 par) that the bond would have at a standard reference yield (historically 6% with semiannual compounding). Multiplying the futures settlement by the bond's conversion factor gives the invoice 'clean' price component for that bond.\n",
    "- Accrued interest: compensates the deliverer for coupon interest that has accrued since the last coupon date. Bonds trade with accrued interest in the cash market, so delivery must include accrued interest to fully compensate the short.\n",
    "\n",
    "Together these terms give the cash the short receives when delivering a particular bond:\n",
    "\n",
    "```\n",
    "Invoice = (futures settlement × conversion factor) + accrued interest\n",
    "```\n",
    "\n",
    "Why other futures don't need this: many futures reference a single standardized deliverable (a fixed grade/quantity and location) or are cash‑settled (equity index futures). Those contracts don't require a per‑issue normalization by coupon and hence don't use a conversion factor plus accrued interest term.\n",
    "\n",
    "Practical consequence: the conversion‑factor system creates delivery optionality (the short chooses which eligible bond to deliver) and gives rise to cheapest‑to‑deliver (CTD) behavior and a persistent basis between cash and futures. Traders must include CF, accrued interest, and financing/repo costs when evaluating delivery or arbitrage decisions.\n",
    "\n",
    "Example (illustrative):\n",
    "- Futures settlement = 95.00 (per $100 par)\n",
    "- Bond conversion factor = 1.25\n",
    "- Accrued interest = 0.45\n",
    "- Invoice = 95.00 × 1.25 + 0.45 = 119.20\n",
    "\n",
    "If the bond's clean market price = 119.10, the short's approximate pre‑financing net = (119.10 + 0.45) − 119.20 = +0.35 (profit before financing/repo cost).\n",
    "\n",
    "(End of explanation — I can expand this section with a short diagram or add references to the CBOT rulebook if you'd like.)"
   ]
  }
 ],
 "metadata": {
  "kernelspec": {
   "display_name": "Python 3 (ipykernel)",
   "language": "python",
   "name": "python3"
  },
  "language_info": {
   "codemirror_mode": {
    "name": "ipython",
    "version": 3
   },
   "file_extension": ".py",
   "mimetype": "text/x-python",
   "name": "python",
   "nbconvert_exporter": "python",
   "pygments_lexer": "ipython3",
   "version": "3.12.4"
  }
 },
 "nbformat": 4,
 "nbformat_minor": 5
}
