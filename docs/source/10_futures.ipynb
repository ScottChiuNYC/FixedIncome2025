{
 "cells": [
  {
   "cell_type": "markdown",
   "id": "a1cbcf4b-c245-4f17-a3f2-2d47657f19dc",
   "metadata": {
    "editable": true,
    "slideshow": {
     "slide_type": "slide"
    },
    "tags": []
   },
   "source": [
    "# 10. Interest Rate Futures"
   ]
  },
  {
   "cell_type": "code",
   "execution_count": 3,
   "id": "40140ae1-8606-459e-b596-14b0f68a3220",
   "metadata": {
    "editable": true,
    "slideshow": {
     "slide_type": "skip"
    },
    "tags": []
   },
   "outputs": [],
   "source": [
    "from fixedincome2025 import table"
   ]
  },
  {
   "cell_type": "markdown",
   "id": "59c9851d-6f7f-418f-ae45-af80071ea73e",
   "metadata": {
    "editable": true,
    "slideshow": {
     "slide_type": "slide"
    },
    "tags": []
   },
   "source": [
    "## Types of Interest Rate Futures\n",
    "\n",
    "* Reference: Section 6.3 of Options, Futures, and Other Derivatives 11th Edition by John Hull, Sankarshan Basu\n",
    "* Futures are exchange products\n",
    "* There is a margin mechanism to avoid default risk\n",
    "* In the U.S., by far the most pupolar interest rate futures are\n",
    "    * Treasury futures\n",
    "    * SOFR futures\n",
    "* Both products of the CME group"
   ]
  },
  {
   "cell_type": "markdown",
   "id": "82799587-06d5-407c-910d-9634bfb6cdc7",
   "metadata": {
    "editable": true,
    "slideshow": {
     "slide_type": "slide"
    },
    "tags": []
   },
   "source": [
    "## Treasury Futures Overview\n",
    "\n",
    "* Historical note: Treasury futures were CBOT (Chicago Board of Trade) products. CBOT merged with CME (Chicago Mercantile Exchange) in 2007 to form the current CME group\n",
    "* Contract size: One contract involves the delivery of $\\$100,000$ face value of the bonds\n",
    "* Settlement: Physical, meaning if you are long you actually get T-bonds on delivery date, not cash"
   ]
  },
  {
   "attachments": {},
   "cell_type": "markdown",
   "id": "7bca864c-f86b-4042-af3f-1fd367305cd4",
   "metadata": {
    "editable": true,
    "slideshow": {
     "slide_type": "fragment"
    },
    "tags": []
   },
   "source": [
    "* Delivery date\n",
    "    * There is not a set delivery date. The party with a short position can choose to deliver on any business day of the contract month"
   ]
  },
  {
   "attachments": {},
   "cell_type": "markdown",
   "id": "b5e53b09-2649-48fa-9efc-701425d720dd",
   "metadata": {
    "editable": true,
    "slideshow": {
     "slide_type": "slide"
    },
    "tags": []
   },
   "source": [
    "## Deliverable Bonds\n",
    "\n",
    "* A typical futures contract requires one party to deliver a specified quantity of the underlying commodity (think of [15,000 pounds of frozen concentrated orange juice](https://www.ice.com/products/30/FCOJ-A-Futures)) to the other on the delivery date\n",
    "* But there are so many treasuries with various dates and coupon rates this won't work\n",
    "* Treasury futures are structured in a way that, all *similar* treasuries can be delivered\n",
    "    * But for a single futures contract you must deliver a single eligible bond; you cannot split one contract's delivery across two different bonds"
   ]
  },
  {
   "cell_type": "markdown",
   "id": "34bb191d-5674-46a3-8cba-e8ddda956f7a",
   "metadata": {
    "editable": true,
    "slideshow": {
     "slide_type": "slide"
    },
    "tags": []
   },
   "source": [
    "## Quotes\n",
    "\n",
    "* Treasury bond futures prices are quoted int he same way as the Treasury bond prices (the spot market)\n",
    "* Quotes are in dollars and 32nds of a dollar per $\\$100$ face value\n",
    "    * $110$-$03$ means $\\$110\\frac{3}{32}$ for a T-bond with face value $\\$100$\n",
    "    * One futures contract represents $\\$100,000$ face value of the delivered bonds so $1,000$ such bonds with face value $\\$100$\n",
    "    * If the quoted price dropded by $\\$1$, say from $110$-$03$ to $109$-$03$, the holder of a futures contract lose $\\$1,000$"
   ]
  },
  {
   "cell_type": "markdown",
   "id": "ce47d8a1-5f7a-447c-9c7d-6ae7474023cc",
   "metadata": {
    "editable": true,
    "slideshow": {
     "slide_type": "slide"
    },
    "tags": []
   },
   "source": [
    "## 6 Types of Treasury Futures\n",
    "\n",
    "* What bonds are deliverable? "
   ]
  },
  {
   "cell_type": "code",
   "execution_count": 14,
   "id": "eb252ab1-c7d1-41bb-bbe9-b044ce3c3216",
   "metadata": {
    "editable": true,
    "scrolled": true,
    "slideshow": {
     "slide_type": ""
    },
    "tags": []
   },
   "outputs": [
    {
     "data": {
      "text/html": [
       "<div>\n",
       "<style scoped>\n",
       "    .dataframe tbody tr th:only-of-type {\n",
       "        vertical-align: middle;\n",
       "    }\n",
       "\n",
       "    .dataframe tbody tr th {\n",
       "        vertical-align: top;\n",
       "    }\n",
       "\n",
       "    .dataframe thead th {\n",
       "        text-align: right;\n",
       "    }\n",
       "</style>\n",
       "<table border=\"1\" class=\"dataframe\">\n",
       "  <thead>\n",
       "    <tr style=\"text-align: right;\">\n",
       "      <th></th>\n",
       "      <th>Ticker</th>\n",
       "      <th>Remaining Term</th>\n",
       "      <th>Original Term</th>\n",
       "      <th>Notes</th>\n",
       "    </tr>\n",
       "  </thead>\n",
       "  <tbody>\n",
       "    <tr>\n",
       "      <th>2-Year T-Note Futures</th>\n",
       "      <td>ZTZ5</td>\n",
       "      <td>[1y9m, 2y]</td>\n",
       "      <td>&lt;= 5y3m</td>\n",
       "      <td></td>\n",
       "    </tr>\n",
       "    <tr>\n",
       "      <th>5-Year T-Note Futures</th>\n",
       "      <td>ZFZ5</td>\n",
       "      <td>&gt;= 4y2m</td>\n",
       "      <td>&lt;= 5y3m</td>\n",
       "      <td></td>\n",
       "    </tr>\n",
       "    <tr>\n",
       "      <th>10-Year T-Note Futures</th>\n",
       "      <td>ZNZ5</td>\n",
       "      <td>[6.5y, 8y]</td>\n",
       "      <td></td>\n",
       "      <td></td>\n",
       "    </tr>\n",
       "    <tr>\n",
       "      <th>Ultra 10-Year U.S. T-Note Futures</th>\n",
       "      <td>TNZ5</td>\n",
       "      <td>[9y5m, 10y]</td>\n",
       "      <td>10y</td>\n",
       "      <td></td>\n",
       "    </tr>\n",
       "    <tr>\n",
       "      <th>U.S. T-Bond Futures</th>\n",
       "      <td>ZBZ5</td>\n",
       "      <td>[15y, 25y)</td>\n",
       "      <td></td>\n",
       "      <td>Can be callable</td>\n",
       "    </tr>\n",
       "    <tr>\n",
       "      <th>Ultra U.S. T-Bond Futures</th>\n",
       "      <td>UBZ5</td>\n",
       "      <td>&gt;= 25y</td>\n",
       "      <td></td>\n",
       "      <td></td>\n",
       "    </tr>\n",
       "  </tbody>\n",
       "</table>\n",
       "</div>"
      ],
      "text/plain": [
       "                                  Ticker Remaining Term Original Term  \\\n",
       "2-Year T-Note Futures               ZTZ5     [1y9m, 2y]       <= 5y3m   \n",
       "5-Year T-Note Futures               ZFZ5        >= 4y2m       <= 5y3m   \n",
       "10-Year T-Note Futures              ZNZ5     [6.5y, 8y]                 \n",
       "Ultra 10-Year U.S. T-Note Futures   TNZ5    [9y5m, 10y]           10y   \n",
       "U.S. T-Bond Futures                 ZBZ5     [15y, 25y)                 \n",
       "Ultra U.S. T-Bond Futures           UBZ5         >= 25y                 \n",
       "\n",
       "                                             Notes  \n",
       "2-Year T-Note Futures                               \n",
       "5-Year T-Note Futures                               \n",
       "10-Year T-Note Futures                              \n",
       "Ultra 10-Year U.S. T-Note Futures                   \n",
       "U.S. T-Bond Futures                Can be callable  \n",
       "Ultra U.S. T-Bond Futures                           "
      ]
     },
     "execution_count": 14,
     "metadata": {},
     "output_type": "execute_result"
    }
   ],
   "source": [
    "table('treasury_futures')"
   ]
  },
  {
   "cell_type": "markdown",
   "id": "494ba341-4838-4f04-b9a0-e234ca2ddffa",
   "metadata": {
    "editable": true,
    "slideshow": {
     "slide_type": ""
    },
    "tags": []
   },
   "source": [
    "$$\n",
    "$$\n",
    "* The remaining term is counting from the first day of the contract delivery month Dec 2025\n",
    "* For specs of Treasury futures, see [cmegroup.com](https://www.cmegroup.com/) > MARKETS > Interest Rates > U.S. Treasuries\n",
    "    * More detailed spec in the [rule book](https://www.cmegroup.com/rulebook/CBOT/), for example [Chapter 18](https://www.cmegroup.com/rulebook/CBOT/II/18.pdf) for ZBZ5"
   ]
  },
  {
   "cell_type": "markdown",
   "id": "71d0bfd2-0daa-4efd-8add-b336320c23d4",
   "metadata": {
    "editable": true,
    "slideshow": {
     "slide_type": "slide"
    },
    "tags": []
   },
   "source": [
    "## Delivery Month Code\n",
    "\n",
    "* ZBZ5 means Dec 2025 contract, ZBH6 means Mar 2025 contract, etc.\n",
    "\n",
    "$$\n",
    "$$\n",
    "\n",
    "| Code | Month | Code | Month | Code | Month |\n",
    "|:-----|:------|:-----|:------|:-----|:------|\n",
    "| F | January | G | February | H | March |\n",
    "| J | April | K | May | M | June |\n",
    "| N | July | Q | August | U | September |\n",
    "| V | October | X | November | Z | December |\n",
    "\n",
    "$$\n",
    "$$\n",
    "\n",
    "* There are **quarterly futures** for March, June, September and December (HMUZ) and **serial futures** for other \"off-quarter\" months\n",
    "* For Treasury futures, only quarterly are trading. For SOFR futures, serial are also trading\n",
    "* Quarterly are much more liquid and important"
   ]
  },
  {
   "cell_type": "markdown",
   "id": "c12ae235-d025-43b3-a949-928628f7f61e",
   "metadata": {
    "editable": true,
    "slideshow": {
     "slide_type": "slide"
    },
    "tags": []
   },
   "source": [
    "## Conversion Factor\n",
    "\n",
    "* Because you can choose to deliver from a basket of bonds, it wouldn't make sense to settle all contracts with one single futures settlement price. It has to be adjusted\n",
    "* Cash received by the short when a bond is delivered is\n",
    "$$\n",
    "(\\text{Futures settlement} \\times \\text{Conversion factor}) + \\text{Accrued interest}\n",
    "$$\n",
    "* Futures settlement is the most recent futures settlement price\n",
    "* Roughly speaking, the conversion factor should be larger when the delivered bonds are more expensive"
   ]
  },
  {
   "cell_type": "markdown",
   "id": "c6073910-969d-4e38-8c91-f2d96b1e520b",
   "metadata": {
    "editable": true,
    "slideshow": {
     "slide_type": "slide"
    },
    "tags": []
   },
   "source": [
    "## Conversion Factor: Example\n",
    "\n",
    "$$\n",
    "$$\n",
    "$$\n",
    "(\\text{Futures settlement} \\times \\text{Conversion factor}) + \\text{Accrued interest}\n",
    "$$\n",
    "* Assuming\n",
    "    * Settlement price is $90$-$00$\n",
    "    * Conversion factor for the bond delivered is $1.38$\n",
    "    * Accrued interest on this bond at the time of delivery is $\\$3$ per $\\$100$ face value\n",
    "* Cash received by the party with the short position is\n",
    "$$\n",
    "(90.00\\times 1.3800) + 3.00 = \\$127.20\n",
    "$$\n",
    "per $\\$100$ face value. Since one contract delivers bonds with a face value of $\\$100,000$, overall cash received is $\\$127,200$"
   ]
  },
  {
   "cell_type": "markdown",
   "id": "3f3df8ed-faa0-4f0e-8a83-8ab5755aacc1",
   "metadata": {
    "editable": true,
    "slideshow": {
     "slide_type": "slide"
    },
    "tags": []
   },
   "source": [
    "## Computing the Conversion Factor\n",
    "\n",
    "* The conversion factor for a bond is equal to the quoted price the bond would have per dollar of principal on the first day of the delivery month on the assumption that the interest rate for all maturities equals $6\\%$ per annum (with semiannual compounding)"
   ]
  },
  {
   "cell_type": "markdown",
   "id": "c4324251-41e1-49d7-be19-8a82c37caf91",
   "metadata": {
    "editable": true,
    "slideshow": {
     "slide_type": "fragment"
    },
    "tags": []
   },
   "source": [
    "* The bond maturity and the times to the coupon payment dates are rounded down to the nearest 3 months"
   ]
  },
  {
   "cell_type": "markdown",
   "id": "3fb6be36-b581-442e-b1b7-125c080586ee",
   "metadata": {
    "editable": true,
    "slideshow": {
     "slide_type": "fragment"
    },
    "tags": []
   },
   "source": [
    "* If, after rounding, the bond lasts for an exact number of 6-month periods, the first coupon is assumed to be paid in 6 months"
   ]
  },
  {
   "cell_type": "markdown",
   "id": "2d92de18-d51f-45fc-b1f6-567557ebcfe2",
   "metadata": {
    "editable": true,
    "slideshow": {
     "slide_type": "fragment"
    },
    "tags": []
   },
   "source": [
    "* If, after rounding, the bond does not last for an exact number of 6-month periods (i.e., there are an extra 3 months), the first coupon is assumed to be paid in 3 months and accrued interest is subtracted"
   ]
  },
  {
   "cell_type": "markdown",
   "id": "25ba0c6e-1f36-45a8-8758-0eefedf6f0a8",
   "metadata": {
    "editable": true,
    "slideshow": {
     "slide_type": "slide"
    },
    "tags": []
   },
   "source": [
    "## Computing the Conversion Factor: Example\n",
    "\n",
    "* Consider a $10\\%$ coupon bond with 20 years and 2 months to maturity\n",
    "    * Each semiannual coupon payment is $5\\%$\n",
    "* First round down to 20 years\n",
    "* Assuming face value is $\\$100$, when the annualized discount rate is $6\\%$ (or $3\\%$ semiannually), the value of the bond is\n",
    "$$\n",
    "\\sum_{j=1}^{40}\\frac{5}{1.03^j} + \\frac{100}{1.03^{40}} = \\$146.23\n",
    "$$\n",
    "* Dividing by the face value gives a conversion factor of $1.4623$"
   ]
  },
  {
   "cell_type": "markdown",
   "id": "555e83f7-a811-42b5-9515-a3949bdc763b",
   "metadata": {
    "editable": true,
    "slideshow": {
     "slide_type": "slide"
    },
    "tags": []
   },
   "source": [
    "## Cheapest-To-Deliver (CTD) Bond\n",
    "\n",
    "* The conversion factors only roughly adjust the differences of deliverable bonds. There is still one that's the cheapest to deliver\n",
    "* The party with a short position needs to deliver the bonds and receive cash\n",
    "$$\n",
    "(\\text{Futures settlement} \\times \\text{Conversion factor}) + \\text{Accrued interest}\n",
    "$$"
   ]
  },
  {
   "cell_type": "markdown",
   "id": "fe256261-16a7-4592-9a39-afa1524ad76d",
   "metadata": {
    "editable": true,
    "slideshow": {
     "slide_type": "fragment"
    },
    "tags": []
   },
   "source": [
    "* The party can deliver the bonds it just purchased in the market at\n",
    "$$\n",
    "\\text{Quoted bond price} + \\text{Accrued interest}\n",
    "$$"
   ]
  },
  {
   "cell_type": "markdown",
   "id": "c582b85f-ba8a-496a-b3b9-5e7d860e76bd",
   "metadata": {
    "editable": true,
    "slideshow": {
     "slide_type": "fragment"
    },
    "tags": []
   },
   "source": [
    "* The cost to do so is therefore\n",
    "$$\n",
    "\\text{Quoted bond price} - (\\text{Futures settlement} \\times \\text{Conversion factor})\n",
    "$$"
   ]
  },
  {
   "cell_type": "markdown",
   "id": "5e3f98b8-4779-46a8-89c5-3170b3487d48",
   "metadata": {
    "editable": true,
    "slideshow": {
     "slide_type": "fragment"
    },
    "tags": []
   },
   "source": [
    "* The party should (and will) choose the bond that minimizes the cost to deliver"
   ]
  },
  {
   "cell_type": "markdown",
   "id": "3ccffb0f-56e9-4104-9333-d1ba6c2d213f",
   "metadata": {
    "editable": true,
    "slideshow": {
     "slide_type": "slide"
    },
    "tags": []
   },
   "source": [
    "## CTD Bond: Example"
   ]
  },
  {
   "cell_type": "markdown",
   "id": "b10bf45e-867b-4b4f-9668-d3c4cb69bba1",
   "metadata": {
    "editable": true,
    "slideshow": {
     "slide_type": ""
    },
    "tags": []
   },
   "source": [
    "* Assuming the most recent futures settlement price is $93$-$08$, or $93.25$ and we have 3 deliverable bonds as below: "
   ]
  },
  {
   "cell_type": "code",
   "execution_count": 16,
   "id": "c442a7e7-2086-4b9c-a9d7-b051d578ccec",
   "metadata": {
    "editable": true,
    "slideshow": {
     "slide_type": ""
    },
    "tags": []
   },
   "outputs": [
    {
     "data": {
      "text/html": [
       "<div>\n",
       "<style scoped>\n",
       "    .dataframe tbody tr th:only-of-type {\n",
       "        vertical-align: middle;\n",
       "    }\n",
       "\n",
       "    .dataframe tbody tr th {\n",
       "        vertical-align: top;\n",
       "    }\n",
       "\n",
       "    .dataframe thead th {\n",
       "        text-align: right;\n",
       "    }\n",
       "</style>\n",
       "<table border=\"1\" class=\"dataframe\">\n",
       "  <thead>\n",
       "    <tr style=\"text-align: right;\">\n",
       "      <th></th>\n",
       "      <th>Quoted Price ($)</th>\n",
       "      <th>Conversion Factor</th>\n",
       "    </tr>\n",
       "  </thead>\n",
       "  <tbody>\n",
       "    <tr>\n",
       "      <th>Bond 1</th>\n",
       "      <td>99.50</td>\n",
       "      <td>1.0382</td>\n",
       "    </tr>\n",
       "    <tr>\n",
       "      <th>Bond 2</th>\n",
       "      <td>143.50</td>\n",
       "      <td>1.5188</td>\n",
       "    </tr>\n",
       "    <tr>\n",
       "      <th>Bond 3</th>\n",
       "      <td>119.75</td>\n",
       "      <td>1.2615</td>\n",
       "    </tr>\n",
       "  </tbody>\n",
       "</table>\n",
       "</div>"
      ],
      "text/plain": [
       "        Quoted Price ($)  Conversion Factor\n",
       "Bond 1             99.50             1.0382\n",
       "Bond 2            143.50             1.5188\n",
       "Bond 3            119.75             1.2615"
      ]
     },
     "execution_count": 16,
     "metadata": {},
     "output_type": "execute_result"
    }
   ],
   "source": [
    "table('ctd_bond')"
   ]
  },
  {
   "cell_type": "markdown",
   "id": "b6e54e95-0f88-4408-a2f9-a137ce749ac1",
   "metadata": {
    "editable": true,
    "slideshow": {
     "slide_type": ""
    },
    "tags": []
   },
   "source": [
    "* The cost of delivering each is\n",
    "\\begin{align*}\n",
    "&\\text{Bond 1: }\\quad 99.5 - (93.25\\times 1.0382) = \\$2.69\\\\\n",
    "&\\text{Bond 2: }\\quad 143.5 - (93.25\\times 1.5188) = \\$1.87\\\\\n",
    "&\\text{Bond 3: }\\quad 119.75 - (93.25\\times 1.2615) = \\$2.12\\\\\n",
    "\\end{align*}\n",
    "* The CTD bond is Bond 2"
   ]
  }
 ],
 "metadata": {
  "kernelspec": {
   "display_name": "Python 3 (ipykernel)",
   "language": "python",
   "name": "python3"
  },
  "language_info": {
   "codemirror_mode": {
    "name": "ipython",
    "version": 3
   },
   "file_extension": ".py",
   "mimetype": "text/x-python",
   "name": "python",
   "nbconvert_exporter": "python",
   "pygments_lexer": "ipython3",
   "version": "3.12.4"
  }
 },
 "nbformat": 4,
 "nbformat_minor": 5
}
